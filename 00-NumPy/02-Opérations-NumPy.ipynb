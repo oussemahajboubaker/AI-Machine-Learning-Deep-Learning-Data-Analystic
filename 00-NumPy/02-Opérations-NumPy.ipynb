{
 "cells": [
  {
   "cell_type": "markdown",
   "metadata": {
    "colab_type": "text",
    "id": "t8nfgmelpumN"
   },
   "source": [
    "# Opérations NumPy"
   ]
  },
  {
   "cell_type": "markdown",
   "metadata": {
    "colab_type": "text",
    "id": "hOspT59hp0FP"
   },
   "source": [
    "## Arithmétique\n",
    "\n",
    "Vous pouvez facilement effectuer des opérations arithmétiques *array avec array*, ou *scalaire avec array*. Voyons quelques exemples :"
   ]
  },
  {
   "cell_type": "code",
   "execution_count": null,
   "metadata": {
    "colab": {},
    "colab_type": "code",
    "id": "zMSXznJ1pxlW"
   },
   "outputs": [],
   "source": [
    "import numpy as np"
   ]
  },
  {
   "cell_type": "code",
   "execution_count": null,
   "metadata": {
    "colab": {
     "base_uri": "https://localhost:8080/",
     "height": 34
    },
    "colab_type": "code",
    "executionInfo": {
     "elapsed": 498,
     "status": "ok",
     "timestamp": 1591447435516,
     "user": {
      "displayName": "Rod Paris",
      "photoUrl": "",
      "userId": "10535238717210992784"
     },
     "user_tz": -120
    },
    "id": "GzAQ0j8lqJqA",
    "outputId": "87913fe5-6351-46e8-f4a9-20927a5dcc07"
   },
   "outputs": [],
   "source": [
    "arr = np.arange(0,10)\n",
    "arr"
   ]
  },
  {
   "cell_type": "code",
   "execution_count": null,
   "metadata": {
    "colab": {
     "base_uri": "https://localhost:8080/",
     "height": 34
    },
    "colab_type": "code",
    "executionInfo": {
     "elapsed": 542,
     "status": "ok",
     "timestamp": 1591447441217,
     "user": {
      "displayName": "Rod Paris",
      "photoUrl": "",
      "userId": "10535238717210992784"
     },
     "user_tz": -120
    },
    "id": "NFfWw82iqLbY",
    "outputId": "c4331244-2296-4332-ec4d-12f206468be6"
   },
   "outputs": [],
   "source": [
    "arr + arr"
   ]
  },
  {
   "cell_type": "code",
   "execution_count": null,
   "metadata": {
    "colab": {
     "base_uri": "https://localhost:8080/",
     "height": 34
    },
    "colab_type": "code",
    "executionInfo": {
     "elapsed": 512,
     "status": "ok",
     "timestamp": 1591447448655,
     "user": {
      "displayName": "Rod Paris",
      "photoUrl": "",
      "userId": "10535238717210992784"
     },
     "user_tz": -120
    },
    "id": "GgPRQR4xqMzy",
    "outputId": "95b334cb-94d7-42de-8d9d-c6715dc489cb"
   },
   "outputs": [],
   "source": [
    "arr * arr"
   ]
  },
  {
   "cell_type": "code",
   "execution_count": null,
   "metadata": {
    "colab": {
     "base_uri": "https://localhost:8080/",
     "height": 34
    },
    "colab_type": "code",
    "executionInfo": {
     "elapsed": 495,
     "status": "ok",
     "timestamp": 1591447454577,
     "user": {
      "displayName": "Rod Paris",
      "photoUrl": "",
      "userId": "10535238717210992784"
     },
     "user_tz": -120
    },
    "id": "FaCitbgTqOoW",
    "outputId": "e6ce9e29-d8c1-4366-a9e5-562752c61a4a"
   },
   "outputs": [],
   "source": [
    "arr - arr"
   ]
  },
  {
   "cell_type": "code",
   "execution_count": null,
   "metadata": {
    "colab": {
     "base_uri": "https://localhost:8080/",
     "height": 70
    },
    "colab_type": "code",
    "executionInfo": {
     "elapsed": 519,
     "status": "ok",
     "timestamp": 1591447496700,
     "user": {
      "displayName": "Rod Paris",
      "photoUrl": "",
      "userId": "10535238717210992784"
     },
     "user_tz": -120
    },
    "id": "_0wpQkuHqQFK",
    "outputId": "f12349e6-5b2e-4f23-e4bd-359ae09c4208"
   },
   "outputs": [],
   "source": [
    "# Cela entraînera un avertissement sur la division par zéro, mais pas une erreur !\n",
    "# Il remplit juste l'emplacement' avec du nan\n",
    "arr / arr"
   ]
  },
  {
   "cell_type": "code",
   "execution_count": null,
   "metadata": {
    "colab": {
     "base_uri": "https://localhost:8080/",
     "height": 87
    },
    "colab_type": "code",
    "executionInfo": {
     "elapsed": 463,
     "status": "ok",
     "timestamp": 1591447513466,
     "user": {
      "displayName": "Rod Paris",
      "photoUrl": "",
      "userId": "10535238717210992784"
     },
     "user_tz": -120
    },
    "id": "INh_F__DqaW7",
    "outputId": "7f6bd286-34e5-4cb6-b952-dd166061a790"
   },
   "outputs": [],
   "source": [
    "# Egalement un avertissement (mais pas une erreur) relatif à l'infini\n",
    "1 / arr"
   ]
  },
  {
   "cell_type": "code",
   "execution_count": null,
   "metadata": {
    "colab": {
     "base_uri": "https://localhost:8080/",
     "height": 34
    },
    "colab_type": "code",
    "executionInfo": {
     "elapsed": 515,
     "status": "ok",
     "timestamp": 1591447525354,
     "user": {
      "displayName": "Rod Paris",
      "photoUrl": "",
      "userId": "10535238717210992784"
     },
     "user_tz": -120
    },
    "id": "bZrNXuehqedv",
    "outputId": "c605bb05-452a-4ca4-fd4c-0e19f52e449b"
   },
   "outputs": [],
   "source": [
    "arr ** 3"
   ]
  },
  {
   "cell_type": "markdown",
   "metadata": {
    "colab_type": "text",
    "id": "PHI21wN-qm03"
   },
   "source": [
    "## Fonctions de tableau universelles\n",
    "\n",
    "NumPy est fourni avec de nombreuses [fonctions de tableau universelles] (http://docs.scipy.org/doc/numpy/reference/ufuncs.html), ou <em>ufuncs</em>, qui sont simplement des opérations mathématiques pouvant être appliquées à l'ensemble du tableau :"
   ]
  },
  {
   "cell_type": "code",
   "execution_count": null,
   "metadata": {
    "colab": {
     "base_uri": "https://localhost:8080/",
     "height": 52
    },
    "colab_type": "code",
    "executionInfo": {
     "elapsed": 490,
     "status": "ok",
     "timestamp": 1591447612186,
     "user": {
      "displayName": "Rod Paris",
      "photoUrl": "",
      "userId": "10535238717210992784"
     },
     "user_tz": -120
    },
    "id": "jF67D1xLqhW1",
    "outputId": "c41db19b-c72f-4268-c6be-35b8abd30d33"
   },
   "outputs": [],
   "source": [
    "# Racine carrée\n",
    "np.sqrt(arr)"
   ]
  },
  {
   "cell_type": "code",
   "execution_count": null,
   "metadata": {
    "colab": {
     "base_uri": "https://localhost:8080/",
     "height": 70
    },
    "colab_type": "code",
    "executionInfo": {
     "elapsed": 522,
     "status": "ok",
     "timestamp": 1591447624081,
     "user": {
      "displayName": "Rod Paris",
      "photoUrl": "",
      "userId": "10535238717210992784"
     },
     "user_tz": -120
    },
    "id": "bCjI9HjMq2j5",
    "outputId": "af762283-28ba-4442-e725-5c2c1ac61ff4"
   },
   "outputs": [],
   "source": [
    "# Calculer l'exponentielle (e^)\n",
    "np.exp(arr)"
   ]
  },
  {
   "cell_type": "code",
   "execution_count": null,
   "metadata": {
    "colab": {
     "base_uri": "https://localhost:8080/",
     "height": 52
    },
    "colab_type": "code",
    "executionInfo": {
     "elapsed": 488,
     "status": "ok",
     "timestamp": 1591447646886,
     "user": {
      "displayName": "Rod Paris",
      "photoUrl": "",
      "userId": "10535238717210992784"
     },
     "user_tz": -120
    },
    "id": "vHlZT_crq5dW",
    "outputId": "1e1cc64b-e789-44fd-dcc6-1fc36f93b614"
   },
   "outputs": [],
   "source": [
    "# Fonctions trigonométriques comme le sinus\n",
    "np.sin(arr)"
   ]
  },
  {
   "cell_type": "code",
   "execution_count": null,
   "metadata": {
    "colab": {
     "base_uri": "https://localhost:8080/",
     "height": 87
    },
    "colab_type": "code",
    "executionInfo": {
     "elapsed": 507,
     "status": "ok",
     "timestamp": 1591447666499,
     "user": {
      "displayName": "Rod Paris",
      "photoUrl": "",
      "userId": "10535238717210992784"
     },
     "user_tz": -120
    },
    "id": "5DRxedEfq_CL",
    "outputId": "6ae0f4b7-164b-49dc-9873-2ba20983b372"
   },
   "outputs": [],
   "source": [
    "# Prendre le logarithme\n",
    "np.log(arr)"
   ]
  },
  {
   "cell_type": "markdown",
   "metadata": {
    "colab_type": "text",
    "id": "MkIdmDdJrHjW"
   },
   "source": [
    "## Statistiques sommaires sur les tableaux\n",
    "\n",
    "NumPy propose également des statistiques récapitulatives communes telles que <em>somme</em>, <em>moyenne</em> et <em>max</em>. On les appelle comme des méthodes sur un tableau."
   ]
  },
  {
   "cell_type": "code",
   "execution_count": null,
   "metadata": {
    "colab": {
     "base_uri": "https://localhost:8080/",
     "height": 34
    },
    "colab_type": "code",
    "executionInfo": {
     "elapsed": 505,
     "status": "ok",
     "timestamp": 1591447719051,
     "user": {
      "displayName": "Rod Paris",
      "photoUrl": "",
      "userId": "10535238717210992784"
     },
     "user_tz": -120
    },
    "id": "m1b9mPXXrD0E",
    "outputId": "51e4f1ca-e630-4c62-f9c0-024910851e99"
   },
   "outputs": [],
   "source": [
    "arr = np.arange(0,10)\n",
    "arr"
   ]
  },
  {
   "cell_type": "code",
   "execution_count": null,
   "metadata": {
    "colab": {
     "base_uri": "https://localhost:8080/",
     "height": 34
    },
    "colab_type": "code",
    "executionInfo": {
     "elapsed": 581,
     "status": "ok",
     "timestamp": 1591447726887,
     "user": {
      "displayName": "Rod Paris",
      "photoUrl": "",
      "userId": "10535238717210992784"
     },
     "user_tz": -120
    },
    "id": "NxhVwKZ_rQpT",
    "outputId": "b07085a1-80ca-40f1-e50b-0c3e8fb772a5"
   },
   "outputs": [],
   "source": [
    "arr.sum()"
   ]
  },
  {
   "cell_type": "code",
   "execution_count": null,
   "metadata": {
    "colab": {
     "base_uri": "https://localhost:8080/",
     "height": 34
    },
    "colab_type": "code",
    "executionInfo": {
     "elapsed": 585,
     "status": "ok",
     "timestamp": 1591447734389,
     "user": {
      "displayName": "Rod Paris",
      "photoUrl": "",
      "userId": "10535238717210992784"
     },
     "user_tz": -120
    },
    "id": "wFgMRuiLrSim",
    "outputId": "308955bc-722c-4e12-f741-d00407011188"
   },
   "outputs": [],
   "source": [
    "arr.mean()"
   ]
  },
  {
   "cell_type": "code",
   "execution_count": null,
   "metadata": {
    "colab": {
     "base_uri": "https://localhost:8080/",
     "height": 34
    },
    "colab_type": "code",
    "executionInfo": {
     "elapsed": 474,
     "status": "ok",
     "timestamp": 1591447742244,
     "user": {
      "displayName": "Rod Paris",
      "photoUrl": "",
      "userId": "10535238717210992784"
     },
     "user_tz": -120
    },
    "id": "cYSU3vNarUWc",
    "outputId": "db7162b8-2439-4983-b954-81c90b220549"
   },
   "outputs": [],
   "source": [
    "arr.max()"
   ]
  },
  {
   "cell_type": "markdown",
   "metadata": {
    "colab_type": "text",
    "id": "70jNiw3Lrbmw"
   },
   "source": [
    "<strong> D'autres statistiques sommaires incluent :</strong>\n",
    "<pre>\n",
    "arr.min() retourne 0, c'est le minimum\n",
    "arr.var() retourne une variance de 8,25\n",
    "arr.std() retourne 2,8722813232690143, c'est l'écart type\n",
    "</pre>"
   ]
  },
  {
   "cell_type": "markdown",
   "metadata": {
    "colab_type": "text",
    "id": "sCI6gjRtrtDA"
   },
   "source": [
    "## Logique des axes\n",
    "Lorsque nous travaillons avec des tableaux à deux dimensions (matrices), nous devons tenir compte des lignes et des colonnes. Cela devient très important lorsque nous arrivons à la section sur Pandas. En termes de tableaux, l'axe 0 (zéro) est l'axe vertical (lignes), et l'axe 1 est l'axe horizontal (colonnes). Ces valeurs (0,1) correspondent à l'ordre dans lequel les valeurs <tt>arr.shape</tt> sont retournées.\n",
    "\n",
    "Voyons comment cela affecte nos calculs de statistiques sommaires vus ci-dessus."
   ]
  },
  {
   "cell_type": "code",
   "execution_count": null,
   "metadata": {
    "colab": {
     "base_uri": "https://localhost:8080/",
     "height": 70
    },
    "colab_type": "code",
    "executionInfo": {
     "elapsed": 378,
     "status": "ok",
     "timestamp": 1591447910577,
     "user": {
      "displayName": "Rod Paris",
      "photoUrl": "",
      "userId": "10535238717210992784"
     },
     "user_tz": -120
    },
    "id": "-i718Kc0rWUI",
    "outputId": "7a3acd73-9282-440d-904b-098c9f3aa8bb"
   },
   "outputs": [],
   "source": [
    "arr_2d = np.array([[1,2,3,4],[5,6,7,8],[9,10,11,12]])\n",
    "arr_2d"
   ]
  },
  {
   "cell_type": "code",
   "execution_count": null,
   "metadata": {
    "colab": {
     "base_uri": "https://localhost:8080/",
     "height": 34
    },
    "colab_type": "code",
    "executionInfo": {
     "elapsed": 488,
     "status": "ok",
     "timestamp": 1591447917519,
     "user": {
      "displayName": "Rod Paris",
      "photoUrl": "",
      "userId": "10535238717210992784"
     },
     "user_tz": -120
    },
    "id": "V1owmvx_r_aw",
    "outputId": "9f5c2626-a16b-486c-e4cc-196d13e83cf4"
   },
   "outputs": [],
   "source": [
    "arr_2d.sum(axis=0)"
   ]
  },
  {
   "cell_type": "markdown",
   "metadata": {
    "colab_type": "text",
    "id": "HHEfOBHKsD40"
   },
   "source": [
    "En passant <tt>axis=0</tt>, nous retournons un tableau de sommes le long de l'axe vertical, c'est-à-dire <tt>[(1+5+9), (2+6+10), (3+7+11), (4+8+12)]</tt>\n",
    "\n",
    "<img src='https://drive.google.com/uc?export=view&id=1MuhzdKMF-knlcNX4rm3hBD8x1j3Abb0L' width=400/>"
   ]
  },
  {
   "cell_type": "code",
   "execution_count": null,
   "metadata": {
    "colab": {
     "base_uri": "https://localhost:8080/",
     "height": 34
    },
    "colab_type": "code",
    "executionInfo": {
     "elapsed": 567,
     "status": "ok",
     "timestamp": 1591448047113,
     "user": {
      "displayName": "Rod Paris",
      "photoUrl": "",
      "userId": "10535238717210992784"
     },
     "user_tz": -120
    },
    "id": "sDjdVYt1sBGq",
    "outputId": "ff57a1dc-388e-4a0e-e934-1e1a4b89a4a7"
   },
   "outputs": [],
   "source": [
    "arr_2d.shape"
   ]
  },
  {
   "cell_type": "markdown",
   "metadata": {
    "colab_type": "text",
    "id": "YDB3646CskpK"
   },
   "source": [
    "Cela nous indique que <tt>arr_2d</tt> a 3 lignes et 4 colonnes.\n",
    "\n",
    "Dans <tt>arr_2d.sum(axis=0)</tt> ci-dessus, le premier élément de chaque ligne a été additionné, puis le deuxième élément, et ainsi de suite.\n",
    "\n",
    "Que doit donc retourner <tt>arr_2d.sum(axis=1)</tt> ?"
   ]
  },
  {
   "cell_type": "code",
   "execution_count": null,
   "metadata": {
    "colab": {},
    "colab_type": "code",
    "id": "XRiDxoT2sguT"
   },
   "outputs": [],
   "source": [
    "# REFLECHISSEZ À CE QUE CELA DOIT VOUS RETOURNER AVANT D'EXECUTER LA CELLULE' !\n",
    "arr_2d.sum(axis=1)"
   ]
  }
 ],
 "metadata": {
  "colab": {
   "authorship_tag": "ABX9TyO4ycUlwbXjdtCL3gxbZddb",
   "name": "02-Opérations-NumPy.ipynb",
   "provenance": []
  },
  "kernelspec": {
   "display_name": "Python 3 (ipykernel)",
   "language": "python",
   "name": "python3"
  },
  "language_info": {
   "codemirror_mode": {
    "name": "ipython",
    "version": 3
   },
   "file_extension": ".py",
   "mimetype": "text/x-python",
   "name": "python",
   "nbconvert_exporter": "python",
   "pygments_lexer": "ipython3",
   "version": "3.8.11"
  }
 },
 "nbformat": 4,
 "nbformat_minor": 1
}
