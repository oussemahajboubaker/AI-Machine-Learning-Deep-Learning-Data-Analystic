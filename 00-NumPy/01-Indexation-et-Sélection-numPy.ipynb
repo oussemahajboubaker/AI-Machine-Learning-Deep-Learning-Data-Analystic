{
 "cells": [
  {
   "cell_type": "markdown",
   "metadata": {
    "colab_type": "text",
    "id": "a5kF8msxsKql"
   },
   "source": [
    "# Indexation et Sélection NumPy\n",
    "\n",
    "Dans cette session, nous discuterons de la manière de sélectionner des éléments ou des groupes d'éléments dans un tableau."
   ]
  },
  {
   "cell_type": "code",
   "execution_count": null,
   "metadata": {
    "colab": {},
    "colab_type": "code",
    "id": "wnCtOdA4sa5M"
   },
   "outputs": [],
   "source": [
    "import numpy as np"
   ]
  },
  {
   "cell_type": "code",
   "execution_count": null,
   "metadata": {
    "colab": {},
    "colab_type": "code",
    "id": "nK6ldEVUsdBt"
   },
   "outputs": [],
   "source": [
    "# Création d'un tableau d'échantillons\n",
    "arr = np.arange(0,11)"
   ]
  },
  {
   "cell_type": "code",
   "execution_count": null,
   "metadata": {
    "colab": {
     "base_uri": "https://localhost:8080/",
     "height": 34
    },
    "colab_type": "code",
    "executionInfo": {
     "elapsed": 1144,
     "status": "ok",
     "timestamp": 1591112518567,
     "user": {
      "displayName": "Rod Paris",
      "photoUrl": "",
      "userId": "10535238717210992784"
     },
     "user_tz": -120
    },
    "id": "GLphKyRHsh3x",
    "outputId": "91295a0f-c2f7-468e-b590-23eda244d588"
   },
   "outputs": [],
   "source": [
    "# Affichage\n",
    "arr"
   ]
  },
  {
   "cell_type": "markdown",
   "metadata": {
    "colab_type": "text",
    "id": "P3cAntphsn8z"
   },
   "source": [
    "## Indexation et Sélection avec crochets (bracket)\n",
    "La façon la plus simple de choisir un ou plusieurs éléments d'un tableau ressemble beaucoup aux listes python :"
   ]
  },
  {
   "cell_type": "code",
   "execution_count": null,
   "metadata": {
    "colab": {
     "base_uri": "https://localhost:8080/",
     "height": 34
    },
    "colab_type": "code",
    "executionInfo": {
     "elapsed": 477,
     "status": "ok",
     "timestamp": 1591112635929,
     "user": {
      "displayName": "Rod Paris",
      "photoUrl": "",
      "userId": "10535238717210992784"
     },
     "user_tz": -120
    },
    "id": "OJ1xY06oskb8",
    "outputId": "e09901b9-b7a7-4a08-d3e0-5d693e71757f"
   },
   "outputs": [],
   "source": [
    "# Obtenir une valeur correspondant à un certain indice\n",
    "arr[8]"
   ]
  },
  {
   "cell_type": "code",
   "execution_count": null,
   "metadata": {
    "colab": {
     "base_uri": "https://localhost:8080/",
     "height": 34
    },
    "colab_type": "code",
    "executionInfo": {
     "elapsed": 905,
     "status": "ok",
     "timestamp": 1591112673635,
     "user": {
      "displayName": "Rod Paris",
      "photoUrl": "",
      "userId": "10535238717210992784"
     },
     "user_tz": -120
    },
    "id": "Gki00EFetBQE",
    "outputId": "c192e4ea-77bd-4eed-b527-f1fb17a803f4"
   },
   "outputs": [],
   "source": [
    "# Obtenir des valeurs dans un intervalle\n",
    "arr[1:5]"
   ]
  },
  {
   "cell_type": "code",
   "execution_count": null,
   "metadata": {
    "colab": {
     "base_uri": "https://localhost:8080/",
     "height": 34
    },
    "colab_type": "code",
    "executionInfo": {
     "elapsed": 344,
     "status": "ok",
     "timestamp": 1591112696669,
     "user": {
      "displayName": "Rod Paris",
      "photoUrl": "",
      "userId": "10535238717210992784"
     },
     "user_tz": -120
    },
    "id": "NOe_AMIVtKWd",
    "outputId": "5635be6d-ca6d-44e7-a1a7-cbe68fc56a2a"
   },
   "outputs": [],
   "source": [
    "# Obtenir des valeurs dans un intervalle\n",
    "arr[0:5]"
   ]
  },
  {
   "cell_type": "markdown",
   "metadata": {
    "colab_type": "text",
    "id": "FtNY1mVUtT12"
   },
   "source": [
    "## Broadcasting\n",
    "\n",
    "Les tableaux NumPy diffèrent des listes Python normales en raison de leur capacité à diffuser. Avec les listes, vous ne pouvez réassigner que des parties d'une liste avec de nouvelles parties de même taille et de même forme. Autrement dit, si vous vouliez remplacer les 5 premiers éléments d'une liste par une nouvelle valeur, vous devriez passer dans une nouvelle liste de 5 éléments. Avec les tableaux NumPy, vous pouvez diffuser une seule valeur sur un ensemble plus large de valeurs :"
   ]
  },
  {
   "cell_type": "code",
   "execution_count": null,
   "metadata": {
    "colab": {
     "base_uri": "https://localhost:8080/",
     "height": 34
    },
    "colab_type": "code",
    "executionInfo": {
     "elapsed": 514,
     "status": "ok",
     "timestamp": 1591112805291,
     "user": {
      "displayName": "Rod Paris",
      "photoUrl": "",
      "userId": "10535238717210992784"
     },
     "user_tz": -120
    },
    "id": "yMgVnl2XtP_K",
    "outputId": "13ae61a2-4036-4362-c7e9-f68f33ff28e9"
   },
   "outputs": [],
   "source": [
    "# Définir une valeur avec un intervalle d'index (broadcasting)\n",
    "arr[0:5] = 100\n",
    "\n",
    "# Affichage\n",
    "arr"
   ]
  },
  {
   "cell_type": "code",
   "execution_count": null,
   "metadata": {
    "colab": {
     "base_uri": "https://localhost:8080/",
     "height": 34
    },
    "colab_type": "code",
    "executionInfo": {
     "elapsed": 1368,
     "status": "ok",
     "timestamp": 1591113011515,
     "user": {
      "displayName": "Rod Paris",
      "photoUrl": "",
      "userId": "10535238717210992784"
     },
     "user_tz": -120
    },
    "id": "QB5kTAMqtqlw",
    "outputId": "511f2670-ff10-4b77-9f68-54a6524707d7"
   },
   "outputs": [],
   "source": [
    "# Réinitialiser le tableau\n",
    "arr = np.arange(0,11)\n",
    "\n",
    "# Affichage\n",
    "arr"
   ]
  },
  {
   "cell_type": "code",
   "execution_count": null,
   "metadata": {
    "colab": {
     "base_uri": "https://localhost:8080/",
     "height": 34
    },
    "colab_type": "code",
    "executionInfo": {
     "elapsed": 491,
     "status": "ok",
     "timestamp": 1591113047210,
     "user": {
      "displayName": "Rod Paris",
      "photoUrl": "",
      "userId": "10535238717210992784"
     },
     "user_tz": -120
    },
    "id": "CDswQ-H4ucub",
    "outputId": "949a39dd-b7bb-4c4a-a0f5-211e4ed19ae0"
   },
   "outputs": [],
   "source": [
    "# Notes importantes sur les tranches (slicing)\n",
    "slice_of_arr = arr[0:6]\n",
    "\n",
    "# Afficher la tranche\n",
    "slice_of_arr"
   ]
  },
  {
   "cell_type": "code",
   "execution_count": null,
   "metadata": {
    "colab": {
     "base_uri": "https://localhost:8080/",
     "height": 34
    },
    "colab_type": "code",
    "executionInfo": {
     "elapsed": 539,
     "status": "ok",
     "timestamp": 1591113103685,
     "user": {
      "displayName": "Rod Paris",
      "photoUrl": "",
      "userId": "10535238717210992784"
     },
     "user_tz": -120
    },
    "id": "CMcyoCf-ulqB",
    "outputId": "c278d5ca-bff5-4b64-c942-ece4e5d888e1"
   },
   "outputs": [],
   "source": [
    "# Changer la tranche\n",
    "slice_of_arr[:] = 99\n",
    "\n",
    "# l'afficher de nouveau\n",
    "slice_of_arr"
   ]
  },
  {
   "cell_type": "markdown",
   "metadata": {
    "colab_type": "text",
    "id": "_pcp94u-u3QU"
   },
   "source": [
    "Notez maintenant que les changements se produisent également dans notre tableau d'origine !"
   ]
  },
  {
   "cell_type": "code",
   "execution_count": null,
   "metadata": {
    "colab": {
     "base_uri": "https://localhost:8080/",
     "height": 34
    },
    "colab_type": "code",
    "executionInfo": {
     "elapsed": 1068,
     "status": "ok",
     "timestamp": 1591113290902,
     "user": {
      "displayName": "Rod Paris",
      "photoUrl": "",
      "userId": "10535238717210992784"
     },
     "user_tz": -120
    },
    "id": "JgVcJGOwuxAi",
    "outputId": "bee8853b-eafd-4318-e008-80f414556931"
   },
   "outputs": [],
   "source": [
    "arr"
   ]
  },
  {
   "cell_type": "markdown",
   "metadata": {
    "colab_type": "text",
    "id": "Ud0mVnMyvlA3"
   },
   "source": [
    "Les données ne sont pas copiées, c'est une vue du tableau d'origine ! Cela évite les problèmes de mémoire !"
   ]
  },
  {
   "cell_type": "code",
   "execution_count": null,
   "metadata": {
    "colab": {
     "base_uri": "https://localhost:8080/",
     "height": 34
    },
    "colab_type": "code",
    "executionInfo": {
     "elapsed": 865,
     "status": "ok",
     "timestamp": 1591113419921,
     "user": {
      "displayName": "Rod Paris",
      "photoUrl": "",
      "userId": "10535238717210992784"
     },
     "user_tz": -120
    },
    "id": "Q0cjjP7Gvg_f",
    "outputId": "4c115446-c227-4737-b64a-39eb5cd4afd1"
   },
   "outputs": [],
   "source": [
    "# Pour obtenir une copie, il faut être explicite\n",
    "arr_copy = arr.copy()\n",
    "\n",
    "arr_copy"
   ]
  },
  {
   "cell_type": "markdown",
   "metadata": {
    "colab_type": "text",
    "id": "pt7Lh4VmwEfX"
   },
   "source": [
    "## Indexation d'un tableau 2D (matrices)\n",
    "\n",
    "Le format général est **arr_2d[row][col]** ou **arr_2d[row,col]**. Je recommande d'utiliser la notation avec la virgule pour plus de clarté."
   ]
  },
  {
   "cell_type": "code",
   "execution_count": null,
   "metadata": {
    "colab": {
     "base_uri": "https://localhost:8080/",
     "height": 70
    },
    "colab_type": "code",
    "executionInfo": {
     "elapsed": 1487,
     "status": "ok",
     "timestamp": 1591434733027,
     "user": {
      "displayName": "Rod Paris",
      "photoUrl": "",
      "userId": "10535238717210992784"
     },
     "user_tz": -120
    },
    "id": "xDE6Z76iwAjw",
    "outputId": "1f37a1a8-8248-418c-a278-7a4dd1e9b791"
   },
   "outputs": [],
   "source": [
    "arr_2d = np.array([[5,10,15],[20,25,30],[35,40,45]])\n",
    "\n",
    "# Affichage\n",
    "arr_2d"
   ]
  },
  {
   "cell_type": "code",
   "execution_count": null,
   "metadata": {
    "colab": {
     "base_uri": "https://localhost:8080/",
     "height": 34
    },
    "colab_type": "code",
    "executionInfo": {
     "elapsed": 423,
     "status": "ok",
     "timestamp": 1591113488811,
     "user": {
      "displayName": "Rod Paris",
      "photoUrl": "",
      "userId": "10535238717210992784"
     },
     "user_tz": -120
    },
    "id": "fN54L3QbwMja",
    "outputId": "e187b224-0270-46c2-c440-86c5b6caf70f"
   },
   "outputs": [],
   "source": [
    "# Indexation de ligne\n",
    "arr_2d[1]"
   ]
  },
  {
   "cell_type": "code",
   "execution_count": null,
   "metadata": {
    "colab": {
     "base_uri": "https://localhost:8080/",
     "height": 34
    },
    "colab_type": "code",
    "executionInfo": {
     "elapsed": 426,
     "status": "ok",
     "timestamp": 1591113508507,
     "user": {
      "displayName": "Rod Paris",
      "photoUrl": "",
      "userId": "10535238717210992784"
     },
     "user_tz": -120
    },
    "id": "rPMn86OqwReP",
    "outputId": "cd7deb9d-fc16-4ca5-b8bc-7dc14fbd610e"
   },
   "outputs": [],
   "source": [
    "# Le format est arr_2d[row][col] ou arr_2d[row,col]\n",
    "\n",
    "# Obtenir la valeur d'un élément individuel\n",
    "arr_2d[1][0]"
   ]
  },
  {
   "cell_type": "code",
   "execution_count": null,
   "metadata": {
    "colab": {
     "base_uri": "https://localhost:8080/",
     "height": 34
    },
    "colab_type": "code",
    "executionInfo": {
     "elapsed": 659,
     "status": "ok",
     "timestamp": 1591113522326,
     "user": {
      "displayName": "Rod Paris",
      "photoUrl": "",
      "userId": "10535238717210992784"
     },
     "user_tz": -120
    },
    "id": "bFmDpR6iwWSv",
    "outputId": "78501410-7c46-4d14-ab77-1ae70ba1ce53"
   },
   "outputs": [],
   "source": [
    "# Obtenir la valeur d'un élément individuel\n",
    "arr_2d[1,0]"
   ]
  },
  {
   "cell_type": "code",
   "execution_count": null,
   "metadata": {
    "colab": {
     "base_uri": "https://localhost:8080/",
     "height": 52
    },
    "colab_type": "code",
    "executionInfo": {
     "elapsed": 498,
     "status": "ok",
     "timestamp": 1591113556486,
     "user": {
      "displayName": "Rod Paris",
      "photoUrl": "",
      "userId": "10535238717210992784"
     },
     "user_tz": -120
    },
    "id": "AbrlIR8kwZnQ",
    "outputId": "9e224e52-4991-481a-dde5-e5c6522c0384"
   },
   "outputs": [],
   "source": [
    "# Découpage de tableaux en 2D\n",
    "\n",
    "# Shape (2,2) à partir du coin supérieur droit\n",
    "arr_2d[:2,1:]"
   ]
  },
  {
   "cell_type": "code",
   "execution_count": null,
   "metadata": {
    "colab": {
     "base_uri": "https://localhost:8080/",
     "height": 34
    },
    "colab_type": "code",
    "executionInfo": {
     "elapsed": 678,
     "status": "ok",
     "timestamp": 1591113620044,
     "user": {
      "displayName": "Rod Paris",
      "photoUrl": "",
      "userId": "10535238717210992784"
     },
     "user_tz": -120
    },
    "id": "TdZk2SXXwh_O",
    "outputId": "30e0896b-9002-4222-cc9b-09bfdd653943"
   },
   "outputs": [],
   "source": [
    "# rangée du bas\n",
    "arr_2d[2]"
   ]
  },
  {
   "cell_type": "code",
   "execution_count": null,
   "metadata": {
    "colab": {
     "base_uri": "https://localhost:8080/",
     "height": 34
    },
    "colab_type": "code",
    "executionInfo": {
     "elapsed": 575,
     "status": "ok",
     "timestamp": 1591113620314,
     "user": {
      "displayName": "Rod Paris",
      "photoUrl": "",
      "userId": "10535238717210992784"
     },
     "user_tz": -120
    },
    "id": "YV_f0kOLwk7q",
    "outputId": "dd6a7d9d-4ea2-43b2-fccb-f84df3451fd1"
   },
   "outputs": [],
   "source": [
    "# Identique - rangée du bas\n",
    "arr_2d[2,:]"
   ]
  },
  {
   "cell_type": "markdown",
   "metadata": {
    "colab_type": "text",
    "id": "lVUyj-Zsw9O6"
   },
   "source": [
    "## Un peu d'aide pour l'indexation\n",
    "L'indexation d'une matrice 2D peut être un peu déroutante au début, surtout quand on commence à ajouter des pas. Essayez la recherche d'images sur Google, par exemple *NumPy indexing* pour trouver des images utiles, comme celle-ci :\n",
    "\n",
    "<img src= 'https://drive.google.com/uc?export=view&id=1hGCSxCYIHuAKQHrLgrVcA5B4-aZ0VQi2' width=500/>"
   ]
  },
  {
   "cell_type": "markdown",
   "metadata": {
    "colab_type": "text",
    "id": "pdqM2QCjzGIT"
   },
   "source": [
    "## Sélection conditionnelle\n",
    "\n",
    "C'est un concept très fondamental qui se traduira directement avec Pandas plus tard, assurez-vous de bien comprendre cette partie !\n",
    "\n",
    "Voyons brièvement comment utiliser des crochets pour la sélection basée sur des opérateurs de comparaison."
   ]
  },
  {
   "cell_type": "code",
   "execution_count": null,
   "metadata": {
    "colab": {
     "base_uri": "https://localhost:8080/",
     "height": 34
    },
    "colab_type": "code",
    "executionInfo": {
     "elapsed": 622,
     "status": "ok",
     "timestamp": 1591114300873,
     "user": {
      "displayName": "Rod Paris",
      "photoUrl": "",
      "userId": "10535238717210992784"
     },
     "user_tz": -120
    },
    "id": "WDvsv0n5wqjq",
    "outputId": "dcb7b5b0-3ab7-42d1-e42e-c0b592b8fcc8"
   },
   "outputs": [],
   "source": [
    "arr = np.arange(1,11)\n",
    "arr"
   ]
  },
  {
   "cell_type": "code",
   "execution_count": null,
   "metadata": {
    "colab": {
     "base_uri": "https://localhost:8080/",
     "height": 52
    },
    "colab_type": "code",
    "executionInfo": {
     "elapsed": 649,
     "status": "ok",
     "timestamp": 1591114308036,
     "user": {
      "displayName": "Rod Paris",
      "photoUrl": "",
      "userId": "10535238717210992784"
     },
     "user_tz": -120
    },
    "id": "nEFn-dQrzXsL",
    "outputId": "1c9d6769-0d39-4095-db94-f4b1d4b79e17"
   },
   "outputs": [],
   "source": [
    "arr > 4"
   ]
  },
  {
   "cell_type": "code",
   "execution_count": null,
   "metadata": {
    "colab": {},
    "colab_type": "code",
    "id": "NVPmZ-vszZb-"
   },
   "outputs": [],
   "source": [
    "bool_arr = arr > 4"
   ]
  },
  {
   "cell_type": "code",
   "execution_count": null,
   "metadata": {
    "colab": {
     "base_uri": "https://localhost:8080/",
     "height": 52
    },
    "colab_type": "code",
    "executionInfo": {
     "elapsed": 467,
     "status": "ok",
     "timestamp": 1591114329331,
     "user": {
      "displayName": "Rod Paris",
      "photoUrl": "",
      "userId": "10535238717210992784"
     },
     "user_tz": -120
    },
    "id": "XqMuRNJUzbGq",
    "outputId": "194df992-957b-4f88-e64e-379d4213d273"
   },
   "outputs": [],
   "source": [
    "bool_arr"
   ]
  },
  {
   "cell_type": "code",
   "execution_count": null,
   "metadata": {
    "colab": {
     "base_uri": "https://localhost:8080/",
     "height": 34
    },
    "colab_type": "code",
    "executionInfo": {
     "elapsed": 508,
     "status": "ok",
     "timestamp": 1591114338050,
     "user": {
      "displayName": "Rod Paris",
      "photoUrl": "",
      "userId": "10535238717210992784"
     },
     "user_tz": -120
    },
    "id": "i4vI6O7NzduY",
    "outputId": "782bcc6c-4a62-4754-8aa2-927724d1b616"
   },
   "outputs": [],
   "source": [
    "arr[bool_arr]"
   ]
  },
  {
   "cell_type": "code",
   "execution_count": null,
   "metadata": {
    "colab": {
     "base_uri": "https://localhost:8080/",
     "height": 34
    },
    "colab_type": "code",
    "executionInfo": {
     "elapsed": 430,
     "status": "ok",
     "timestamp": 1591114356739,
     "user": {
      "displayName": "Rod Paris",
      "photoUrl": "",
      "userId": "10535238717210992784"
     },
     "user_tz": -120
    },
    "id": "0BycOuRkzgzP",
    "outputId": "665e6b52-3365-4c14-ce4b-fef084dc3112"
   },
   "outputs": [],
   "source": [
    "arr[arr > 2]"
   ]
  },
  {
   "cell_type": "code",
   "execution_count": null,
   "metadata": {
    "colab": {
     "base_uri": "https://localhost:8080/",
     "height": 34
    },
    "colab_type": "code",
    "executionInfo": {
     "elapsed": 426,
     "status": "ok",
     "timestamp": 1591114356740,
     "user": {
      "displayName": "Rod Paris",
      "photoUrl": "",
      "userId": "10535238717210992784"
     },
     "user_tz": -120
    },
    "id": "2bFZoN6Dzi_X",
    "outputId": "6a7c24bb-488b-425f-da67-77bd4a0b1068"
   },
   "outputs": [],
   "source": [
    "x = 2\n",
    "arr[arr > x]"
   ]
  },
  {
   "cell_type": "code",
   "execution_count": null,
   "metadata": {},
   "outputs": [],
   "source": []
  }
 ],
 "metadata": {
  "colab": {
   "authorship_tag": "ABX9TyP2DX1On1w5d6zLYi9Opoah",
   "name": "01-NumPy-Indexation-et-Sélection.ipynb",
   "provenance": [],
   "toc_visible": true
  },
  "kernelspec": {
   "display_name": "IA2021",
   "language": "python",
   "name": "ia2021"
  },
  "language_info": {
   "codemirror_mode": {
    "name": "ipython",
    "version": 3
   },
   "file_extension": ".py",
   "mimetype": "text/x-python",
   "name": "python",
   "nbconvert_exporter": "python",
   "pygments_lexer": "ipython3",
   "version": "3.8.11"
  }
 },
 "nbformat": 4,
 "nbformat_minor": 1
}
