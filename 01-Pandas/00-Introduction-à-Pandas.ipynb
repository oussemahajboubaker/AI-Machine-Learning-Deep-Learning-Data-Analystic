{
 "cells": [
  {
   "cell_type": "markdown",
   "metadata": {
    "colab_type": "text",
    "id": "Uj4f3w_CJ5Ys"
   },
   "source": [
    "# Introduction à Pandas\n",
    "\n",
    "Dans cette partie, nous apprendrons à utiliser Pandas pour l'analyse de données. Vous pouvez considérer Pandas comme une version extrêmement puissante d'Excel, avec beaucoup plus de fonctionnalités. Dans cette section, vous devez parcourir notebooks dans cet ordre :\n",
    "\n",
    "* Introduction à Pandas\n",
    "* Séries\n",
    "* DataFrames\n",
    "* Données manquantes\n",
    "* GroupBy\n",
    "* Opérations\n",
    "* Entrée et sortie de données (Data Input et output)"
   ]
  },
  {
   "cell_type": "code",
   "execution_count": null,
   "metadata": {},
   "outputs": [],
   "source": []
  }
 ],
 "metadata": {
  "colab": {
   "authorship_tag": "ABX9TyPZinuqEpaZEE7eQ55psqzY",
   "name": "00-Introduction-à-Pandas.ipynb",
   "provenance": []
  },
  "kernelspec": {
   "display_name": "Python 3 (ipykernel)",
   "language": "python",
   "name": "python3"
  },
  "language_info": {
   "codemirror_mode": {
    "name": "ipython",
    "version": 3
   },
   "file_extension": ".py",
   "mimetype": "text/x-python",
   "name": "python",
   "nbconvert_exporter": "python",
   "pygments_lexer": "ipython3",
   "version": "3.8.11"
  }
 },
 "nbformat": 4,
 "nbformat_minor": 1
}
