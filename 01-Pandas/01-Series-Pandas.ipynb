{
 "cells": [
  {
   "cell_type": "markdown",
   "metadata": {
    "colab_type": "text",
    "id": "q5YQ_IOMMgEP"
   },
   "source": [
    "# Series\n",
    "Le premier type de données principal que nous apprendrons sur Pandas est le type de données de la série. Importons Pandas et explorons l'objet Series.\n",
    "\n",
    "Une Série est très similaire à un tableau NumPy (en fait, elle est construite sur l'objet array NumPy). Ce qui différencie le tableau NumPy d'une Série, c'est qu'une Série peut avoir des étiquettes d'axe, ce qui signifie qu'elle peut être indexée par une étiquette, au lieu d'être simplement un emplacement de numéro. Elle n'a pas non plus besoin de contenir des données numériques, elle peut contenir n'importe quel type d'objet Python arbitraire.\n",
    "\n",
    "Explorons ce concept à travers quelques exemples :"
   ]
  },
  {
   "cell_type": "code",
   "execution_count": null,
   "metadata": {
    "colab": {},
    "colab_type": "code",
    "id": "b80ic-tEMhKn"
   },
   "outputs": [],
   "source": [
    "import numpy as np\n",
    "import pandas as pd"
   ]
  },
  {
   "cell_type": "markdown",
   "metadata": {
    "colab_type": "text",
    "id": "k2ihQRx6NK1L"
   },
   "source": [
    "## Création d'un objet Series\n",
    "\n",
    "Vous pouvez convertir une liste, un tableau numérique ou un dictionnaire en une série :"
   ]
  },
  {
   "cell_type": "code",
   "execution_count": null,
   "metadata": {
    "colab": {},
    "colab_type": "code",
    "id": "4kqOrkTBNG67"
   },
   "outputs": [],
   "source": [
    "labels = ['a','b','c']\n",
    "my_list = [10,20,30]\n",
    "arr = np.array([10,20,30])\n",
    "d = {'a':10,'b':20,'c':30}"
   ]
  },
  {
   "cell_type": "markdown",
   "metadata": {
    "colab_type": "text",
    "id": "rdzFRPSYNV7s"
   },
   "source": [
    "### Utilisation des listes"
   ]
  },
  {
   "cell_type": "code",
   "execution_count": null,
   "metadata": {
    "colab": {
     "base_uri": "https://localhost:8080/",
     "height": 86
    },
    "colab_type": "code",
    "executionInfo": {
     "elapsed": 588,
     "status": "ok",
     "timestamp": 1591607660138,
     "user": {
      "displayName": "Rod Paris",
      "photoUrl": "",
      "userId": "10535238717210992784"
     },
     "user_tz": -120
    },
    "id": "vF1od9ZgNR_2",
    "outputId": "96ee4b8b-f79d-4bcd-c677-84e507841c52"
   },
   "outputs": [],
   "source": [
    "pd.Series(data=my_list)"
   ]
  },
  {
   "cell_type": "code",
   "execution_count": null,
   "metadata": {
    "colab": {
     "base_uri": "https://localhost:8080/",
     "height": 86
    },
    "colab_type": "code",
    "executionInfo": {
     "elapsed": 543,
     "status": "ok",
     "timestamp": 1591607669604,
     "user": {
      "displayName": "Rod Paris",
      "photoUrl": "",
      "userId": "10535238717210992784"
     },
     "user_tz": -120
    },
    "id": "5zrRP8k_NYvl",
    "outputId": "cacc4edf-5ba4-42c1-85ae-bcb592d30b57"
   },
   "outputs": [],
   "source": [
    "pd.Series(data=my_list,index=labels)"
   ]
  },
  {
   "cell_type": "code",
   "execution_count": null,
   "metadata": {
    "colab": {
     "base_uri": "https://localhost:8080/",
     "height": 86
    },
    "colab_type": "code",
    "executionInfo": {
     "elapsed": 533,
     "status": "ok",
     "timestamp": 1591607678754,
     "user": {
      "displayName": "Rod Paris",
      "photoUrl": "",
      "userId": "10535238717210992784"
     },
     "user_tz": -120
    },
    "id": "hIJNw9n9NbES",
    "outputId": "996ec2f4-2162-4269-fa06-5e8dc2a051ae"
   },
   "outputs": [],
   "source": [
    "pd.Series(my_list,labels)"
   ]
  },
  {
   "cell_type": "markdown",
   "metadata": {
    "colab_type": "text",
    "id": "0dxfSMGHNgWG"
   },
   "source": [
    "### Utilisation de tableaux NumPy"
   ]
  },
  {
   "cell_type": "code",
   "execution_count": null,
   "metadata": {
    "colab": {
     "base_uri": "https://localhost:8080/",
     "height": 86
    },
    "colab_type": "code",
    "executionInfo": {
     "elapsed": 510,
     "status": "ok",
     "timestamp": 1591607707253,
     "user": {
      "displayName": "Rod Paris",
      "photoUrl": "",
      "userId": "10535238717210992784"
     },
     "user_tz": -120
    },
    "id": "VJnuO36jNdTZ",
    "outputId": "2e3d42f6-556f-434a-e7f7-abe7bc1518b4"
   },
   "outputs": [],
   "source": [
    "pd.Series(arr)"
   ]
  },
  {
   "cell_type": "code",
   "execution_count": null,
   "metadata": {
    "colab": {
     "base_uri": "https://localhost:8080/",
     "height": 86
    },
    "colab_type": "code",
    "executionInfo": {
     "elapsed": 548,
     "status": "ok",
     "timestamp": 1591607713622,
     "user": {
      "displayName": "Rod Paris",
      "photoUrl": "",
      "userId": "10535238717210992784"
     },
     "user_tz": -120
    },
    "id": "41UsxwhINkQ_",
    "outputId": "d319d654-7f0f-49a5-d329-5402fd34dfeb"
   },
   "outputs": [],
   "source": [
    "pd.Series(arr,labels)"
   ]
  },
  {
   "cell_type": "markdown",
   "metadata": {
    "colab_type": "text",
    "id": "qXaVuLHNNott"
   },
   "source": [
    "### Utilisation de dictionnaires"
   ]
  },
  {
   "cell_type": "code",
   "execution_count": null,
   "metadata": {
    "colab": {
     "base_uri": "https://localhost:8080/",
     "height": 86
    },
    "colab_type": "code",
    "executionInfo": {
     "elapsed": 539,
     "status": "ok",
     "timestamp": 1591607735258,
     "user": {
      "displayName": "Rod Paris",
      "photoUrl": "",
      "userId": "10535238717210992784"
     },
     "user_tz": -120
    },
    "id": "CtegrnEUNlz9",
    "outputId": "a87ebd65-dfd9-4020-c5ce-dc385b8bd06f"
   },
   "outputs": [],
   "source": [
    "pd.Series(d)"
   ]
  },
  {
   "cell_type": "markdown",
   "metadata": {
    "colab_type": "text",
    "id": "cLQm-8C2Nu0V"
   },
   "source": [
    "### Données dans une Series\n",
    "\n",
    "Une série Pandas peut contenir divers types d'objets :"
   ]
  },
  {
   "cell_type": "code",
   "execution_count": null,
   "metadata": {
    "colab": {
     "base_uri": "https://localhost:8080/",
     "height": 86
    },
    "colab_type": "code",
    "executionInfo": {
     "elapsed": 710,
     "status": "ok",
     "timestamp": 1591607779641,
     "user": {
      "displayName": "Rod Paris",
      "photoUrl": "",
      "userId": "10535238717210992784"
     },
     "user_tz": -120
    },
    "id": "8atr2i8DNrF_",
    "outputId": "393afa90-1516-4b3c-802a-0425d8d9bfc0"
   },
   "outputs": [],
   "source": [
    "pd.Series(data=labels)"
   ]
  },
  {
   "cell_type": "code",
   "execution_count": null,
   "metadata": {
    "colab": {
     "base_uri": "https://localhost:8080/",
     "height": 86
    },
    "colab_type": "code",
    "executionInfo": {
     "elapsed": 580,
     "status": "ok",
     "timestamp": 1591607795877,
     "user": {
      "displayName": "Rod Paris",
      "photoUrl": "",
      "userId": "10535238717210992784"
     },
     "user_tz": -120
    },
    "id": "vX2IRbBBN140",
    "outputId": "fcbcf7a2-051c-43aa-f1d2-00f8f6a9db2c"
   },
   "outputs": [],
   "source": [
    "# Même les fonctions (bien qu'il soit peu probable que vous les utilisiez)\n",
    "pd.Series([sum,print,len])"
   ]
  },
  {
   "cell_type": "markdown",
   "metadata": {
    "colab_type": "text",
    "id": "Ds1ZmdQLN-PJ"
   },
   "source": [
    "## Utilisation d'un index\n",
    "\n",
    "La clé pour utiliser une série est de comprendre son index. Pandas utilise ces noms ou numéros d'index en permettant une recherche rapide des informations (fonctionne comme une table de hachage ou un dictionnaire).\n",
    "\n",
    "Voyons quelques exemples de la manière de récupérer des informations dans une série. Créons deux séries, sales_Q1 et sales_Q2 :"
   ]
  },
  {
   "cell_type": "code",
   "execution_count": null,
   "metadata": {
    "colab": {},
    "colab_type": "code",
    "id": "-Al5K5WMN54w"
   },
   "outputs": [],
   "source": [
    "sales_Q1 = pd.Series(data=[250,450,200,150],index = ['USA', 'China','India', 'Brazil'])"
   ]
  },
  {
   "cell_type": "code",
   "execution_count": null,
   "metadata": {
    "colab": {
     "base_uri": "https://localhost:8080/",
     "height": 104
    },
    "colab_type": "code",
    "executionInfo": {
     "elapsed": 520,
     "status": "ok",
     "timestamp": 1591607879608,
     "user": {
      "displayName": "Rod Paris",
      "photoUrl": "",
      "userId": "10535238717210992784"
     },
     "user_tz": -120
    },
    "id": "4IqwG3U0OLq9",
    "outputId": "5050c613-7b23-47ee-bde7-0d5fd497b33a"
   },
   "outputs": [],
   "source": [
    "sales_Q1"
   ]
  },
  {
   "cell_type": "code",
   "execution_count": null,
   "metadata": {
    "colab": {},
    "colab_type": "code",
    "id": "KCujHBGJOOWA"
   },
   "outputs": [],
   "source": [
    "sales_Q2 = pd.Series([260,500,210,100],index = ['USA', 'China','India', 'Japan'])"
   ]
  },
  {
   "cell_type": "code",
   "execution_count": null,
   "metadata": {
    "colab": {
     "base_uri": "https://localhost:8080/",
     "height": 104
    },
    "colab_type": "code",
    "executionInfo": {
     "elapsed": 580,
     "status": "ok",
     "timestamp": 1591607917897,
     "user": {
      "displayName": "Rod Paris",
      "photoUrl": "",
      "userId": "10535238717210992784"
     },
     "user_tz": -120
    },
    "id": "YMXXIZRXOWAy",
    "outputId": "70752595-c3d8-4af6-d7cc-fd34442c30c6"
   },
   "outputs": [],
   "source": [
    "sales_Q2"
   ]
  },
  {
   "cell_type": "code",
   "execution_count": null,
   "metadata": {
    "colab": {
     "base_uri": "https://localhost:8080/",
     "height": 35
    },
    "colab_type": "code",
    "executionInfo": {
     "elapsed": 585,
     "status": "ok",
     "timestamp": 1591607925476,
     "user": {
      "displayName": "Rod Paris",
      "photoUrl": "",
      "userId": "10535238717210992784"
     },
     "user_tz": -120
    },
    "id": "Bs6joFrxOXrI",
    "outputId": "246acca2-d6ac-464a-9fde-e21967327250"
   },
   "outputs": [],
   "source": [
    "sales_Q1['USA']"
   ]
  },
  {
   "cell_type": "code",
   "execution_count": null,
   "metadata": {
    "colab": {},
    "colab_type": "code",
    "id": "syln5FR2OZcK"
   },
   "outputs": [],
   "source": [
    "# KEY ERROR !\n",
    "# sales_Q1[Russia] # mauvais nom, il n'existe pas !\n",
    "# sales_Q1['USA '] # Mauvais espacement de la chaîne de caractères string, attention à l'espace à la fin !"
   ]
  },
  {
   "cell_type": "markdown",
   "metadata": {
    "colab_type": "text",
    "id": "wx5zLQThOun-"
   },
   "source": [
    "Les opérations sont alors également effectuées sur la base de l'index :"
   ]
  },
  {
   "cell_type": "code",
   "execution_count": null,
   "metadata": {
    "colab": {
     "base_uri": "https://localhost:8080/",
     "height": 121
    },
    "colab_type": "code",
    "executionInfo": {
     "elapsed": 526,
     "status": "ok",
     "timestamp": 1591608028081,
     "user": {
      "displayName": "Rod Paris",
      "photoUrl": "",
      "userId": "10535238717210992784"
     },
     "user_tz": -120
    },
    "id": "GkMsexvqOra1",
    "outputId": "bb595a5e-c290-451f-9d16-f79aaff9a7f1"
   },
   "outputs": [],
   "source": [
    "# Nous verrons plus tard comment régler ce problème !\n",
    "sales_Q1 + sales_Q2"
   ]
  },
  {
   "cell_type": "code",
   "execution_count": null,
   "metadata": {},
   "outputs": [],
   "source": []
  }
 ],
 "metadata": {
  "colab": {
   "authorship_tag": "ABX9TyPqyOGUGDQNU6+lMp6n602N",
   "name": "01-Series-Pandas.ipynb",
   "provenance": []
  },
  "kernelspec": {
   "display_name": "IA2021",
   "language": "python",
   "name": "ia2021"
  },
  "language_info": {
   "codemirror_mode": {
    "name": "ipython",
    "version": 3
   },
   "file_extension": ".py",
   "mimetype": "text/x-python",
   "name": "python",
   "nbconvert_exporter": "python",
   "pygments_lexer": "ipython3",
   "version": "3.8.11"
  }
 },
 "nbformat": 4,
 "nbformat_minor": 1
}
