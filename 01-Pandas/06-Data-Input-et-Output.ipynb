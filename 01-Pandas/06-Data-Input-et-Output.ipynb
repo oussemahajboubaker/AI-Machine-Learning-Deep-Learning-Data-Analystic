{
 "cells": [
  {
   "cell_type": "markdown",
   "metadata": {
    "id": "x3hna4rLBwPe"
   },
   "source": [
    "<div class=\"alert alert-info\"><strong>NOTE :</strong> En général, nous nous contentons de lire directement les fichiers csv ou d'utiliser pandas-datareader pour extraire les données du web. Considérez cette session comme un aperçu rapide de ce qui est possible de faire avec Pandas (nous ne travaillerons pas avec des fichiers SQL ou Excel )</div>\n",
    "\n"
   ]
  },
  {
   "cell_type": "markdown",
   "metadata": {
    "id": "9iS_wzXPCKf4"
   },
   "source": [
    "# Data Input et Output\n",
    "\n",
    "Ce notebook est le code de référence pour obtenir des entrées et des sorties de données, Pandas peut lire divers types de fichiers en utilisant ses méthodes pd.read_. \n",
    "\n",
    "Examinons les types de données les plus courants :"
   ]
  },
  {
   "cell_type": "code",
   "execution_count": null,
   "metadata": {
    "id": "l1VlhoRKBKd6"
   },
   "outputs": [],
   "source": [
    "import numpy as np\n",
    "import pandas as pd"
   ]
  },
  {
   "cell_type": "markdown",
   "metadata": {
    "id": "_wa0V9EFCb4p"
   },
   "source": [
    "## Consultez les références ici ! \n",
    "\n",
    "**C'est la meilleure ressource en ligne pour savoir comment lire/écrire à partir d'une variété de sources de données!**\n",
    "\n",
    "https://pandas.pydata.org/pandas-docs/stable/user_guide/io.html\n",
    "\n",
    "\n",
    "---\n",
    "\n",
    "\n",
    "\n",
    "---\n",
    "\n"
   ]
  },
  {
   "cell_type": "markdown",
   "metadata": {
    "id": "fRV5IkckCls4"
   },
   "source": [
    "<table border=\"1\" class=\"colwidths-given docutils\">\n",
    "<colgroup>\n",
    "<col width=\"12%\" />\n",
    "<col width=\"40%\" />\n",
    "<col width=\"24%\" />\n",
    "<col width=\"24%\" />\n",
    "</colgroup>\n",
    "<thead valign=\"bottom\">\n",
    "<tr class=\"row-odd\"><th class=\"head\">Format Type</th>\n",
    "<th class=\"head\">Data Description</th>\n",
    "<th class=\"head\">Reader</th>\n",
    "<th class=\"head\">Writer</th>\n",
    "</tr>\n",
    "</thead>\n",
    "<tbody valign=\"top\">\n",
    "<tr class=\"row-even\"><td>text</td>\n",
    "<td><a class=\"reference external\" href=\"https://en.wikipedia.org/wiki/Comma-separated_values\">CSV</a></td>\n",
    "<td><a class=\"reference internal\" href=\"#io-read-csv-table\"><span class=\"std std-ref\">read_csv</span></a></td>\n",
    "<td><a class=\"reference internal\" href=\"#io-store-in-csv\"><span class=\"std std-ref\">to_csv</span></a></td>\n",
    "</tr>\n",
    "<tr class=\"row-odd\"><td>text</td>\n",
    "<td><a class=\"reference external\" href=\"https://www.json.org/\">JSON</a></td>\n",
    "<td><a class=\"reference internal\" href=\"#io-json-reader\"><span class=\"std std-ref\">read_json</span></a></td>\n",
    "<td><a class=\"reference internal\" href=\"#io-json-writer\"><span class=\"std std-ref\">to_json</span></a></td>\n",
    "</tr>\n",
    "<tr class=\"row-even\"><td>text</td>\n",
    "<td><a class=\"reference external\" href=\"https://en.wikipedia.org/wiki/HTML\">HTML</a></td>\n",
    "<td><a class=\"reference internal\" href=\"#io-read-html\"><span class=\"std std-ref\">read_html</span></a></td>\n",
    "<td><a class=\"reference internal\" href=\"#io-html\"><span class=\"std std-ref\">to_html</span></a></td>\n",
    "</tr>\n",
    "<tr class=\"row-odd\"><td>text</td>\n",
    "<td>Local clipboard</td>\n",
    "<td><a class=\"reference internal\" href=\"#io-clipboard\"><span class=\"std std-ref\">read_clipboard</span></a></td>\n",
    "<td><a class=\"reference internal\" href=\"#io-clipboard\"><span class=\"std std-ref\">to_clipboard</span></a></td>\n",
    "</tr>\n",
    "<tr class=\"row-even\"><td>binary</td>\n",
    "<td><a class=\"reference external\" href=\"https://en.wikipedia.org/wiki/Microsoft_Excel\">MS Excel</a></td>\n",
    "<td><a class=\"reference internal\" href=\"#io-excel-reader\"><span class=\"std std-ref\">read_excel</span></a></td>\n",
    "<td><a class=\"reference internal\" href=\"#io-excel-writer\"><span class=\"std std-ref\">to_excel</span></a></td>\n",
    "</tr>\n",
    "<tr class=\"row-odd\"><td>binary</td>\n",
    "<td><a class=\"reference external\" href=\"http://www.opendocumentformat.org\">OpenDocument</a></td>\n",
    "<td><a class=\"reference internal\" href=\"#io-ods\"><span class=\"std std-ref\">read_excel</span></a></td>\n",
    "<td>&#160;</td>\n",
    "</tr>\n",
    "<tr class=\"row-even\"><td>binary</td>\n",
    "<td><a class=\"reference external\" href=\"https://support.hdfgroup.org/HDF5/whatishdf5.html\">HDF5 Format</a></td>\n",
    "<td><a class=\"reference internal\" href=\"#io-hdf5\"><span class=\"std std-ref\">read_hdf</span></a></td>\n",
    "<td><a class=\"reference internal\" href=\"#io-hdf5\"><span class=\"std std-ref\">to_hdf</span></a></td>\n",
    "</tr>\n",
    "<tr class=\"row-odd\"><td>binary</td>\n",
    "<td><a class=\"reference external\" href=\"https://github.com/wesm/feather\">Feather Format</a></td>\n",
    "<td><a class=\"reference internal\" href=\"#io-feather\"><span class=\"std std-ref\">read_feather</span></a></td>\n",
    "<td><a class=\"reference internal\" href=\"#io-feather\"><span class=\"std std-ref\">to_feather</span></a></td>\n",
    "</tr>\n",
    "<tr class=\"row-even\"><td>binary</td>\n",
    "<td><a class=\"reference external\" href=\"https://parquet.apache.org/\">Parquet Format</a></td>\n",
    "<td><a class=\"reference internal\" href=\"#io-parquet\"><span class=\"std std-ref\">read_parquet</span></a></td>\n",
    "<td><a class=\"reference internal\" href=\"#io-parquet\"><span class=\"std std-ref\">to_parquet</span></a></td>\n",
    "</tr>\n",
    "<tr class=\"row-odd\"><td>binary</td>\n",
    "<td><a class=\"reference external\" href=\"https://msgpack.org/index.html\">Msgpack</a></td>\n",
    "<td><a class=\"reference internal\" href=\"#io-msgpack\"><span class=\"std std-ref\">read_msgpack</span></a></td>\n",
    "<td><a class=\"reference internal\" href=\"#io-msgpack\"><span class=\"std std-ref\">to_msgpack</span></a></td>\n",
    "</tr>\n",
    "<tr class=\"row-even\"><td>binary</td>\n",
    "<td><a class=\"reference external\" href=\"https://en.wikipedia.org/wiki/Stata\">Stata</a></td>\n",
    "<td><a class=\"reference internal\" href=\"#io-stata-reader\"><span class=\"std std-ref\">read_stata</span></a></td>\n",
    "<td><a class=\"reference internal\" href=\"#io-stata-writer\"><span class=\"std std-ref\">to_stata</span></a></td>\n",
    "</tr>\n",
    "<tr class=\"row-odd\"><td>binary</td>\n",
    "<td><a class=\"reference external\" href=\"https://en.wikipedia.org/wiki/SAS_(software)\">SAS</a></td>\n",
    "<td><a class=\"reference internal\" href=\"#io-sas-reader\"><span class=\"std std-ref\">read_sas</span></a></td>\n",
    "<td>&#160;</td>\n",
    "</tr>\n",
    "<tr class=\"row-even\"><td>binary</td>\n",
    "<td><a class=\"reference external\" href=\"https://docs.python.org/3/library/pickle.html\">Python Pickle Format</a></td>\n",
    "<td><a class=\"reference internal\" href=\"#io-pickle\"><span class=\"std std-ref\">read_pickle</span></a></td>\n",
    "<td><a class=\"reference internal\" href=\"#io-pickle\"><span class=\"std std-ref\">to_pickle</span></a></td>\n",
    "</tr>\n",
    "<tr class=\"row-odd\"><td>SQL</td>\n",
    "<td><a class=\"reference external\" href=\"https://en.wikipedia.org/wiki/SQL\">SQL</a></td>\n",
    "<td><a class=\"reference internal\" href=\"#io-sql\"><span class=\"std std-ref\">read_sql</span></a></td>\n",
    "<td><a class=\"reference internal\" href=\"#io-sql\"><span class=\"std std-ref\">to_sql</span></a></td>\n",
    "</tr>\n",
    "<tr class=\"row-even\"><td>SQL</td>\n",
    "<td><a class=\"reference external\" href=\"https://en.wikipedia.org/wiki/BigQuery\">Google Big Query</a></td>\n",
    "<td><a class=\"reference internal\" href=\"#io-bigquery\"><span class=\"std std-ref\">read_gbq</span></a></td>\n",
    "<td><a class=\"reference internal\" href=\"#io-bigquery\"><span class=\"std std-ref\">to_gbq</span></a></td>\n",
    "</tr>\n",
    "</tbody>\n",
    "</table>"
   ]
  },
  {
   "cell_type": "markdown",
   "metadata": {
    "id": "wSixe90xCxSL"
   },
   "source": [
    "\n",
    "\n",
    "---\n",
    "\n",
    "\n",
    "\n",
    "---\n",
    "\n"
   ]
  },
  {
   "cell_type": "markdown",
   "metadata": {
    "id": "DpTh2iYHDAOd"
   },
   "source": [
    "## CSV\n",
    "\n",
    "### Avec Google Colab\n",
    "\n",
    "Importer un fichier directement depuis le menu de gauche (Fichiers). Puis, appeler directement le fichier avec :\n",
    "    \n",
    "        df = pd.read_csv('un_fichier.csv')\n",
    "        \n",
    "ou clic droit sur le nom du fichier uploadé / copier le chemin d'accès et coller le dans la méthode read_csv(' ici ')\n",
    "    \n",
    "        df = pd.read_csv('/content/example.csv')\n",
    "        \n",
    "**Attention : Il faudra toujours uploader le fichier de nouveau lorsque votre notebook sur Google Colab se recycle.**\n",
    "\n",
    "ou Connecter (Google) Drive à Google Colab, cliquez sur 'Drive' puis sélectionner le fichier csv, clic droit / copier chemin d'accès et le coller.\n",
    "\n",
    "    \n",
    "        df = pd.read_csv('coller le chemin d'accès du fichier CSV depuis le Drive ici...')\n",
    "        \n",
    "\n",
    "### Avec Distribution Anaconda ou Autres\n",
    "\n",
    "Les fichiers de valeurs séparées par des virgules sont des fichiers texte qui utilisent des virgules comme délimiteurs de champs.\n",
    "Vous devrez peut-être installer <tt>xlrd</tt> et <tt>openpyxl</tt>.<br>\n",
    "Dans votre terminal/commande :\n",
    "\n",
    "    conda install xlrd\n",
    "    conda install openpyxl\n",
    "Ensuite, redémarrez Jupyter Notebook ou Spyder.\n",
    "(ou utilisez pip install si vous n'utilisez pas la distribution Anaconda)\n",
    "\n",
    "### Comprendre le chemin (path) des fichiers\n",
    "\n",
    "Vous avez deux options lorsque vous lisez un dossier avec Pandas :\n",
    "\n",
    "1. Si votre fichier .py ou votre notebook .ipynb se trouve dans le **même** dossier que le fichier .csv que vous voulez lire, il vous suffit d'indiquer le nom du fichier sous forme de chaîne de caractères (string), par exemple :\n",
    "    \n",
    "        df = pd.read_csv('un_fichier.csv')\n",
    "        \n",
    "2. Indiquez le chemin d'accès complet au fichier si vous vous trouvez dans un autre répertoire. Le chemin d'accès doit être correct à 100% pour que cela fonctionne. Par exemple sur Windows (sur Mac/Linux, ce seront des slashs simples '/') :\n",
    "\n",
    "        df = pd.read_csv(\"C:\\\\Users\\\\nom_d'utilisateur\\\\files\\\\un_fichier.csv\")"
   ]
  },
  {
   "cell_type": "markdown",
   "metadata": {
    "id": "8OAUF0CyFVrO"
   },
   "source": [
    "#### Afficher le chemin d'accès du répertoire du fichier actuel avec pwd"
   ]
  },
  {
   "cell_type": "code",
   "execution_count": null,
   "metadata": {
    "colab": {
     "base_uri": "https://localhost:8080/",
     "height": 35
    },
    "executionInfo": {
     "elapsed": 586,
     "status": "ok",
     "timestamp": 1591622367089,
     "user": {
      "displayName": "Rod Paris",
      "photoUrl": "",
      "userId": "10535238717210992784"
     },
     "user_tz": -120
    },
    "id": "n8Yg0terCYU9",
    "outputId": "bcb5fed2-1e0c-4c24-e314-ae90cc5380df"
   },
   "outputs": [],
   "source": [
    "pwd"
   ]
  },
  {
   "cell_type": "markdown",
   "metadata": {
    "id": "7IFwISDQFm2e"
   },
   "source": [
    "#### Lister les fichiers de votre répertoire actuel avec ls"
   ]
  },
  {
   "cell_type": "code",
   "execution_count": null,
   "metadata": {
    "colab": {
     "base_uri": "https://localhost:8080/",
     "height": 35
    },
    "executionInfo": {
     "elapsed": 2858,
     "status": "ok",
     "timestamp": 1592050502825,
     "user": {
      "displayName": "Rod Paris",
      "photoUrl": "",
      "userId": "10535238717210992784"
     },
     "user_tz": -120
    },
    "id": "cWY2_zy7FfNh",
    "outputId": "3061bfcb-6df5-4ffa-aaec-97faff587532"
   },
   "outputs": [],
   "source": [
    "ls"
   ]
  },
  {
   "cell_type": "markdown",
   "metadata": {
    "id": "Y0hOEY8VFwNX"
   },
   "source": [
    "### Saisie fichier CSV en entrée (Input)"
   ]
  },
  {
   "cell_type": "code",
   "execution_count": null,
   "metadata": {
    "colab": {
     "base_uri": "https://localhost:8080/",
     "height": 168
    },
    "executionInfo": {
     "elapsed": 697,
     "status": "ok",
     "timestamp": 1592050524346,
     "user": {
      "displayName": "Rod Paris",
      "photoUrl": "",
      "userId": "10535238717210992784"
     },
     "user_tz": -120
    },
    "id": "oOYpAl8PFofH",
    "outputId": "e0902677-9c27-4fa9-a624-8c55552f8145"
   },
   "outputs": [],
   "source": [
    "df = pd.read_csv('example.csv')\n",
    "df"
   ]
  },
  {
   "cell_type": "markdown",
   "metadata": {
    "id": "k4Uu_sDGGXEk"
   },
   "source": [
    "### Sortie CSV (Output)"
   ]
  },
  {
   "cell_type": "code",
   "execution_count": null,
   "metadata": {
    "id": "0XZj8lscF4Am"
   },
   "outputs": [],
   "source": [
    "df.to_csv('output.csv',index=False)"
   ]
  },
  {
   "cell_type": "markdown",
   "metadata": {
    "id": "9WKbGrqJGeOp"
   },
   "source": [
    "## HTML\n",
    "\n",
    "Pandas peut lire les balises des tableaux à partir du HTML. Cela ne fonctionne que si votre pare-feu ne bloque pas l'accès de Pandas à internet !\n",
    "\n",
    "À moins que vous n'utilisiez Google Colab, vous devrez peut-être installer <tt>lxml</tt>, <tt>htmllib5</tt>, et <tt>BeatifulSoup4</tt>.<br>\n",
    "Dans votre terminal/commande :\n",
    "\n",
    "    conda install lxml\n",
    "    conda install html5lib\n",
    "    conda install beautifulsoup4\n",
    "\n",
    "Ensuite, redémarrez Jupyter Notebook ou Spyder.\n",
    "(ou utilisez pip install si vous n'utilisez pas la distribution Anaconda)"
   ]
  },
  {
   "cell_type": "markdown",
   "metadata": {
    "id": "51jF1xqIGwLN"
   },
   "source": [
    "### Données Entrée HTML\n",
    "\n",
    "La fonction read_html de Pandas permet de lire des tableaux sur une page web et de retourner une liste d'objets DataFrame :"
   ]
  },
  {
   "cell_type": "code",
   "execution_count": null,
   "metadata": {
    "id": "2ucF5vjOGahN"
   },
   "outputs": [],
   "source": [
    "tables = pd.read_html('https://en.wikipedia.org/wiki/Tunisia')"
   ]
  },
  {
   "cell_type": "code",
   "execution_count": null,
   "metadata": {
    "colab": {
     "base_uri": "https://localhost:8080/",
     "height": 285
    },
    "executionInfo": {
     "elapsed": 550,
     "status": "ok",
     "timestamp": 1591622761318,
     "user": {
      "displayName": "Rod Paris",
      "photoUrl": "",
      "userId": "10535238717210992784"
     },
     "user_tz": -120
    },
    "id": "Z3YTNR7oG-GB",
    "outputId": "c74b9608-967a-45fb-9e25-6fa6bda4b9d6"
   },
   "outputs": [],
   "source": [
    "tables[0].head(15)"
   ]
  },
  {
   "cell_type": "code",
   "execution_count": null,
   "metadata": {},
   "outputs": [],
   "source": []
  }
 ],
 "metadata": {
  "colab": {
   "authorship_tag": "ABX9TyO8tR2mPEiVJdadEUHjCWSc",
   "name": "06-Data-Input-et-Output.ipynb",
   "provenance": []
  },
  "kernelspec": {
   "display_name": "Python 3 (ipykernel)",
   "language": "python",
   "name": "python3"
  },
  "language_info": {
   "codemirror_mode": {
    "name": "ipython",
    "version": 3
   },
   "file_extension": ".py",
   "mimetype": "text/x-python",
   "name": "python",
   "nbconvert_exporter": "python",
   "pygments_lexer": "ipython3",
   "version": "3.8.11"
  }
 },
 "nbformat": 4,
 "nbformat_minor": 1
}
