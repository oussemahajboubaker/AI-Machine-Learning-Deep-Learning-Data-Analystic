{
 "cells": [
  {
   "cell_type": "markdown",
   "metadata": {
    "colab_type": "text",
    "id": "Ly5uXCbxbgr3"
   },
   "source": [
    "# Groupby\n",
    "\n",
    "La méthode groupby vous permet de regrouper des lignes de données et d'appeler des fonctions agrégées"
   ]
  },
  {
   "cell_type": "code",
   "execution_count": 5,
   "metadata": {
    "colab": {},
    "colab_type": "code",
    "id": "MmABwc6BbUYe"
   },
   "outputs": [],
   "source": [
    "import pandas as pd"
   ]
  },
  {
   "cell_type": "code",
   "execution_count": 6,
   "metadata": {
    "colab": {},
    "colab_type": "code",
    "id": "AOV9bJLJblpi"
   },
   "outputs": [],
   "source": [
    "# Nous aborderons la lecture des données de manière beaucoup plus détaillée lors d'une session ultérieure !\n",
    "df = pd.read_csv('Universities.csv')"
   ]
  },
  {
   "cell_type": "code",
   "execution_count": null,
   "metadata": {
    "colab": {
     "base_uri": "https://localhost:8080/",
     "height": 198
    },
    "colab_type": "code",
    "executionInfo": {
     "elapsed": 576,
     "status": "ok",
     "timestamp": 1591885245811,
     "user": {
      "displayName": "Rod Paris",
      "photoUrl": "",
      "userId": "10535238717210992784"
     },
     "user_tz": -120
    },
    "id": "c_jQYJ2ebshg",
    "outputId": "55a291d9-d2c2-4b95-b1ed-9eadc52e17ee"
   },
   "outputs": [],
   "source": [
    "# Afficher les N premières lignes (N=5 par défaut)\n",
    "df.head()"
   ]
  },
  {
   "cell_type": "markdown",
   "metadata": {
    "colab_type": "text",
    "id": "Zb2TKw1icPPb"
   },
   "source": [
    "Vous pouvez maintenant utiliser la méthode .groupby() pour regrouper des lignes à partir d'une colonne **catégorielle**. Cette colonne sera ensuite réaffectée pour constituer l'index.\n",
    "\n",
    "Notez que nous avons 2 étapes :\n",
    "\n",
    "1. Choisissez une colonne catégorielle à regrouper\n",
    "2. Choisissez votre fonction d'agrégation. Rappelez-vous qu'une fonction d'agrégation doit prendre plusieurs valeurs et retourner une seule valeur (par exemple max,min, mean, std, etc...)"
   ]
  },
  {
   "cell_type": "code",
   "execution_count": null,
   "metadata": {
    "colab": {
     "base_uri": "https://localhost:8080/",
     "height": 35
    },
    "colab_type": "code",
    "executionInfo": {
     "elapsed": 2577,
     "status": "ok",
     "timestamp": 1591882412240,
     "user": {
      "displayName": "Rod Paris",
      "photoUrl": "",
      "userId": "10535238717210992784"
     },
     "user_tz": -120
    },
    "id": "8QV12RoLbyKD",
    "outputId": "ab8a5af7-4e42-46be-a355-aab6d84b0eda"
   },
   "outputs": [],
   "source": [
    "# L'étape 1 retourne simplement un objet spécial groupby en attentant qu'on appele une méthode d'agrégation\n",
    "df.groupby(\"Year\")"
   ]
  },
  {
   "cell_type": "code",
   "execution_count": null,
   "metadata": {
    "colab": {
     "base_uri": "https://localhost:8080/",
     "height": 228
    },
    "colab_type": "code",
    "executionInfo": {
     "elapsed": 2570,
     "status": "ok",
     "timestamp": 1591882412241,
     "user": {
      "displayName": "Rod Paris",
      "photoUrl": "",
      "userId": "10535238717210992784"
     },
     "user_tz": -120
    },
    "id": "JGK9HtFkcm4S",
    "outputId": "1ce5af27-2958-4052-e80a-a48b61631caa"
   },
   "outputs": [],
   "source": [
    "df.groupby('Year').mean()"
   ]
  },
  {
   "cell_type": "code",
   "execution_count": null,
   "metadata": {
    "colab": {
     "base_uri": "https://localhost:8080/",
     "height": 35
    },
    "colab_type": "code",
    "executionInfo": {
     "elapsed": 2563,
     "status": "ok",
     "timestamp": 1591882412242,
     "user": {
      "displayName": "Rod Paris",
      "photoUrl": "",
      "userId": "10535238717210992784"
     },
     "user_tz": -120
    },
    "id": "wFMoX1eIctYk",
    "outputId": "2adb3bdc-2480-4ebb-d789-898ebad70b3f"
   },
   "outputs": [],
   "source": [
    "type(df.groupby('Year').mean())"
   ]
  },
  {
   "cell_type": "code",
   "execution_count": null,
   "metadata": {
    "colab": {
     "base_uri": "https://localhost:8080/",
     "height": 228
    },
    "colab_type": "code",
    "executionInfo": {
     "elapsed": 2557,
     "status": "ok",
     "timestamp": 1591882412242,
     "user": {
      "displayName": "Rod Paris",
      "photoUrl": "",
      "userId": "10535238717210992784"
     },
     "user_tz": -120
    },
    "id": "iX554ppvcv6V",
    "outputId": "10caf756-2753-42c4-cdbf-25e0129a0c2c"
   },
   "outputs": [],
   "source": [
    "df.groupby('Year').mean().sort_index(ascending=False)"
   ]
  },
  {
   "cell_type": "markdown",
   "metadata": {
    "colab_type": "text",
    "id": "amAn-hKDc2G5"
   },
   "source": [
    "-----\n",
    "## Autres fonctions d'agrégation"
   ]
  },
  {
   "cell_type": "markdown",
   "metadata": {
    "colab_type": "text",
    "id": "n1sUagIRc9bM"
   },
   "source": [
    "<table><td><tt\n",
    "><span\n",
    ">count</span></tt></td><td>Nombre d'observations non null</td></tr><tr\n",
    "><td><tt\n",
    "><span\n",
    ">sum</span></tt></td><td>Somme des valeurs</td></tr><tr\n",
    "><td><tt\n",
    "><span\n",
    ">mean</span></tt></td><td>Moyenne des valeurs</td></tr><tr\n",
    "><td><tt\n",
    "><span\n",
    ">mad</span></tt></td><td>Écart moyen absolu</td></tr><tr\n",
    "><td><tt\n",
    "><span\n",
    ">median</span></tt></td><td>Médiane arithmétique des valeurs</td></tr><tr\n",
    "><td><tt\n",
    "><span\n",
    ">min</span></tt></td><td>Minimum</td></tr><tr\n",
    "><td><tt\n",
    "><span\n",
    ">max</span></tt></td><td>Maximum</td></tr><tr\n",
    "><td><tt\n",
    "><span\n",
    ">mode</span></tt></td><td>Mode</td></tr><tr\n",
    "><td><tt\n",
    "><span\n",
    ">abs</span></tt></td><td>Valeur absolue</td></tr><tr\n",
    "><td><tt\n",
    "><span\n",
    ">prod</span></tt></td><td>Produit des valeurs</td></tr><tr\n",
    "><td><tt\n",
    "><span\n",
    ">std</span></tt></td><td>Écart type non biaisé</td></tr><tr\n",
    "><td><tt\n",
    "><span\n",
    ">var</span></tt></td><td>Variance non biaisée</td></tr><tr\n",
    "><td><tt\n",
    "><span\n",
    ">sem</span></tt></td><td>Erreur standard de la moyenne non biaisée</td></tr><tr\n",
    "><td><tt\n",
    "><span\n",
    ">skew</span></tt></td><td>Asymétrie non biaisée (3e moment)</td></tr><tr\n",
    "><td><tt\n",
    "><span\n",
    ">kurt</span></tt></td><td>Kurtosis non biaisé (4ème moment)</td></tr><tr\n",
    "><td><tt\n",
    "><span\n",
    ">quantile</span></tt></td><td>Quantile de l'échantillon (valeur en %)</td></tr><tr\n",
    "><td><tt\n",
    "><span\n",
    ">cumsum</span></tt></td><td>Somme cumulative</td></tr><tr\n",
    "><td><tt\n",
    "><span\n",
    ">cumprod</span></tt></td><td>Produit cumulé</td></tr><tr\n",
    "><td><tt\n",
    "><span\n",
    ">cummax</span></tt></td><td>Maximum cumulé</td></tr><tr\n",
    "><td><tt\n",
    "><span\n",
    ">cummin</span></tt></td><td>Minimum cumulé</td></tr></tbody></table>"
   ]
  },
  {
   "cell_type": "markdown",
   "metadata": {
    "colab_type": "text",
    "id": "x6hYsjEYd9zA"
   },
   "source": [
    "----"
   ]
  },
  {
   "cell_type": "markdown",
   "metadata": {
    "colab_type": "text",
    "id": "1y6PyGNSeCGG"
   },
   "source": [
    "## Regroupement par plusieurs colonnes"
   ]
  },
  {
   "cell_type": "code",
   "execution_count": null,
   "metadata": {
    "colab": {
     "base_uri": "https://localhost:8080/",
     "height": 198
    },
    "colab_type": "code",
    "executionInfo": {
     "elapsed": 3271,
     "status": "ok",
     "timestamp": 1591882412965,
     "user": {
      "displayName": "Rod Paris",
      "photoUrl": "",
      "userId": "10535238717210992784"
     },
     "user_tz": -120
    },
    "id": "gAp1rVUjcxxG",
    "outputId": "576a22a6-79df-409e-ef70-d7ae82ed8c26"
   },
   "outputs": [],
   "source": [
    "df.head()"
   ]
  },
  {
   "cell_type": "code",
   "execution_count": null,
   "metadata": {
    "colab": {
     "base_uri": "https://localhost:8080/",
     "height": 1000
    },
    "colab_type": "code",
    "executionInfo": {
     "elapsed": 3265,
     "status": "ok",
     "timestamp": 1591882412966,
     "user": {
      "displayName": "Rod Paris",
      "photoUrl": "",
      "userId": "10535238717210992784"
     },
     "user_tz": -120
    },
    "id": "g-5XQTqieECA",
    "outputId": "c239d758-b834-4a58-f032-854bfdea976a"
   },
   "outputs": [],
   "source": [
    "df.groupby(['Year','Sector']).mean()"
   ]
  },
  {
   "cell_type": "code",
   "execution_count": null,
   "metadata": {
    "colab": {
     "base_uri": "https://localhost:8080/",
     "height": 258
    },
    "colab_type": "code",
    "executionInfo": {
     "elapsed": 3258,
     "status": "ok",
     "timestamp": 1591882412966,
     "user": {
      "displayName": "Rod Paris",
      "photoUrl": "",
      "userId": "10535238717210992784"
     },
     "user_tz": -120
    },
    "id": "ooEt1ZfSeFeR",
    "outputId": "9487e4f1-63d1-4caa-f5bc-25b893f3ae0c"
   },
   "outputs": [],
   "source": [
    "df.groupby('Year').describe()"
   ]
  },
  {
   "cell_type": "code",
   "execution_count": null,
   "metadata": {
    "colab": {
     "base_uri": "https://localhost:8080/",
     "height": 288
    },
    "colab_type": "code",
    "executionInfo": {
     "elapsed": 3252,
     "status": "ok",
     "timestamp": 1591882412967,
     "user": {
      "displayName": "Rod Paris",
      "photoUrl": "",
      "userId": "10535238717210992784"
     },
     "user_tz": -120
    },
    "id": "TB1n-8f-eHWf",
    "outputId": "f64c1d3b-ae4f-468f-aafd-9a17d5155cff"
   },
   "outputs": [],
   "source": [
    "df.groupby('Year').describe().transpose()"
   ]
  },
  {
   "cell_type": "code",
   "execution_count": null,
   "metadata": {},
   "outputs": [],
   "source": []
  }
 ],
 "metadata": {
  "colab": {
   "authorship_tag": "ABX9TyO5ikaN5Ku8qMV58+JY7X8O",
   "mount_file_id": "1_VvRWhbxqHV8cfNmTie18vEdzySJnb3I",
   "name": "04-GroupBy.ipynb",
   "provenance": []
  },
  "kernelspec": {
   "display_name": "AI2024",
   "language": "python",
   "name": "ai2024"
  },
  "language_info": {
   "codemirror_mode": {
    "name": "ipython",
    "version": 3
   },
   "file_extension": ".py",
   "mimetype": "text/x-python",
   "name": "python",
   "nbconvert_exporter": "python",
   "pygments_lexer": "ipython3",
   "version": "3.11.9"
  }
 },
 "nbformat": 4,
 "nbformat_minor": 1
}
