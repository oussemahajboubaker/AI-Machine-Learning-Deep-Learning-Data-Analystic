{
 "cells": [
  {
   "cell_type": "markdown",
   "metadata": {
    "colab_type": "text",
    "id": "AUwzh6D8xAj3"
   },
   "source": [
    "# Les bases de la syntaxe Keras\n",
    "\n",
    "Avec TensorFlow 2.x , Keras est désormais le principal choix d'API. Nous allons travailler sur un projet de régression simple pour comprendre les bases de la syntaxe de Keras et de l'ajout de couches."
   ]
  },
  {
   "cell_type": "markdown",
   "metadata": {
    "colab_type": "text",
    "id": "8Wjej80KxLp5"
   },
   "source": [
    "## Les données\n",
    "\n",
    "Pour apprendre la syntaxe de base de Keras, nous utiliserons un ensemble de fausses données très simple. Dans les sessions suivantes, nous nous concentrerons sur des ensembles de données réels, ainsi que sur l'ingénierie des caractéristiques (feature engineering) ! Pour l'instant, concentrons-nous sur la syntaxe de TensorFlow 2.x.\n",
    "\n",
    "Imaginons que ces données soient les mesures de quelques pierres précieuses rares, avec deux caractéristiques de mesure et un prix de vente. Notre objectif final serait d'essayer de prédire le prix de vente d'une nouvelle pierre précieuse que nous venons d'extraire du sol, afin d'essayer de fixer un prix équitable sur le marché.\n",
    "\n",
    "### Chargement des données"
   ]
  },
  {
   "cell_type": "code",
   "execution_count": null,
   "metadata": {
    "colab": {},
    "colab_type": "code",
    "id": "DOf4Q_Dsudp_"
   },
   "outputs": [],
   "source": [
    "import pandas as pd"
   ]
  },
  {
   "cell_type": "code",
   "execution_count": null,
   "metadata": {
    "colab": {},
    "colab_type": "code",
    "id": "x6RImaNLxlMb"
   },
   "outputs": [],
   "source": [
    "df = pd.read_csv('fake_reg.csv')"
   ]
  },
  {
   "cell_type": "code",
   "execution_count": null,
   "metadata": {
    "colab": {
     "base_uri": "https://localhost:8080/",
     "height": 204
    },
    "colab_type": "code",
    "executionInfo": {
     "elapsed": 1117,
     "status": "ok",
     "timestamp": 1595585098437,
     "user": {
      "displayName": "Rod Paris",
      "photoUrl": "",
      "userId": "10535238717210992784"
     },
     "user_tz": -120
    },
    "id": "MxOc9E0Vxxnr",
    "outputId": "cab91d5a-4cb3-4475-8988-732b78700cd3"
   },
   "outputs": [],
   "source": [
    "df.head()"
   ]
  },
  {
   "cell_type": "markdown",
   "metadata": {
    "colab_type": "text",
    "id": "I_qkEuv2x2JC"
   },
   "source": [
    "## Exploration des données\n",
    "\n",
    "Jetons un coup d'œil rapide, nous devrions constater une forte corrélation entre les caractéristiques (features) et le \"prix\" de ce produit composé."
   ]
  },
  {
   "cell_type": "code",
   "execution_count": null,
   "metadata": {
    "colab": {},
    "colab_type": "code",
    "id": "l2_pba_NxzFu"
   },
   "outputs": [],
   "source": [
    "import seaborn as sns\n",
    "import matplotlib.pyplot as plt"
   ]
  },
  {
   "cell_type": "code",
   "execution_count": null,
   "metadata": {
    "colab": {
     "base_uri": "https://localhost:8080/",
     "height": 570
    },
    "colab_type": "code",
    "executionInfo": {
     "elapsed": 4587,
     "status": "ok",
     "timestamp": 1595585119931,
     "user": {
      "displayName": "Rod Paris",
      "photoUrl": "",
      "userId": "10535238717210992784"
     },
     "user_tz": -120
    },
    "id": "o78tES00x8Il",
    "outputId": "bee1da39-c74f-4397-ffa1-8db996c812ed"
   },
   "outputs": [],
   "source": [
    "sns.pairplot(df);"
   ]
  },
  {
   "cell_type": "markdown",
   "metadata": {
    "colab_type": "text",
    "id": "vXRDIMNPyVfH"
   },
   "source": [
    "## Répartition Entraînement / Test (Train / Test)"
   ]
  },
  {
   "cell_type": "code",
   "execution_count": null,
   "metadata": {
    "colab": {},
    "colab_type": "code",
    "id": "t1WyO-wTx-0e"
   },
   "outputs": [],
   "source": [
    "from sklearn.model_selection import train_test_split"
   ]
  },
  {
   "cell_type": "code",
   "execution_count": null,
   "metadata": {
    "colab": {},
    "colab_type": "code",
    "id": "UOg1W89PybcL"
   },
   "outputs": [],
   "source": [
    "\n",
    "# Features \n",
    "X = df[['feature1','feature2']].values\n",
    "\n",
    "# Label \n",
    "y = df['price'].values\n",
    "\n",
    "# Split \n",
    "X_train, X_test, y_train, y_test = train_test_split(X,y,test_size=0.3,random_state=42)"
   ]
  },
  {
   "cell_type": "code",
   "execution_count": null,
   "metadata": {
    "colab": {
     "base_uri": "https://localhost:8080/",
     "height": 34
    },
    "colab_type": "code",
    "executionInfo": {
     "elapsed": 3800,
     "status": "ok",
     "timestamp": 1595585119933,
     "user": {
      "displayName": "Rod Paris",
      "photoUrl": "",
      "userId": "10535238717210992784"
     },
     "user_tz": -120
    },
    "id": "stwEqTDHyxgP",
    "outputId": "36b528c1-e436-4503-ec37-dde54dc849ef"
   },
   "outputs": [],
   "source": [
    "X_train.shape"
   ]
  },
  {
   "cell_type": "code",
   "execution_count": null,
   "metadata": {
    "colab": {
     "base_uri": "https://localhost:8080/",
     "height": 34
    },
    "colab_type": "code",
    "executionInfo": {
     "elapsed": 3599,
     "status": "ok",
     "timestamp": 1595585119934,
     "user": {
      "displayName": "Rod Paris",
      "photoUrl": "",
      "userId": "10535238717210992784"
     },
     "user_tz": -120
    },
    "id": "pmpnnh6SyzKm",
    "outputId": "5a1e9fef-6d5f-4183-d1c6-cd53faac4b56"
   },
   "outputs": [],
   "source": [
    "X_test.shape"
   ]
  },
  {
   "cell_type": "code",
   "execution_count": null,
   "metadata": {
    "colab": {
     "base_uri": "https://localhost:8080/",
     "height": 34
    },
    "colab_type": "code",
    "executionInfo": {
     "elapsed": 3507,
     "status": "ok",
     "timestamp": 1595585119934,
     "user": {
      "displayName": "Rod Paris",
      "photoUrl": "",
      "userId": "10535238717210992784"
     },
     "user_tz": -120
    },
    "id": "tGPgkIUey0pU",
    "outputId": "045b1422-b639-453f-f7e7-e41259d2a431"
   },
   "outputs": [],
   "source": [
    "y_train.shape"
   ]
  },
  {
   "cell_type": "code",
   "execution_count": null,
   "metadata": {
    "colab": {
     "base_uri": "https://localhost:8080/",
     "height": 34
    },
    "colab_type": "code",
    "executionInfo": {
     "elapsed": 3338,
     "status": "ok",
     "timestamp": 1595585119935,
     "user": {
      "displayName": "Rod Paris",
      "photoUrl": "",
      "userId": "10535238717210992784"
     },
     "user_tz": -120
    },
    "id": "YVVHzml7y2HC",
    "outputId": "d3d4d375-1f90-4a82-ea4a-a5b2204757ee"
   },
   "outputs": [],
   "source": [
    "y_test.shape"
   ]
  },
  {
   "cell_type": "markdown",
   "metadata": {
    "colab_type": "text",
    "id": "mcbu9oEay63h"
   },
   "source": [
    "## Normalisation et mise à l'échelle des données\n",
    "\n",
    "Nous mettons à l'échelle les données relatives aux caractéristiques.\n",
    "\n",
    "[Pourquoi nous n'avons pas besoin de mettre le label à l'échelle] "
   ]
  },
  {
   "cell_type": "code",
   "execution_count": null,
   "metadata": {
    "colab": {},
    "colab_type": "code",
    "id": "D2-_lWfPy3pe"
   },
   "outputs": [],
   "source": [
    "from sklearn.preprocessing import MinMaxScaler"
   ]
  },
  {
   "cell_type": "code",
   "execution_count": null,
   "metadata": {
    "colab": {
     "base_uri": "https://localhost:8080/",
     "height": 1000
    },
    "colab_type": "code",
    "executionInfo": {
     "elapsed": 2773,
     "status": "ok",
     "timestamp": 1595585119936,
     "user": {
      "displayName": "Rod Paris",
      "photoUrl": "",
      "userId": "10535238717210992784"
     },
     "user_tz": -120
    },
    "id": "s3Q7iXJezG0s",
    "outputId": "70626060-397b-44cd-db80-8b18863214ba"
   },
   "outputs": [],
   "source": [
    "help(MinMaxScaler)"
   ]
  },
  {
   "cell_type": "code",
   "execution_count": null,
   "metadata": {
    "colab": {},
    "colab_type": "code",
    "id": "FpD8EusGzIcY"
   },
   "outputs": [],
   "source": [
    "scaler = MinMaxScaler()"
   ]
  },
  {
   "cell_type": "code",
   "execution_count": null,
   "metadata": {
    "colab": {
     "base_uri": "https://localhost:8080/",
     "height": 34
    },
    "colab_type": "code",
    "executionInfo": {
     "elapsed": 2054,
     "status": "ok",
     "timestamp": 1595585119938,
     "user": {
      "displayName": "Rod Paris",
      "photoUrl": "",
      "userId": "10535238717210992784"
     },
     "user_tz": -120
    },
    "id": "93gnrM7TzWta",
    "outputId": "f2e2a347-d094-46c7-a696-7e1a248dfa88"
   },
   "outputs": [],
   "source": [
    "scaler.fit(X_train)"
   ]
  },
  {
   "cell_type": "code",
   "execution_count": null,
   "metadata": {
    "colab": {},
    "colab_type": "code",
    "id": "IeucOk7bzYNu"
   },
   "outputs": [],
   "source": [
    "X_train = scaler.transform(X_train)\n",
    "X_test = scaler.transform(X_test)"
   ]
  },
  {
   "cell_type": "markdown",
   "metadata": {
    "colab_type": "text",
    "id": "KQJnHXeEzdOM"
   },
   "source": [
    "# Syntaxe TensorFlow 2.x\n",
    "\n",
    "\n",
    "## Options d'importation\n",
    "\n",
    "Vous pouvez importer Keras de Tensorflow de plusieurs façons (c'est un choix très personnel, veuillez utiliser les méthodes d'importation que vous préférez). Nous utiliserons la méthode indiquée dans la **documentation officielle de TF**."
   ]
  },
  {
   "cell_type": "code",
   "execution_count": null,
   "metadata": {
    "colab": {},
    "colab_type": "code",
    "id": "eaSLopryzaLx"
   },
   "outputs": [],
   "source": [
    "import tensorflow as tf"
   ]
  },
  {
   "cell_type": "code",
   "execution_count": null,
   "metadata": {
    "colab": {},
    "colab_type": "code",
    "id": "APRm_fgrzi7p"
   },
   "outputs": [],
   "source": [
    "from tensorflow.keras.models import Sequential"
   ]
  },
  {
   "cell_type": "code",
   "execution_count": null,
   "metadata": {
    "colab": {
     "base_uri": "https://localhost:8080/",
     "height": 1000
    },
    "colab_type": "code",
    "executionInfo": {
     "elapsed": 2900,
     "status": "ok",
     "timestamp": 1595585121557,
     "user": {
      "displayName": "Rod Paris",
      "photoUrl": "",
      "userId": "10535238717210992784"
     },
     "user_tz": -120
    },
    "id": "ZH-kEgbSzkZV",
    "outputId": "42ed7cea-b002-493b-c373-686131d908d8"
   },
   "outputs": [],
   "source": [
    "help(Sequential)"
   ]
  },
  {
   "cell_type": "markdown",
   "metadata": {
    "colab_type": "text",
    "id": "ht6WpsdPzqhD"
   },
   "source": [
    "## Création d'un modèle\n",
    "\n",
    "Il y a deux façons de créer des modèles via l'API TF 2 Keras, soit en passant une liste de couches en une seule fois, soit en les ajoutant une par une.\n",
    "\n",
    "Montrons les deux méthodes."
   ]
  },
  {
   "cell_type": "code",
   "execution_count": null,
   "metadata": {
    "colab": {},
    "colab_type": "code",
    "id": "pQMr7kpizlti"
   },
   "outputs": [],
   "source": [
    "from tensorflow.keras.models import Sequential\n",
    "from tensorflow.keras.layers import Dense, Activation"
   ]
  },
  {
   "cell_type": "markdown",
   "metadata": {
    "colab_type": "text",
    "id": "N-YOO1D7z8Nk"
   },
   "source": [
    "### Modèle - avec liste de couches"
   ]
  },
  {
   "cell_type": "code",
   "execution_count": null,
   "metadata": {
    "colab": {},
    "colab_type": "code",
    "id": "GICWa4Qlz44M"
   },
   "outputs": [],
   "source": [
    "model = Sequential([\n",
    "    Dense(units=2),\n",
    "    Dense(units=2),\n",
    "    Dense(units=2)\n",
    "])"
   ]
  },
  {
   "cell_type": "markdown",
   "metadata": {
    "colab_type": "text",
    "id": "pjVhLHgK0FCA"
   },
   "source": [
    "### Modèle - ajout des couches une par une"
   ]
  },
  {
   "cell_type": "code",
   "execution_count": null,
   "metadata": {
    "colab": {},
    "colab_type": "code",
    "id": "GM6QH-d0z_lx"
   },
   "outputs": [],
   "source": [
    "model = Sequential()\n",
    "\n",
    "model.add(Dense(2))\n",
    "model.add(Dense(2))\n",
    "model.add(Dense(2))"
   ]
  },
  {
   "cell_type": "markdown",
   "metadata": {
    "colab_type": "text",
    "id": "wALaSpeL0Lrc"
   },
   "source": [
    "Continuons et construisons un modèle simple, puis compilons-le en définissant notre solveur"
   ]
  },
  {
   "cell_type": "code",
   "execution_count": null,
   "metadata": {
    "colab": {},
    "colab_type": "code",
    "id": "EBKIKGs70Iip"
   },
   "outputs": [],
   "source": [
    "model = Sequential()\n",
    "\n",
    "model.add(Dense(4,activation='relu'))\n",
    "model.add(Dense(4,activation='relu'))\n",
    "model.add(Dense(4,activation='relu'))\n",
    "\n",
    "# Couche finale pour notre prédiction avec un seul noeud de sortie\n",
    "model.add(Dense(1))\n",
    "\n",
    "model.compile(optimizer='rmsprop',loss='mse')"
   ]
  },
  {
   "cell_type": "markdown",
   "metadata": {
    "colab_type": "text",
    "id": "XGVK5Y9y0pMD"
   },
   "source": [
    "### Choix d'un optimiseur (optimizer) et perte (loss)\n",
    "\n",
    "Gardez à l'esprit le type de problème que vous essayez de résoudre :\n",
    "\n",
    "    # Pour un problème de classification multi-classes\n",
    "    model.compile(optimizer='rmsprop',\n",
    "                  loss='categorical_crossentropy',\n",
    "                  metrics=['accuracy'])\n",
    "\n",
    "    # Pour un problème de classification binaire\n",
    "    model.compile(optimizer='rmsprop',\n",
    "                  loss='binary_crossentropy',\n",
    "                  metrics=['accuracy'])\n",
    "\n",
    "    # Pour un problème de régression de l'erreur quadratique moyenne\n",
    "    model.compile(optimizer='rmsprop',\n",
    "                  loss='mse')"
   ]
  },
  {
   "cell_type": "markdown",
   "metadata": {
    "colab_type": "text",
    "id": "fbH7FRp20_at"
   },
   "source": [
    "## Entraînement\n",
    "\n",
    "Vous trouverez ci-dessous quelques définitions courantes qu'il est nécessaire de connaître et de comprendre pour utiliser correctement Keras :\n",
    "\n",
    "* Sample (Échantillon) : un élément d'un ensemble de données.\n",
    "    * Exemple : une image est un échantillon dans un réseau convolutif\n",
    "    * Exemple : un fichier audio est un échantillon pour un modèle de reconnaissance vocale\n",
    "* Batch (Lot) : un ensemble de N échantillons. Les échantillons d'un batch sont traités indépendamment, en parallèle. En cas d'entraînement, un batch ne donne lieu qu'à une seule mise à jour du modèle. Un batch se rapproche généralement davantage de la distribution des données d'entrée qu'une seule entrée. Plus le batch est important, meilleure est l'approximation ; cependant, il est également vrai que le traitement du batch sera plus long et qu'il ne donnera lieu qu'à une seule mise à jour. Pour l'inférence (évaluation/prédiction), il est recommandé de choisir un batch aussi grand que possible sans épuiser la mémoire (car des batchs plus grands entraînent généralement une évaluation/prédiction plus rapide).\n",
    "* Epoch (période d'entraînement) : un seuil arbitraire, généralement défini comme \"un passage sur l'ensemble des données\", utilisée pour séparer l'entraînement en phases distinctes, ce qui est utile pour l'enregistrement et l'évaluation périodique.\n",
    "* En utilisant validation_data ou validation_split avec la méthode d'ajustement des modèles de Keras, l'évaluation sera effectuée à la fin de chaque Epoque.\n",
    "* Dans Keras, il est possible d'ajouter des rappels spécifiquement conçus pour être exécutés à la fin d'une Epoque. Il s'agit par exemple de changements de taux d'apprentissage et de contrôle (sauvegarde) des modèles."
   ]
  },
  {
   "cell_type": "code",
   "execution_count": null,
   "metadata": {
    "colab": {
     "base_uri": "https://localhost:8080/",
     "height": 1000
    },
    "colab_type": "code",
    "executionInfo": {
     "elapsed": 11134,
     "status": "ok",
     "timestamp": 1595585132799,
     "user": {
      "displayName": "Rod Paris",
      "photoUrl": "",
      "userId": "10535238717210992784"
     },
     "user_tz": -120
    },
    "id": "HOKAttSV0bZ4",
    "outputId": "e9d4f702-bd45-4592-8881-b98a067b95b6"
   },
   "outputs": [],
   "source": [
    "model.fit(X_train,y_train,epochs=250)"
   ]
  },
  {
   "cell_type": "markdown",
   "metadata": {
    "colab_type": "text",
    "id": "wdnPc0xd-uz4"
   },
   "source": [
    "## Évaluation\n",
    "\n",
    "Évaluons nos performances sur notre ensemble d'entraînement et sur notre ensemble de test. Nous pouvons comparer ces deux performances pour vérifier qu'il n'y a pas d'overfitting (ou sur-apprentissage)."
   ]
  },
  {
   "cell_type": "code",
   "execution_count": null,
   "metadata": {
    "colab": {
     "base_uri": "https://localhost:8080/",
     "height": 1000
    },
    "colab_type": "code",
    "executionInfo": {
     "elapsed": 10623,
     "status": "ok",
     "timestamp": 1595585132801,
     "user": {
      "displayName": "Rod Paris",
      "photoUrl": "",
      "userId": "10535238717210992784"
     },
     "user_tz": -120
    },
    "id": "_zqWwezH2zRD",
    "outputId": "56ba130b-8818-47c4-f4de-c03bd732ab2f"
   },
   "outputs": [],
   "source": [
    "model.history.history"
   ]
  },
  {
   "cell_type": "code",
   "execution_count": null,
   "metadata": {
    "colab": {},
    "colab_type": "code",
    "id": "2Eg1WSgY-31l"
   },
   "outputs": [],
   "source": [
    "loss = model.history.history['loss']"
   ]
  },
  {
   "cell_type": "code",
   "execution_count": null,
   "metadata": {
    "colab": {
     "base_uri": "https://localhost:8080/",
     "height": 281
    },
    "colab_type": "code",
    "executionInfo": {
     "elapsed": 10182,
     "status": "ok",
     "timestamp": 1595585132803,
     "user": {
      "displayName": "Rod Paris",
      "photoUrl": "",
      "userId": "10535238717210992784"
     },
     "user_tz": -120
    },
    "id": "hdzFhRds-6gF",
    "outputId": "8804d33c-5dce-44c7-c325-8e38d70bc6f3"
   },
   "outputs": [],
   "source": [
    "sns.lineplot(x=range(len(loss)),y=loss)\n",
    "plt.title(\"Perte sur le set d'entraînement par Epoch\");"
   ]
  },
  {
   "cell_type": "markdown",
   "metadata": {
    "colab_type": "text",
    "id": "qxzbcM3r_VxS"
   },
   "source": [
    "### Comparation de l'évaluation finale sur le set d'entraînement et le set de test.\n",
    "\n",
    "Il faut espérer qu'ils soient assez proches l'un de l'autre."
   ]
  },
  {
   "cell_type": "code",
   "execution_count": null,
   "metadata": {
    "colab": {
     "base_uri": "https://localhost:8080/",
     "height": 34
    },
    "colab_type": "code",
    "executionInfo": {
     "elapsed": 8944,
     "status": "ok",
     "timestamp": 1595585132804,
     "user": {
      "displayName": "Rod Paris",
      "photoUrl": "",
      "userId": "10535238717210992784"
     },
     "user_tz": -120
    },
    "id": "GcdVBIcy_SW9",
    "outputId": "474d7a38-8c37-435c-d3c2-502d3e227ae5"
   },
   "outputs": [],
   "source": [
    "model.metrics_names"
   ]
  },
  {
   "cell_type": "code",
   "execution_count": null,
   "metadata": {
    "colab": {},
    "colab_type": "code",
    "id": "kIZp0DKaC7DT"
   },
   "outputs": [],
   "source": [
    "training_score = model.evaluate(X_train,y_train,verbose=0)\n",
    "test_score = model.evaluate(X_test,y_test,verbose=0)"
   ]
  },
  {
   "cell_type": "code",
   "execution_count": null,
   "metadata": {
    "colab": {
     "base_uri": "https://localhost:8080/",
     "height": 34
    },
    "colab_type": "code",
    "executionInfo": {
     "elapsed": 8653,
     "status": "ok",
     "timestamp": 1595585133099,
     "user": {
      "displayName": "Rod Paris",
      "photoUrl": "",
      "userId": "10535238717210992784"
     },
     "user_tz": -120
    },
    "id": "6o_t04gRC80x",
    "outputId": "a1a87469-4b4e-4a37-cbf0-a750f3f407b8"
   },
   "outputs": [],
   "source": [
    "training_score"
   ]
  },
  {
   "cell_type": "code",
   "execution_count": null,
   "metadata": {
    "colab": {
     "base_uri": "https://localhost:8080/",
     "height": 34
    },
    "colab_type": "code",
    "executionInfo": {
     "elapsed": 8432,
     "status": "ok",
     "timestamp": 1595585133100,
     "user": {
      "displayName": "Rod Paris",
      "photoUrl": "",
      "userId": "10535238717210992784"
     },
     "user_tz": -120
    },
    "id": "V9gfvCHZC-di",
    "outputId": "e044b690-6e29-4163-d467-16fb7159acec"
   },
   "outputs": [],
   "source": [
    "test_score"
   ]
  },
  {
   "cell_type": "markdown",
   "metadata": {
    "colab_type": "text",
    "id": "_mhVe5u-DESm"
   },
   "source": [
    "### Évaluations complémentaires"
   ]
  },
  {
   "cell_type": "code",
   "execution_count": null,
   "metadata": {
    "colab": {},
    "colab_type": "code",
    "id": "myK9YAK_DAJ_"
   },
   "outputs": [],
   "source": [
    "test_predictions = model.predict(X_test)"
   ]
  },
  {
   "cell_type": "code",
   "execution_count": null,
   "metadata": {
    "colab": {
     "base_uri": "https://localhost:8080/",
     "height": 1000
    },
    "colab_type": "code",
    "executionInfo": {
     "elapsed": 7441,
     "status": "ok",
     "timestamp": 1595585133100,
     "user": {
      "displayName": "Rod Paris",
      "photoUrl": "",
      "userId": "10535238717210992784"
     },
     "user_tz": -120
    },
    "id": "OV5cOcPYDGTl",
    "outputId": "e60ef5f5-9f9a-4871-e76b-79fbb7055d48"
   },
   "outputs": [],
   "source": [
    "test_predictions"
   ]
  },
  {
   "cell_type": "code",
   "execution_count": null,
   "metadata": {
    "colab": {},
    "colab_type": "code",
    "id": "R17YAr93DHzB"
   },
   "outputs": [],
   "source": [
    "pred_df = pd.DataFrame(y_test,columns=['Test Y'])"
   ]
  },
  {
   "cell_type": "code",
   "execution_count": null,
   "metadata": {
    "colab": {
     "base_uri": "https://localhost:8080/",
     "height": 419
    },
    "colab_type": "code",
    "executionInfo": {
     "elapsed": 7126,
     "status": "ok",
     "timestamp": 1595585133101,
     "user": {
      "displayName": "Rod Paris",
      "photoUrl": "",
      "userId": "10535238717210992784"
     },
     "user_tz": -120
    },
    "id": "cysS3-3wDJ7m",
    "outputId": "2c0bacab-3208-49fb-a196-1a25c8192621"
   },
   "outputs": [],
   "source": [
    "pred_df"
   ]
  },
  {
   "cell_type": "code",
   "execution_count": null,
   "metadata": {
    "colab": {},
    "colab_type": "code",
    "id": "3UxJg9jNDLRk"
   },
   "outputs": [],
   "source": [
    "test_predictions = pd.Series(test_predictions.reshape(300,))"
   ]
  },
  {
   "cell_type": "code",
   "execution_count": null,
   "metadata": {
    "colab": {
     "base_uri": "https://localhost:8080/",
     "height": 221
    },
    "colab_type": "code",
    "executionInfo": {
     "elapsed": 6769,
     "status": "ok",
     "timestamp": 1595585133102,
     "user": {
      "displayName": "Rod Paris",
      "photoUrl": "",
      "userId": "10535238717210992784"
     },
     "user_tz": -120
    },
    "id": "MlqP8BrODN2d",
    "outputId": "25b48e68-b705-4e57-c863-b9167224930c"
   },
   "outputs": [],
   "source": [
    "test_predictions"
   ]
  },
  {
   "cell_type": "code",
   "execution_count": null,
   "metadata": {
    "colab": {},
    "colab_type": "code",
    "id": "yGBKzEpzDPTF"
   },
   "outputs": [],
   "source": [
    "pred_df = pd.concat([pred_df,test_predictions],axis=1)"
   ]
  },
  {
   "cell_type": "code",
   "execution_count": null,
   "metadata": {
    "colab": {},
    "colab_type": "code",
    "id": "G6wa9yZCFbYz"
   },
   "outputs": [],
   "source": [
    "pred_df.columns = ['Test Y','Model Predictions']"
   ]
  },
  {
   "cell_type": "code",
   "execution_count": null,
   "metadata": {
    "colab": {
     "base_uri": "https://localhost:8080/",
     "height": 419
    },
    "colab_type": "code",
    "executionInfo": {
     "elapsed": 6084,
     "status": "ok",
     "timestamp": 1595585133103,
     "user": {
      "displayName": "Rod Paris",
      "photoUrl": "",
      "userId": "10535238717210992784"
     },
     "user_tz": -120
    },
    "id": "lbUiq--YFdUt",
    "outputId": "b97d15e4-f5fc-40fa-d579-20969360665e"
   },
   "outputs": [],
   "source": [
    "pred_df"
   ]
  },
  {
   "cell_type": "markdown",
   "metadata": {
    "colab_type": "text",
    "id": "Ml_6XX5hGEPm"
   },
   "source": [
    "Comparons avec les vrais labels de test !"
   ]
  },
  {
   "cell_type": "code",
   "execution_count": null,
   "metadata": {
    "colab": {
     "base_uri": "https://localhost:8080/",
     "height": 296
    },
    "colab_type": "code",
    "executionInfo": {
     "elapsed": 5919,
     "status": "ok",
     "timestamp": 1595585133369,
     "user": {
      "displayName": "Rod Paris",
      "photoUrl": "",
      "userId": "10535238717210992784"
     },
     "user_tz": -120
    },
    "id": "5V4zD_kNFjFr",
    "outputId": "37309ce8-b8b8-4a3b-d820-f3d34d2be717"
   },
   "outputs": [],
   "source": [
    "sns.scatterplot(x='Test Y',y='Model Predictions',data=pred_df)"
   ]
  },
  {
   "cell_type": "code",
   "execution_count": null,
   "metadata": {
    "colab": {},
    "colab_type": "code",
    "id": "KCxxx4ztGGh7"
   },
   "outputs": [],
   "source": [
    "pred_df['Error'] = pred_df['Test Y'] - pred_df['Model Predictions']"
   ]
  },
  {
   "cell_type": "code",
   "execution_count": null,
   "metadata": {
    "colab": {
     "base_uri": "https://localhost:8080/",
     "height": 296
    },
    "colab_type": "code",
    "executionInfo": {
     "elapsed": 6053,
     "status": "ok",
     "timestamp": 1595585133854,
     "user": {
      "displayName": "Rod Paris",
      "photoUrl": "",
      "userId": "10535238717210992784"
     },
     "user_tz": -120
    },
    "id": "FyIFQDnpGIzt",
    "outputId": "c50c66cc-952b-4560-e104-7e0f6ac563c0"
   },
   "outputs": [],
   "source": [
    "sns.displot(pred_df['Error'],bins=50)"
   ]
  },
  {
   "cell_type": "code",
   "execution_count": null,
   "metadata": {
    "colab": {},
    "colab_type": "code",
    "id": "UOaNMqINGKfp"
   },
   "outputs": [],
   "source": [
    "from sklearn.metrics import mean_absolute_error,mean_squared_error"
   ]
  },
  {
   "cell_type": "code",
   "execution_count": null,
   "metadata": {
    "colab": {
     "base_uri": "https://localhost:8080/",
     "height": 34
    },
    "colab_type": "code",
    "executionInfo": {
     "elapsed": 5665,
     "status": "ok",
     "timestamp": 1595585133855,
     "user": {
      "displayName": "Rod Paris",
      "photoUrl": "",
      "userId": "10535238717210992784"
     },
     "user_tz": -120
    },
    "id": "aOU3gPZEGMbl",
    "outputId": "5a3cfe1e-5794-467c-c3dd-158906a18b9f"
   },
   "outputs": [],
   "source": [
    "mean_absolute_error(pred_df['Test Y'],pred_df['Model Predictions'])"
   ]
  },
  {
   "cell_type": "code",
   "execution_count": null,
   "metadata": {
    "colab": {
     "base_uri": "https://localhost:8080/",
     "height": 34
    },
    "colab_type": "code",
    "executionInfo": {
     "elapsed": 5087,
     "status": "ok",
     "timestamp": 1595585133856,
     "user": {
      "displayName": "Rod Paris",
      "photoUrl": "",
      "userId": "10535238717210992784"
     },
     "user_tz": -120
    },
    "id": "1WW8D8dLGN6q",
    "outputId": "f2dd996f-eff9-41a5-9d4f-e6f221b5b789"
   },
   "outputs": [],
   "source": [
    "mean_squared_error(pred_df['Test Y'],pred_df['Model Predictions'])"
   ]
  },
  {
   "cell_type": "code",
   "execution_count": null,
   "metadata": {
    "colab": {
     "base_uri": "https://localhost:8080/",
     "height": 34
    },
    "colab_type": "code",
    "executionInfo": {
     "elapsed": 4926,
     "status": "ok",
     "timestamp": 1595585133856,
     "user": {
      "displayName": "Rod Paris",
      "photoUrl": "",
      "userId": "10535238717210992784"
     },
     "user_tz": -120
    },
    "id": "fzdhq7b-GPqS",
    "outputId": "e953f3aa-2c74-4755-cdfe-b361e5856bc0"
   },
   "outputs": [],
   "source": [
    "# Essentiellement la même chose, la différence est due à la précision\n",
    "test_score"
   ]
  },
  {
   "cell_type": "code",
   "execution_count": null,
   "metadata": {
    "colab": {
     "base_uri": "https://localhost:8080/",
     "height": 34
    },
    "colab_type": "code",
    "executionInfo": {
     "elapsed": 4677,
     "status": "ok",
     "timestamp": 1595585133856,
     "user": {
      "displayName": "Rod Paris",
      "photoUrl": "",
      "userId": "10535238717210992784"
     },
     "user_tz": -120
    },
    "id": "RVP8w8NbGSeT",
    "outputId": "c3bcfb3d-4d59-4ad2-da28-69ce035e72a0"
   },
   "outputs": [],
   "source": [
    "#RMSE\n",
    "test_score**0.5"
   ]
  },
  {
   "cell_type": "markdown",
   "metadata": {
    "colab_type": "text",
    "id": "625WPhfPGZDY"
   },
   "source": [
    "## Prédire sur de toutes nouvelles données\n"
   ]
  },
  {
   "cell_type": "code",
   "execution_count": null,
   "metadata": {
    "colab": {},
    "colab_type": "code",
    "id": "pAWztu9XGUz4"
   },
   "outputs": [],
   "source": [
    "# [[Feature1, Feature2]]\n",
    "new_gem = [[998,1000]]"
   ]
  },
  {
   "cell_type": "code",
   "execution_count": null,
   "metadata": {
    "colab": {
     "base_uri": "https://localhost:8080/",
     "height": 34
    },
    "colab_type": "code",
    "executionInfo": {
     "elapsed": 4248,
     "status": "ok",
     "timestamp": 1595585133857,
     "user": {
      "displayName": "Rod Paris",
      "photoUrl": "",
      "userId": "10535238717210992784"
     },
     "user_tz": -120
    },
    "id": "SqTPTZsgGfqE",
    "outputId": "9cb76e43-8db9-48f7-87aa-d46ba37c41c3"
   },
   "outputs": [],
   "source": [
    "# N'oubliez pas de mettre à l'échelle !\n",
    "scaler.transform(new_gem)"
   ]
  },
  {
   "cell_type": "code",
   "execution_count": null,
   "metadata": {
    "colab": {},
    "colab_type": "code",
    "id": "ysKgdafNGh_T"
   },
   "outputs": [],
   "source": [
    "new_gem = scaler.transform(new_gem)"
   ]
  },
  {
   "cell_type": "code",
   "execution_count": null,
   "metadata": {
    "colab": {
     "base_uri": "https://localhost:8080/",
     "height": 34
    },
    "colab_type": "code",
    "executionInfo": {
     "elapsed": 3180,
     "status": "ok",
     "timestamp": 1595585133858,
     "user": {
      "displayName": "Rod Paris",
      "photoUrl": "",
      "userId": "10535238717210992784"
     },
     "user_tz": -120
    },
    "id": "Hy9iaBmmGjuZ",
    "outputId": "03482f2d-bddb-4b7e-f3f9-94a9df4da456"
   },
   "outputs": [],
   "source": [
    "model.predict(new_gem)"
   ]
  },
  {
   "cell_type": "markdown",
   "metadata": {
    "colab_type": "text",
    "id": "YcBl6zcxGo1A"
   },
   "source": [
    "## Sauvegarde et chargement d'un modèle"
   ]
  },
  {
   "cell_type": "code",
   "execution_count": null,
   "metadata": {
    "colab": {},
    "colab_type": "code",
    "id": "1isudNVPGlhi"
   },
   "outputs": [],
   "source": [
    "from tensorflow.keras.models import load_model"
   ]
  },
  {
   "cell_type": "code",
   "execution_count": null,
   "metadata": {
    "colab": {},
    "colab_type": "code",
    "id": "fmEtC0YbGque"
   },
   "outputs": [],
   "source": [
    "model.save('my_model.h5') # crée un fichier HDF5 'mon_modèle.h5"
   ]
  },
  {
   "cell_type": "code",
   "execution_count": null,
   "metadata": {
    "colab": {},
    "colab_type": "code",
    "id": "7Tok19x3Guqj"
   },
   "outputs": [],
   "source": [
    "later_model = load_model('my_model.h5')"
   ]
  },
  {
   "cell_type": "code",
   "execution_count": null,
   "metadata": {
    "colab": {
     "base_uri": "https://localhost:8080/",
     "height": 34
    },
    "colab_type": "code",
    "executionInfo": {
     "elapsed": 1988,
     "status": "ok",
     "timestamp": 1595585134226,
     "user": {
      "displayName": "Rod Paris",
      "photoUrl": "",
      "userId": "10535238717210992784"
     },
     "user_tz": -120
    },
    "id": "MY-5vi5BG0RU",
    "outputId": "ce1f8ebd-8cf8-4c4e-8637-1ecab4465bb8"
   },
   "outputs": [],
   "source": [
    "later_model.predict(new_gem)"
   ]
  },
  {
   "cell_type": "code",
   "execution_count": null,
   "metadata": {},
   "outputs": [],
   "source": []
  }
 ],
 "metadata": {
  "colab": {
   "authorship_tag": "ABX9TyMID0MD5z5f5iRoe931lkIJ",
   "name": "00-Bases-Syntaxe-Keras.ipynb",
   "provenance": []
  },
  "kernelspec": {
   "display_name": "IA2021",
   "language": "python",
   "name": "ia2021"
  },
  "language_info": {
   "codemirror_mode": {
    "name": "ipython",
    "version": 3
   },
   "file_extension": ".py",
   "mimetype": "text/x-python",
   "name": "python",
   "nbconvert_exporter": "python",
   "pygments_lexer": "ipython3",
   "version": "3.8.12"
  }
 },
 "nbformat": 4,
 "nbformat_minor": 1
}
