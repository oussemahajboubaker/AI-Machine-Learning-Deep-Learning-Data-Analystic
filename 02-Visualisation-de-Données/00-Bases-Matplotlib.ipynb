{
 "cells": [
  {
   "cell_type": "markdown",
   "metadata": {
    "colab_type": "text",
    "id": "ugYVXkmVbpHO"
   },
   "source": [
    "# Les bases de Matplotlib\n",
    "\n",
    "Nous abordons ici les bases minimales de la fonctionnalité de Matplotlib, juste assez pour comprendre comment le tracé de Pandas et Seaborn sont construits sur Matplotlib. Nous utiliserons principalement les tracés de Pandas ou de Seaborn tout au long des ateliers, ici nous montrons juste les interactions de base possibles avec matplotlib. Ne considérez pas ceci comme un guide complet ! Pour plus d'informations sur matplotlib, visitez : https://matplotlib.org/tutorials/index.html\n",
    "\n",
    "---\n",
    "---"
   ]
  },
  {
   "cell_type": "code",
   "execution_count": null,
   "metadata": {
    "colab": {},
    "colab_type": "code",
    "executionInfo": {
     "elapsed": 1016,
     "status": "ok",
     "timestamp": 1592392519086,
     "user": {
      "displayName": "Rod Paris",
      "photoUrl": "",
      "userId": "10535238717210992784"
     },
     "user_tz": -120
    },
    "id": "grFWR-Osbitd"
   },
   "outputs": [],
   "source": [
    "import numpy as np\n",
    "import pandas as pd"
   ]
  },
  {
   "cell_type": "markdown",
   "metadata": {
    "colab_type": "text",
    "id": "xJjxGbMXb1ge"
   },
   "source": [
    "## Visualisation des tracés\n",
    "\n"
   ]
  },
  {
   "cell_type": "code",
   "execution_count": null,
   "metadata": {
    "colab": {},
    "colab_type": "code",
    "id": "iWhffmP6bymz"
   },
   "outputs": [],
   "source": [
    "import matplotlib.pyplot as plt\n",
    "\n",
    "# seulement sur Jupyter Notebook\n",
    " %matplotlib inline"
   ]
  },
  {
   "cell_type": "code",
   "execution_count": null,
   "metadata": {
    "colab": {},
    "colab_type": "code",
    "id": "ocWZbK0Fb_Xq"
   },
   "outputs": [],
   "source": [
    "x = [0,1,2]\n",
    "y = [100,200,300]"
   ]
  },
  {
   "cell_type": "code",
   "execution_count": null,
   "metadata": {
    "colab": {
     "base_uri": "https://localhost:8080/",
     "height": 282
    },
    "colab_type": "code",
    "executionInfo": {
     "elapsed": 511,
     "status": "ok",
     "timestamp": 1592081356563,
     "user": {
      "displayName": "Rod Paris",
      "photoUrl": "",
      "userId": "10535238717210992784"
     },
     "user_tz": -120
    },
    "id": "zQM7KUGpcXo7",
    "outputId": "58341478-1532-4dd8-a938-ae81f8465dbb"
   },
   "outputs": [],
   "source": [
    "plt.plot(x,y)"
   ]
  },
  {
   "cell_type": "code",
   "execution_count": null,
   "metadata": {
    "colab": {
     "base_uri": "https://localhost:8080/",
     "height": 265
    },
    "colab_type": "code",
    "executionInfo": {
     "elapsed": 608,
     "status": "ok",
     "timestamp": 1592081378056,
     "user": {
      "displayName": "Rod Paris",
      "photoUrl": "",
      "userId": "10535238717210992784"
     },
     "user_tz": -120
    },
    "id": "MLx10iz5cZTd",
    "outputId": "35d4247a-20e9-4c5d-94bc-8d570439883e"
   },
   "outputs": [],
   "source": [
    "# ajouter un point-virgule pour masquer la sortie de texte de matplotlib\n",
    "plt.plot(x,y);"
   ]
  },
  {
   "cell_type": "code",
   "execution_count": null,
   "metadata": {
    "colab": {},
    "colab_type": "code",
    "id": "psRgTmhHcdmu"
   },
   "outputs": [],
   "source": [
    "# Lorsque vous exécutez un fichier .py, vous devez ajouter plt.show() à la fin de vos commandes"
   ]
  },
  {
   "cell_type": "code",
   "execution_count": null,
   "metadata": {
    "colab": {
     "base_uri": "https://localhost:8080/",
     "height": 265
    },
    "colab_type": "code",
    "executionInfo": {
     "elapsed": 602,
     "status": "ok",
     "timestamp": 1592081403850,
     "user": {
      "displayName": "Rod Paris",
      "photoUrl": "",
      "userId": "10535238717210992784"
     },
     "user_tz": -120
    },
    "id": "bTaf3iUpchnX",
    "outputId": "696623c6-9bf2-4b97-a307-23b1625d7a23"
   },
   "outputs": [],
   "source": [
    "# Pour l'exécution de fichiers .py !\n",
    "plt.plot(x,y)\n",
    "plt.show()"
   ]
  },
  {
   "cell_type": "markdown",
   "metadata": {
    "colab_type": "text",
    "id": "ZokM3SO3co4F"
   },
   "source": [
    "## Outils de base\n",
    "\n",
    "Nous n'utiliserons que du pur matplotlib pour les tracés de base vraiment rapides."
   ]
  },
  {
   "cell_type": "code",
   "execution_count": null,
   "metadata": {
    "colab": {},
    "colab_type": "code",
    "id": "vIBNL3oYck02"
   },
   "outputs": [],
   "source": [
    "housing = pd.DataFrame({'rooms':[1,1,2,2,2,3,3,3],\n",
    "                       'price':[100,120,190,200,230,310,330,305]})"
   ]
  },
  {
   "cell_type": "code",
   "execution_count": null,
   "metadata": {
    "colab": {
     "base_uri": "https://localhost:8080/",
     "height": 288
    },
    "colab_type": "code",
    "executionInfo": {
     "elapsed": 472,
     "status": "ok",
     "timestamp": 1592081456010,
     "user": {
      "displayName": "Rod Paris",
      "photoUrl": "",
      "userId": "10535238717210992784"
     },
     "user_tz": -120
    },
    "id": "75j2hz_1cwOq",
    "outputId": "095952b3-21b7-4385-e267-3dc30dc20306"
   },
   "outputs": [],
   "source": [
    "housing"
   ]
  },
  {
   "cell_type": "code",
   "execution_count": null,
   "metadata": {
    "colab": {},
    "colab_type": "code",
    "id": "8DZ4FM2XcxmB"
   },
   "outputs": [],
   "source": [
    "# Probablement pas un grand graphique, puisque cela implique une relation continue !\n",
    "plt.plot(housing['rooms'],housing['price'])"
   ]
  },
  {
   "cell_type": "code",
   "execution_count": null,
   "metadata": {
    "colab": {
     "base_uri": "https://localhost:8080/",
     "height": 282
    },
    "colab_type": "code",
    "executionInfo": {
     "elapsed": 553,
     "status": "ok",
     "timestamp": 1592081492209,
     "user": {
      "displayName": "Rod Paris",
      "photoUrl": "",
      "userId": "10535238717210992784"
     },
     "user_tz": -120
    },
    "id": "tDREaPl-c47-",
    "outputId": "740eee7a-8e97-4ebe-bd63-41532a4571f7"
   },
   "outputs": [],
   "source": [
    "plt.scatter(housing['rooms'],housing['price'])"
   ]
  },
  {
   "cell_type": "markdown",
   "metadata": {
    "colab_type": "text",
    "id": "0Q8ady7Ec9ky"
   },
   "source": [
    "## Style\n",
    "\n",
    "L'une des principales raisons d'apprendre les bases complètes est de voir comment les interactions de style affectent l'API."
   ]
  },
  {
   "cell_type": "code",
   "execution_count": null,
   "metadata": {
    "colab": {
     "base_uri": "https://localhost:8080/",
     "height": 282
    },
    "colab_type": "code",
    "executionInfo": {
     "elapsed": 638,
     "status": "ok",
     "timestamp": 1592081581737,
     "user": {
      "displayName": "Rod Paris",
      "photoUrl": "",
      "userId": "10535238717210992784"
     },
     "user_tz": -120
    },
    "id": "rXuqC065c6aM",
    "outputId": "d2c46b8c-e014-41f2-8c09-5df52705091c"
   },
   "outputs": [],
   "source": [
    "plt.plot(x,y)"
   ]
  },
  {
   "cell_type": "code",
   "execution_count": null,
   "metadata": {
    "colab": {
     "base_uri": "https://localhost:8080/",
     "height": 295
    },
    "colab_type": "code",
    "executionInfo": {
     "elapsed": 803,
     "status": "ok",
     "timestamp": 1592081600180,
     "user": {
      "displayName": "Rod Paris",
      "photoUrl": "",
      "userId": "10535238717210992784"
     },
     "user_tz": -120
    },
    "id": "26Cbx6iFdQPo",
    "outputId": "27be6075-9cf5-49fa-e06e-2023445c2c52"
   },
   "outputs": [],
   "source": [
    "plt.plot(x,y)\n",
    "plt.title('Titre')\n",
    "plt.xlabel('Label X')\n",
    "plt.ylabel('Label Y');"
   ]
  },
  {
   "cell_type": "code",
   "execution_count": null,
   "metadata": {
    "colab": {
     "base_uri": "https://localhost:8080/",
     "height": 295
    },
    "colab_type": "code",
    "executionInfo": {
     "elapsed": 563,
     "status": "ok",
     "timestamp": 1592081668928,
     "user": {
      "displayName": "Rod Paris",
      "photoUrl": "",
      "userId": "10535238717210992784"
     },
     "user_tz": -120
    },
    "id": "05pMpqBrdUtc",
    "outputId": "302af622-8c63-4a3c-aa10-3928e2a6dd6d"
   },
   "outputs": [],
   "source": [
    "plt.plot(x,y)\n",
    "\n",
    "# Axes et marques\n",
    "plt.xlim(0,2)\n",
    "plt.ylim(100,300)\n",
    "\n",
    "\n",
    "# Etiquetage \n",
    "plt.title('Title')\n",
    "plt.xlabel('X Label')\n",
    "plt.ylabel('Y Label');"
   ]
  },
  {
   "cell_type": "code",
   "execution_count": null,
   "metadata": {
    "colab": {
     "base_uri": "https://localhost:8080/",
     "height": 295
    },
    "colab_type": "code",
    "executionInfo": {
     "elapsed": 601,
     "status": "ok",
     "timestamp": 1592081698648,
     "user": {
      "displayName": "Rod Paris",
      "photoUrl": "",
      "userId": "10535238717210992784"
     },
     "user_tz": -120
    },
    "id": "7Cg7aeLOdli3",
    "outputId": "3a3e3817-f723-47ce-ed52-6942407e10c7"
   },
   "outputs": [],
   "source": [
    "plt.plot(x,y,color='red')\n",
    "\n",
    "# Axes et marques\n",
    "plt.xlim(0,2)\n",
    "plt.ylim(100,300)\n",
    "\n",
    "\n",
    "# Etiquetage\n",
    "plt.title('Titre')\n",
    "plt.xlabel('Label X')\n",
    "plt.ylabel('Label Y');"
   ]
  },
  {
   "cell_type": "code",
   "execution_count": null,
   "metadata": {
    "colab": {
     "base_uri": "https://localhost:8080/",
     "height": 295
    },
    "colab_type": "code",
    "executionInfo": {
     "elapsed": 669,
     "status": "ok",
     "timestamp": 1592081741596,
     "user": {
      "displayName": "Rod Paris",
      "photoUrl": "",
      "userId": "10535238717210992784"
     },
     "user_tz": -120
    },
    "id": "y7kp9tREdpQW",
    "outputId": "3df63de1-35e9-4465-ba17-67becccf2cdb"
   },
   "outputs": [],
   "source": [
    "plt.plot(x,y,color='red',marker='o',markersize=20,linestyle='--')\n",
    "\n",
    "# Axes et marques\n",
    "plt.xlim(0,2)\n",
    "plt.ylim(100,300)\n",
    "\n",
    "\n",
    "# Etiquetage\n",
    "plt.title('Titre')\n",
    "plt.xlabel('Label X')\n",
    "plt.ylabel('Label Y');"
   ]
  },
  {
   "cell_type": "markdown",
   "metadata": {
    "colab_type": "text",
    "id": "w0bEcBLmd6fV"
   },
   "source": [
    "C'est tout ce que nous allons couvrir pour Matplotlib, le reste sera plus intuitif avec notre utilisation de Pandas et de Seaborn !"
   ]
  }
 ],
 "metadata": {
  "colab": {
   "authorship_tag": "ABX9TyNI5P/NZ/qsTZQKtNdp+fqq",
   "name": "00-Bases-Matplotlib.ipynb",
   "provenance": []
  },
  "kernelspec": {
   "display_name": "Python 3 (ipykernel)",
   "language": "python",
   "name": "python3"
  },
  "language_info": {
   "codemirror_mode": {
    "name": "ipython",
    "version": 3
   },
   "file_extension": ".py",
   "mimetype": "text/x-python",
   "name": "python",
   "nbconvert_exporter": "python",
   "pygments_lexer": "ipython3",
   "version": "3.8.11"
  }
 },
 "nbformat": 4,
 "nbformat_minor": 1
}
