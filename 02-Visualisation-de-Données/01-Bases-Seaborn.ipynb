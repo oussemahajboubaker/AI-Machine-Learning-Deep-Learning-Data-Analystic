{
 "cells": [
  {
   "cell_type": "markdown",
   "metadata": {
    "colab_type": "text",
    "id": "qx4TBqiOed84"
   },
   "source": [
    "# Bases Seaborn\n",
    "\n",
    "Nous nous concentrerons ici sur quelques éléments des fondamentaux de Seaborn.\n",
    "\n",
    "## Les données\n",
    "\n",
    "Contexte\n",
    "\n",
    "Cette base de données contient 76 attributs, mais toutes les expériences publiées font référence à l'utilisation d'un sous-ensemble de 14 d'entre eux. En particulier, la base de données de Cleveland est la seule qui ait été utilisée par les chercheurs en Machine Learning à ce jour. Le champ \"goal\" fait référence à la présence d'une maladie cardiaque chez le patient. Il s'agit d'un nombre entier dont la valeur va de 0 (aucune présence) à 4.\n",
    "\n",
    "Colonnes\n",
    "* *age* : âge en années\n",
    "* *sex* : sexe (1 = homme; 0 = femme)\n",
    "* cp : type de douleur thoracique\n",
    "* *trestbps* : tension artérielle au repos (en mm Hg lors de l'admission à l'hôpital)\n",
    "* *chol* : cholestérol en mg/dl\n",
    "* *fbs* : (fasting blood sugar - glycémie à jeun > 120 mg/dl) (1 = vrai; 0 = faux)\n",
    "* *restecg* : résultats électrocardiographiques au repos\n",
    "* *thalach* : fréquence cardiaque maximale atteinte\n",
    "* *exang* : l'angine induite par l'exercice (1 = oui; 0 = non)\n",
    "* *oldpeak* : ST dépression induite par l'exercice physique par rapport au repos\n",
    "* *slope* : la pente du segment ST de l'exercice de pointe\n",
    "* *ca* : nombre de grands vaisseaux (0-3) colorés par flourosopie\n",
    "* *thal* : 3 = normal ; 6 = défaut fixe ; 7 = défaut réversible\n",
    "* *target* : 1 ou 0"
   ]
  },
  {
   "cell_type": "code",
   "execution_count": null,
   "metadata": {
    "colab": {},
    "colab_type": "code",
    "id": "TXLjM1e3eNOB"
   },
   "outputs": [],
   "source": [
    "import pandas as pd\n",
    "import matplotlib.pyplot as plt"
   ]
  },
  {
   "cell_type": "code",
   "execution_count": null,
   "metadata": {
    "colab": {},
    "colab_type": "code",
    "id": "kDVNmIO5f7Xp"
   },
   "outputs": [],
   "source": [
    "import seaborn as sns"
   ]
  },
  {
   "cell_type": "code",
   "execution_count": null,
   "metadata": {
    "colab": {},
    "colab_type": "code",
    "id": "qD0hwyRLf9At"
   },
   "outputs": [],
   "source": [
    "df = pd.read_csv('heart.csv')"
   ]
  },
  {
   "cell_type": "code",
   "execution_count": null,
   "metadata": {
    "colab": {
     "base_uri": "https://localhost:8080/",
     "height": 198
    },
    "colab_type": "code",
    "executionInfo": {
     "elapsed": 1507,
     "status": "ok",
     "timestamp": 1592083185157,
     "user": {
      "displayName": "Rod Paris",
      "photoUrl": "",
      "userId": "10535238717210992784"
     },
     "user_tz": -120
    },
    "id": "IEySLU-XgUw4",
    "outputId": "c09af374-4115-48ca-d7eb-8f0789cdd024"
   },
   "outputs": [],
   "source": [
    "df.head()"
   ]
  },
  {
   "cell_type": "markdown",
   "metadata": {
    "colab_type": "text",
    "id": "a0fRuRytgY1Q"
   },
   "source": [
    "## Graphiques de distribution"
   ]
  },
  {
   "cell_type": "code",
   "execution_count": null,
   "metadata": {
    "colab": {
     "base_uri": "https://localhost:8080/",
     "height": 279
    },
    "colab_type": "code",
    "executionInfo": {
     "elapsed": 1730,
     "status": "ok",
     "timestamp": 1592083185401,
     "user": {
      "displayName": "Rod Paris",
      "photoUrl": "",
      "userId": "10535238717210992784"
     },
     "user_tz": -120
    },
    "id": "Jg_ZJ99agWUj",
    "outputId": "e23df5b4-f35f-4a1e-8851-6619fedd9a2b"
   },
   "outputs": [],
   "source": [
    "sns.distplot(df['age']);"
   ]
  },
  {
   "cell_type": "markdown",
   "metadata": {
    "colab_type": "text",
    "id": "r2otAyeFgeb2"
   },
   "source": [
    "### Redimensionner des graphiques Seaborn"
   ]
  },
  {
   "cell_type": "code",
   "execution_count": null,
   "metadata": {
    "colab": {
     "base_uri": "https://localhost:8080/",
     "height": 497
    },
    "colab_type": "code",
    "executionInfo": {
     "elapsed": 2089,
     "status": "ok",
     "timestamp": 1592083185770,
     "user": {
      "displayName": "Rod Paris",
      "photoUrl": "",
      "userId": "10535238717210992784"
     },
     "user_tz": -120
    },
    "id": "N-ZKLrkUgcMY",
    "outputId": "b0f82508-d3ad-4f17-ca15-702127e1062e"
   },
   "outputs": [],
   "source": [
    "plt.figure(figsize=(12, 8))\n",
    "sns.distplot(df['age']);"
   ]
  },
  {
   "cell_type": "code",
   "execution_count": null,
   "metadata": {
    "colab": {
     "base_uri": "https://localhost:8080/",
     "height": 279
    },
    "colab_type": "code",
    "executionInfo": {
     "elapsed": 2286,
     "status": "ok",
     "timestamp": 1592083185975,
     "user": {
      "displayName": "Rod Paris",
      "photoUrl": "",
      "userId": "10535238717210992784"
     },
     "user_tz": -120
    },
    "id": "JlRpw6zAgiGf",
    "outputId": "8187e8db-dce4-474b-9b4b-2789df211cd9"
   },
   "outputs": [],
   "source": [
    "sns.distplot(df['age'],kde=False);"
   ]
  },
  {
   "cell_type": "code",
   "execution_count": null,
   "metadata": {
    "colab": {
     "base_uri": "https://localhost:8080/",
     "height": 279
    },
    "colab_type": "code",
    "executionInfo": {
     "elapsed": 2280,
     "status": "ok",
     "timestamp": 1592083185978,
     "user": {
      "displayName": "Rod Paris",
      "photoUrl": "",
      "userId": "10535238717210992784"
     },
     "user_tz": -120
    },
    "id": "V-aYr6B7g1ft",
    "outputId": "1d6511fe-f9d8-4026-9a84-63d230d95f50"
   },
   "outputs": [],
   "source": [
    "sns.distplot(df['age'],kde=False,bins=40,color='red');"
   ]
  },
  {
   "cell_type": "code",
   "execution_count": null,
   "metadata": {
    "colab": {
     "base_uri": "https://localhost:8080/",
     "height": 279
    },
    "colab_type": "code",
    "executionInfo": {
     "elapsed": 2602,
     "status": "ok",
     "timestamp": 1592083186312,
     "user": {
      "displayName": "Rod Paris",
      "photoUrl": "",
      "userId": "10535238717210992784"
     },
     "user_tz": -120
    },
    "id": "3pYUXZmUg3yT",
    "outputId": "8646255e-3aa1-4be5-ba6a-769ae3882fcc"
   },
   "outputs": [],
   "source": [
    "sns.distplot(df['age'],kde=False,bins=40)\n",
    "# Remarquez la connexion avec Matplotlib !\n",
    "plt.xlim(50,60);"
   ]
  },
  {
   "cell_type": "markdown",
   "metadata": {
    "colab_type": "text",
    "id": "MomBtSc5hCVV"
   },
   "source": [
    "## Graphiques de comptage"
   ]
  },
  {
   "cell_type": "code",
   "execution_count": null,
   "metadata": {
    "colab": {
     "base_uri": "https://localhost:8080/",
     "height": 198
    },
    "colab_type": "code",
    "executionInfo": {
     "elapsed": 2586,
     "status": "ok",
     "timestamp": 1592083186315,
     "user": {
      "displayName": "Rod Paris",
      "photoUrl": "",
      "userId": "10535238717210992784"
     },
     "user_tz": -120
    },
    "id": "p8r3q0emg9J8",
    "outputId": "d6788462-34a5-4a8b-e2c4-c48279ca52f8"
   },
   "outputs": [],
   "source": [
    "df.head()"
   ]
  },
  {
   "cell_type": "code",
   "execution_count": null,
   "metadata": {
    "colab": {
     "base_uri": "https://localhost:8080/",
     "height": 279
    },
    "colab_type": "code",
    "executionInfo": {
     "elapsed": 3025,
     "status": "ok",
     "timestamp": 1592083186765,
     "user": {
      "displayName": "Rod Paris",
      "photoUrl": "",
      "userId": "10535238717210992784"
     },
     "user_tz": -120
    },
    "id": "8xUOKQkVhE5I",
    "outputId": "10553602-4495-4577-ddad-50d9708be49e"
   },
   "outputs": [],
   "source": [
    "sns.countplot(x='sex',data=df);"
   ]
  },
  {
   "cell_type": "code",
   "execution_count": null,
   "metadata": {
    "colab": {
     "base_uri": "https://localhost:8080/",
     "height": 279
    },
    "colab_type": "code",
    "executionInfo": {
     "elapsed": 3015,
     "status": "ok",
     "timestamp": 1592083186766,
     "user": {
      "displayName": "Rod Paris",
      "photoUrl": "",
      "userId": "10535238717210992784"
     },
     "user_tz": -120
    },
    "id": "jXfwSSL9hGYC",
    "outputId": "beefa638-8490-4d2c-9924-8aa558f758de"
   },
   "outputs": [],
   "source": [
    "sns.countplot(x='target',data=df);"
   ]
  },
  {
   "cell_type": "code",
   "execution_count": null,
   "metadata": {
    "colab": {
     "base_uri": "https://localhost:8080/",
     "height": 279
    },
    "colab_type": "code",
    "executionInfo": {
     "elapsed": 3005,
     "status": "ok",
     "timestamp": 1592083186767,
     "user": {
      "displayName": "Rod Paris",
      "photoUrl": "",
      "userId": "10535238717210992784"
     },
     "user_tz": -120
    },
    "id": "nGL46r1DhIMP",
    "outputId": "984501ed-b30b-4925-85bb-2167e2eb17da"
   },
   "outputs": [],
   "source": [
    "sns.countplot(x='cp',data=df);"
   ]
  },
  {
   "cell_type": "code",
   "execution_count": null,
   "metadata": {
    "colab": {
     "base_uri": "https://localhost:8080/",
     "height": 279
    },
    "colab_type": "code",
    "executionInfo": {
     "elapsed": 3487,
     "status": "ok",
     "timestamp": 1592083187259,
     "user": {
      "displayName": "Rod Paris",
      "photoUrl": "",
      "userId": "10535238717210992784"
     },
     "user_tz": -120
    },
    "id": "SjDWfpvJhJ9_",
    "outputId": "8a334922-2194-4429-c84a-8405ee559fde"
   },
   "outputs": [],
   "source": [
    "sns.countplot(x='cp',data=df,hue='sex');"
   ]
  },
  {
   "cell_type": "markdown",
   "metadata": {
    "colab_type": "text",
    "id": "do7C4zqmhPey"
   },
   "source": [
    "Ajout de couleurs basé sur des cartes de couleurs :\n",
    "https://matplotlib.org/3.1.0/tutorials/colors/colormaps.html"
   ]
  },
  {
   "cell_type": "code",
   "execution_count": null,
   "metadata": {
    "colab": {
     "base_uri": "https://localhost:8080/",
     "height": 279
    },
    "colab_type": "code",
    "executionInfo": {
     "elapsed": 3473,
     "status": "ok",
     "timestamp": 1592083187259,
     "user": {
      "displayName": "Rod Paris",
      "photoUrl": "",
      "userId": "10535238717210992784"
     },
     "user_tz": -120
    },
    "id": "i-XyVQG9hMNl",
    "outputId": "4cd347c9-0f16-4e7c-cb4c-a04689b3e38b"
   },
   "outputs": [],
   "source": [
    "sns.countplot(x='cp',data=df,palette='terrain');"
   ]
  },
  {
   "cell_type": "markdown",
   "metadata": {
    "colab_type": "text",
    "id": "Nl1PKmVbhYGc"
   },
   "source": [
    "## Boîtes à moustaches\n",
    "\n",
    "Les diagrammes en boîtes montrent la répartition entre les différentes catégories.\n",
    "\n",
    "<img src= 'https://drive.google.com/uc?export=view&id=1IkUrA_5DBij6u95bkGxFC6H-ZRxbsxyk' style=\"max-width:50%;\">"
   ]
  },
  {
   "cell_type": "code",
   "execution_count": null,
   "metadata": {
    "colab": {
     "base_uri": "https://localhost:8080/",
     "height": 198
    },
    "colab_type": "code",
    "executionInfo": {
     "elapsed": 3456,
     "status": "ok",
     "timestamp": 1592083187260,
     "user": {
      "displayName": "Rod Paris",
      "photoUrl": "",
      "userId": "10535238717210992784"
     },
     "user_tz": -120
    },
    "id": "sfc_VrBhhR0h",
    "outputId": "1b87d044-9c13-4dac-fb72-be923ee36aad"
   },
   "outputs": [],
   "source": [
    "df.head()"
   ]
  },
  {
   "cell_type": "code",
   "execution_count": null,
   "metadata": {
    "colab": {
     "base_uri": "https://localhost:8080/",
     "height": 279
    },
    "colab_type": "code",
    "executionInfo": {
     "elapsed": 3830,
     "status": "ok",
     "timestamp": 1592083187643,
     "user": {
      "displayName": "Rod Paris",
      "photoUrl": "",
      "userId": "10535238717210992784"
     },
     "user_tz": -120
    },
    "id": "T91cVO4aiChk",
    "outputId": "cc40a938-f8e2-40c7-9bfb-5c474339886d"
   },
   "outputs": [],
   "source": [
    "sns.boxplot(x='sex',y='age',data=df);"
   ]
  },
  {
   "cell_type": "code",
   "execution_count": null,
   "metadata": {
    "colab": {
     "base_uri": "https://localhost:8080/",
     "height": 279
    },
    "colab_type": "code",
    "executionInfo": {
     "elapsed": 3821,
     "status": "ok",
     "timestamp": 1592083187644,
     "user": {
      "displayName": "Rod Paris",
      "photoUrl": "",
      "userId": "10535238717210992784"
     },
     "user_tz": -120
    },
    "id": "tvgJoe1RiEGn",
    "outputId": "89cca328-ceea-400e-afaf-10a14a3b49f6"
   },
   "outputs": [],
   "source": [
    "sns.boxplot(x='target',y='thalach',data=df);"
   ]
  },
  {
   "cell_type": "code",
   "execution_count": null,
   "metadata": {
    "colab": {
     "base_uri": "https://localhost:8080/",
     "height": 279
    },
    "colab_type": "code",
    "executionInfo": {
     "elapsed": 3814,
     "status": "ok",
     "timestamp": 1592083187645,
     "user": {
      "displayName": "Rod Paris",
      "photoUrl": "",
      "userId": "10535238717210992784"
     },
     "user_tz": -120
    },
    "id": "k_KO1qZWiF6R",
    "outputId": "13f43d2a-9edc-4056-e5c8-7c5e371ccfd5"
   },
   "outputs": [],
   "source": [
    "sns.boxplot(x='target',y='thalach',data=df,hue='sex');"
   ]
  },
  {
   "cell_type": "markdown",
   "metadata": {
    "colab_type": "text",
    "id": "zrjSkHDtiKnj"
   },
   "source": [
    "## Diagrammes de dispersion\n",
    "\n",
    "Les diagrammes de dispersion montrent la relation entre deux caractéristiques continues.\n",
    "\n",
    "https://seaborn.pydata.org/generated/seaborn.scatterplot.html"
   ]
  },
  {
   "cell_type": "code",
   "execution_count": null,
   "metadata": {
    "colab": {
     "base_uri": "https://localhost:8080/",
     "height": 198
    },
    "colab_type": "code",
    "executionInfo": {
     "elapsed": 3804,
     "status": "ok",
     "timestamp": 1592083187645,
     "user": {
      "displayName": "Rod Paris",
      "photoUrl": "",
      "userId": "10535238717210992784"
     },
     "user_tz": -120
    },
    "id": "EAzzAzqViHmj",
    "outputId": "1f615dc5-9587-4085-cac9-bf712b3a6bb9"
   },
   "outputs": [],
   "source": [
    "df.head()"
   ]
  },
  {
   "cell_type": "code",
   "execution_count": null,
   "metadata": {
    "colab": {
     "base_uri": "https://localhost:8080/",
     "height": 279
    },
    "colab_type": "code",
    "executionInfo": {
     "elapsed": 4182,
     "status": "ok",
     "timestamp": 1592083188035,
     "user": {
      "displayName": "Rod Paris",
      "photoUrl": "",
      "userId": "10535238717210992784"
     },
     "user_tz": -120
    },
    "id": "Q3bzyanRiOgp",
    "outputId": "6e5c6003-95e8-46b6-8947-d054273fbf90"
   },
   "outputs": [],
   "source": [
    "sns.scatterplot(x='chol',y='trestbps',data=df);"
   ]
  },
  {
   "cell_type": "code",
   "execution_count": null,
   "metadata": {
    "colab": {
     "base_uri": "https://localhost:8080/",
     "height": 279
    },
    "colab_type": "code",
    "executionInfo": {
     "elapsed": 4773,
     "status": "ok",
     "timestamp": 1592083188635,
     "user": {
      "displayName": "Rod Paris",
      "photoUrl": "",
      "userId": "10535238717210992784"
     },
     "user_tz": -120
    },
    "id": "ajo6T5pJiQAo",
    "outputId": "c5f1e339-05cf-471b-dd6c-09c9b4c4ac10"
   },
   "outputs": [],
   "source": [
    "sns.scatterplot(x='chol',y='trestbps',data=df,hue='sex');"
   ]
  },
  {
   "cell_type": "code",
   "execution_count": null,
   "metadata": {
    "colab": {
     "base_uri": "https://localhost:8080/",
     "height": 279
    },
    "colab_type": "code",
    "executionInfo": {
     "elapsed": 4765,
     "status": "ok",
     "timestamp": 1592083188636,
     "user": {
      "displayName": "Rod Paris",
      "photoUrl": "",
      "userId": "10535238717210992784"
     },
     "user_tz": -120
    },
    "id": "feGtWhfTiRzx",
    "outputId": "742b745f-67b0-4420-ba92-084e8eefcab0"
   },
   "outputs": [],
   "source": [
    "sns.scatterplot(x='chol',y='trestbps',data=df,hue='sex',palette='Dark2');"
   ]
  },
  {
   "cell_type": "code",
   "execution_count": null,
   "metadata": {
    "colab": {
     "base_uri": "https://localhost:8080/",
     "height": 279
    },
    "colab_type": "code",
    "executionInfo": {
     "elapsed": 5101,
     "status": "ok",
     "timestamp": 1592083188980,
     "user": {
      "displayName": "Rod Paris",
      "photoUrl": "",
      "userId": "10535238717210992784"
     },
     "user_tz": -120
    },
    "id": "9YIwUq9QiT0-",
    "outputId": "5c5ef900-de12-4e7e-eb79-532b11847b02"
   },
   "outputs": [],
   "source": [
    "sns.scatterplot(x='chol',y='trestbps',data=df,hue='sex',size='age');"
   ]
  },
  {
   "cell_type": "markdown",
   "metadata": {
    "colab_type": "text",
    "id": "1JiyKYzOiZOX"
   },
   "source": [
    "## Diagrammes de paires\n",
    "\n",
    "Les diagrammes de paires réalisent des diagrammes de dispersion et des histogrammes pour chaque colonne de votre ensemble de données. Cela signifie qu'il peut s'agir d'un énorme diagramme pour de grands ensembles de données ! À utiliser avec prudence, car cela peut prendre beaucoup de temps pour les grands ensembles de données et les chiffres peuvent être trop petits !\n",
    "\n",
    "INFO: https://seaborn.pydata.org/generated/seaborn.pairplot.html"
   ]
  },
  {
   "cell_type": "code",
   "execution_count": null,
   "metadata": {
    "colab": {},
    "colab_type": "code",
    "id": "UKAz5WReiVm4"
   },
   "outputs": [],
   "source": [
    "iris = pd.read_csv('iris.csv')"
   ]
  },
  {
   "cell_type": "code",
   "execution_count": null,
   "metadata": {
    "colab": {
     "base_uri": "https://localhost:8080/",
     "height": 198
    },
    "colab_type": "code",
    "executionInfo": {
     "elapsed": 5080,
     "status": "ok",
     "timestamp": 1592083188981,
     "user": {
      "displayName": "Rod Paris",
      "photoUrl": "",
      "userId": "10535238717210992784"
     },
     "user_tz": -120
    },
    "id": "gFHxSBmyilt0",
    "outputId": "0b049fab-a871-4075-866e-22adade59b7f"
   },
   "outputs": [],
   "source": [
    "iris.head()"
   ]
  },
  {
   "cell_type": "code",
   "execution_count": null,
   "metadata": {
    "colab": {
     "base_uri": "https://localhost:8080/",
     "height": 748
    },
    "colab_type": "code",
    "executionInfo": {
     "elapsed": 9439,
     "status": "ok",
     "timestamp": 1592083193350,
     "user": {
      "displayName": "Rod Paris",
      "photoUrl": "",
      "userId": "10535238717210992784"
     },
     "user_tz": -120
    },
    "id": "dm1WTH5VinTE",
    "outputId": "9860a071-f99f-4b83-a5de-bce4393859e2"
   },
   "outputs": [],
   "source": [
    "sns.pairplot(iris);"
   ]
  },
  {
   "cell_type": "code",
   "execution_count": null,
   "metadata": {
    "colab": {
     "base_uri": "https://localhost:8080/",
     "height": 748
    },
    "colab_type": "code",
    "executionInfo": {
     "elapsed": 15370,
     "status": "ok",
     "timestamp": 1592083199289,
     "user": {
      "displayName": "Rod Paris",
      "photoUrl": "",
      "userId": "10535238717210992784"
     },
     "user_tz": -120
    },
    "id": "6moVkOQUio8X",
    "outputId": "24ccc20e-8b0d-404d-c1e8-dbe4e66cdcf9"
   },
   "outputs": [],
   "source": [
    "# Affiche les KDEs au lieu des histogrammes le long de la diagonale\n",
    "sns.pairplot(iris, hue=\"species\");"
   ]
  },
  {
   "cell_type": "code",
   "execution_count": null,
   "metadata": {},
   "outputs": [],
   "source": []
  }
 ],
 "metadata": {
  "colab": {
   "authorship_tag": "ABX9TyOdcXjjjHqT24AaPOklNsFw",
   "name": "01-Bases-Seaborn.ipynb",
   "provenance": []
  },
  "kernelspec": {
   "display_name": "Python 3 (ipykernel)",
   "language": "python",
   "name": "python3"
  },
  "language_info": {
   "codemirror_mode": {
    "name": "ipython",
    "version": 3
   },
   "file_extension": ".py",
   "mimetype": "text/x-python",
   "name": "python",
   "nbconvert_exporter": "python",
   "pygments_lexer": "ipython3",
   "version": "3.8.11"
  }
 },
 "nbformat": 4,
 "nbformat_minor": 1
}
