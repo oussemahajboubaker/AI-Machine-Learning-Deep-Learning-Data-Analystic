{
 "cells": [
  {
   "cell_type": "markdown",
   "metadata": {
    "id": "7XiCO_M-TfI7"
   },
   "source": [
    "# RNN Exemple pour l'onde sinusoïdale"
   ]
  },
  {
   "cell_type": "code",
   "execution_count": null,
   "metadata": {
    "id": "V4QppWZFQs6i"
   },
   "outputs": [],
   "source": [
    "import pandas as pd\n",
    "import numpy as np\n",
    "import matplotlib.pyplot as plt"
   ]
  },
  {
   "cell_type": "markdown",
   "metadata": {
    "id": "xfKKs8v6TpTn"
   },
   "source": [
    "## Données\n",
    "\n",
    "Utilisons Numpy pour créer une simple onde sinusoïdale."
   ]
  },
  {
   "cell_type": "code",
   "execution_count": null,
   "metadata": {
    "id": "9k_KTs5NTgXo"
   },
   "outputs": [],
   "source": [
    "x = np.linspace(0,50,501)\n",
    "y = np.sin(x)"
   ]
  },
  {
   "cell_type": "code",
   "execution_count": null,
   "metadata": {
    "colab": {
     "base_uri": "https://localhost:8080/",
     "height": 799
    },
    "executionInfo": {
     "elapsed": 1988,
     "status": "ok",
     "timestamp": 1601540090544,
     "user": {
      "displayName": "Rod Paris",
      "photoUrl": "",
      "userId": "10535238717210992784"
     },
     "user_tz": -120
    },
    "id": "NOLlpoomT20f",
    "outputId": "72a3669d-fc12-4996-98ea-9ccbad8f7969"
   },
   "outputs": [],
   "source": [
    "x"
   ]
  },
  {
   "cell_type": "code",
   "execution_count": null,
   "metadata": {
    "colab": {
     "base_uri": "https://localhost:8080/",
     "height": 1000
    },
    "executionInfo": {
     "elapsed": 1972,
     "status": "ok",
     "timestamp": 1601540090545,
     "user": {
      "displayName": "Rod Paris",
      "photoUrl": "",
      "userId": "10535238717210992784"
     },
     "user_tz": -120
    },
    "id": "jc1ZM--MT4mO",
    "outputId": "247a756e-4959-40d4-8211-9e8e1300ae67"
   },
   "outputs": [],
   "source": [
    "y"
   ]
  },
  {
   "cell_type": "markdown",
   "metadata": {
    "id": "G0Icpu86T_jU"
   },
   "source": [
    "Transformons cela en un DataFrame"
   ]
  },
  {
   "cell_type": "code",
   "execution_count": null,
   "metadata": {
    "id": "93EW25jRT6dl"
   },
   "outputs": [],
   "source": [
    "df = pd.DataFrame(data=y,index=x,columns=['Sinus'])"
   ]
  },
  {
   "cell_type": "code",
   "execution_count": null,
   "metadata": {
    "colab": {
     "base_uri": "https://localhost:8080/",
     "height": 419
    },
    "executionInfo": {
     "elapsed": 2418,
     "status": "ok",
     "timestamp": 1601540091009,
     "user": {
      "displayName": "Rod Paris",
      "photoUrl": "",
      "userId": "10535238717210992784"
     },
     "user_tz": -120
    },
    "id": "CKqiTSyYUDR1",
    "outputId": "115c873a-d2cc-4f39-a8da-534a77ab7e8c"
   },
   "outputs": [],
   "source": [
    "df.head(50)"
   ]
  },
  {
   "cell_type": "markdown",
   "metadata": {
    "id": "sjCBuDncUJhb"
   },
   "source": [
    "## Répartition Train / Test\n",
    "\n",
    "Note ! C'est très différent de notre méthodologie habituelle de répartition Entraînement / Test !"
   ]
  },
  {
   "cell_type": "code",
   "execution_count": null,
   "metadata": {
    "colab": {
     "base_uri": "https://localhost:8080/",
     "height": 34
    },
    "executionInfo": {
     "elapsed": 2404,
     "status": "ok",
     "timestamp": 1601540091011,
     "user": {
      "displayName": "Rod Paris",
      "photoUrl": "",
      "userId": "10535238717210992784"
     },
     "user_tz": -120
    },
    "id": "WJIYP9BiUFAa",
    "outputId": "c2ac5560-825b-4eb2-d4d3-5bce248c64da"
   },
   "outputs": [],
   "source": [
    "len(df)"
   ]
  },
  {
   "cell_type": "code",
   "execution_count": null,
   "metadata": {
    "id": "Rx8uucHdUQQx"
   },
   "outputs": [],
   "source": [
    "test_percent = 0.1"
   ]
  },
  {
   "cell_type": "code",
   "execution_count": null,
   "metadata": {
    "colab": {
     "base_uri": "https://localhost:8080/",
     "height": 34
    },
    "executionInfo": {
     "elapsed": 2387,
     "status": "ok",
     "timestamp": 1601540091014,
     "user": {
      "displayName": "Rod Paris",
      "photoUrl": "",
      "userId": "10535238717210992784"
     },
     "user_tz": -120
    },
    "id": "sHl99oohURzZ",
    "outputId": "5b1791df-ba6e-413e-baa2-ef5414b47452"
   },
   "outputs": [],
   "source": [
    "len(df)*test_percent"
   ]
  },
  {
   "cell_type": "code",
   "execution_count": null,
   "metadata": {
    "id": "ECV6CW6qUTrG"
   },
   "outputs": [],
   "source": [
    "test_point = np.round(len(df)*test_percent)"
   ]
  },
  {
   "cell_type": "code",
   "execution_count": null,
   "metadata": {
    "id": "iDbrhCt1UVtt"
   },
   "outputs": [],
   "source": [
    "test_ind = int(len(df) - test_point)"
   ]
  },
  {
   "cell_type": "code",
   "execution_count": null,
   "metadata": {
    "colab": {
     "base_uri": "https://localhost:8080/",
     "height": 34
    },
    "executionInfo": {
     "elapsed": 2366,
     "status": "ok",
     "timestamp": 1601540091021,
     "user": {
      "displayName": "Rod Paris",
      "photoUrl": "",
      "userId": "10535238717210992784"
     },
     "user_tz": -120
    },
    "id": "wg74DpGbUX3A",
    "outputId": "c2ea9fe4-2c2f-40ad-897a-545e037232c2"
   },
   "outputs": [],
   "source": [
    "test_ind"
   ]
  },
  {
   "cell_type": "code",
   "execution_count": null,
   "metadata": {
    "id": "WX1_PEX0UZoN"
   },
   "outputs": [],
   "source": [
    "train = df.iloc[:test_ind]\n",
    "test = df.iloc[test_ind:]"
   ]
  },
  {
   "cell_type": "code",
   "execution_count": null,
   "metadata": {
    "colab": {
     "base_uri": "https://localhost:8080/",
     "height": 419
    },
    "executionInfo": {
     "elapsed": 2346,
     "status": "ok",
     "timestamp": 1601540091025,
     "user": {
      "displayName": "Rod Paris",
      "photoUrl": "",
      "userId": "10535238717210992784"
     },
     "user_tz": -120
    },
    "id": "qIKg6jbeUb4W",
    "outputId": "ff75076f-95e6-4f71-cb78-c0e431e3191a"
   },
   "outputs": [],
   "source": [
    "train"
   ]
  },
  {
   "cell_type": "code",
   "execution_count": null,
   "metadata": {
    "colab": {
     "base_uri": "https://localhost:8080/",
     "height": 1000
    },
    "executionInfo": {
     "elapsed": 2333,
     "status": "ok",
     "timestamp": 1601540091027,
     "user": {
      "displayName": "Rod Paris",
      "photoUrl": "",
      "userId": "10535238717210992784"
     },
     "user_tz": -120
    },
    "id": "aEX6kWr2Ue0F",
    "outputId": "7dac976a-2d7d-4a56-b884-de60295e91ab"
   },
   "outputs": [],
   "source": [
    "test"
   ]
  },
  {
   "cell_type": "markdown",
   "metadata": {
    "id": "UVVMhnVxUpP6"
   },
   "source": [
    "## Mise à l'échelle des données"
   ]
  },
  {
   "cell_type": "code",
   "execution_count": null,
   "metadata": {
    "id": "72Ho_YjfUiOw"
   },
   "outputs": [],
   "source": [
    "from sklearn.preprocessing import MinMaxScaler"
   ]
  },
  {
   "cell_type": "code",
   "execution_count": null,
   "metadata": {
    "id": "vUJhfVo2UrZt"
   },
   "outputs": [],
   "source": [
    "scaler = MinMaxScaler()"
   ]
  },
  {
   "cell_type": "code",
   "execution_count": null,
   "metadata": {
    "colab": {
     "base_uri": "https://localhost:8080/",
     "height": 34
    },
    "executionInfo": {
     "elapsed": 2324,
     "status": "ok",
     "timestamp": 1601540091039,
     "user": {
      "displayName": "Rod Paris",
      "photoUrl": "",
      "userId": "10535238717210992784"
     },
     "user_tz": -120
    },
    "id": "0sekNmRSUtHN",
    "outputId": "6dcf3943-fbf0-4485-fdbd-aa5ef1ccf83d"
   },
   "outputs": [],
   "source": [
    "scaler.fit(train)"
   ]
  },
  {
   "cell_type": "code",
   "execution_count": null,
   "metadata": {
    "id": "v4qp3w9XUwpc"
   },
   "outputs": [],
   "source": [
    "scaled_train = scaler.transform(train)\n",
    "scaled_test = scaler.transform(test)"
   ]
  },
  {
   "cell_type": "markdown",
   "metadata": {
    "id": "dItg6GNsVKmn"
   },
   "source": [
    "## Générateur de séries temporelles\n",
    "\n",
    "Cette classe examine une série de points de données recueillis à\n",
    "des intervalles égaux, ainsi que des paramètres de séries temporelles tels stride, length , etc., afin de produire des lots pour\n",
    "l'entraînement/validation.\n",
    "\n",
    "#### Arguments\n",
    "    data: Indexable generator (such as list or Numpy array)\n",
    "        containing consecutive data points (timesteps).\n",
    "        The data should be at 2D, and axis 0 is expected\n",
    "        to be the time dimension.\n",
    "    targets: Targets corresponding to timesteps in `data`.\n",
    "        It should have same length as `data`.\n",
    "    length: Length of the output sequences (in number of timesteps).\n",
    "    sampling_rate: Period between successive individual timesteps\n",
    "        within sequences. For rate `r`, timesteps\n",
    "        `data[i]`, `data[i-r]`, ... `data[i - length]`\n",
    "        are used for create a sample sequence.\n",
    "    stride: Period between successive output sequences.\n",
    "        For stride `s`, consecutive output samples would\n",
    "        be centered around `data[i]`, `data[i+s]`, `data[i+2*s]`, etc.\n",
    "    start_index: Data points earlier than `start_index` will not be used\n",
    "        in the output sequences. This is useful to reserve part of the\n",
    "        data for test or validation.\n",
    "    end_index: Data points later than `end_index` will not be used\n",
    "        in the output sequences. This is useful to reserve part of the\n",
    "        data for test or validation.\n",
    "    shuffle: Whether to shuffle output samples,\n",
    "        or instead draw them in chronological order.\n",
    "    reverse: Boolean: if `true`, timesteps in each output sample will be\n",
    "        in reverse chronological order.\n",
    "    batch_size: Number of timeseries samples in each batch\n",
    "        (except maybe the last one)."
   ]
  },
  {
   "cell_type": "code",
   "execution_count": null,
   "metadata": {},
   "outputs": [],
   "source": [
    "scaled_train"
   ]
  },
  {
   "cell_type": "code",
   "execution_count": null,
   "metadata": {
    "id": "e5lCBjy_VHGQ"
   },
   "outputs": [],
   "source": [
    "from tensorflow.keras.preprocessing.sequence import TimeseriesGenerator"
   ]
  },
  {
   "cell_type": "code",
   "execution_count": null,
   "metadata": {
    "id": "Xr61BJFdV2j3"
   },
   "outputs": [],
   "source": [
    "# définir un générateur\n",
    "length = 2 # Longueur des séquences de sortie (en nombre de pas temporel)\n",
    "batch_size = 1 # Nombre d'échantillons de séries temporelles dans chaque batch (lot)\n",
    "generator = TimeseriesGenerator(scaled_train, scaled_train, length=length, batch_size=batch_size)"
   ]
  },
  {
   "cell_type": "code",
   "execution_count": null,
   "metadata": {
    "colab": {
     "base_uri": "https://localhost:8080/",
     "height": 34
    },
    "executionInfo": {
     "elapsed": 3704,
     "status": "ok",
     "timestamp": 1601540092443,
     "user": {
      "displayName": "Rod Paris",
      "photoUrl": "",
      "userId": "10535238717210992784"
     },
     "user_tz": -120
    },
    "id": "M5-cdMKiWJYV",
    "outputId": "82d5b4e7-6523-49bd-ea92-1e5155c6b0fa"
   },
   "outputs": [],
   "source": [
    "len(scaled_train)"
   ]
  },
  {
   "cell_type": "code",
   "execution_count": null,
   "metadata": {
    "colab": {
     "base_uri": "https://localhost:8080/",
     "height": 34
    },
    "executionInfo": {
     "elapsed": 3691,
     "status": "ok",
     "timestamp": 1601540092444,
     "user": {
      "displayName": "Rod Paris",
      "photoUrl": "",
      "userId": "10535238717210992784"
     },
     "user_tz": -120
    },
    "id": "_9qaHEoTWK1f",
    "outputId": "69433453-a45d-4f51-f41f-f392b2baa2c8"
   },
   "outputs": [],
   "source": [
    "len(generator) # n_input = 2"
   ]
  },
  {
   "cell_type": "code",
   "execution_count": null,
   "metadata": {
    "id": "oBtYaY_aWQRY"
   },
   "outputs": [],
   "source": [
    "# À quoi ressemble le premier batch ?\n",
    "X,y = generator[0]"
   ]
  },
  {
   "cell_type": "code",
   "execution_count": null,
   "metadata": {
    "colab": {
     "base_uri": "https://localhost:8080/",
     "height": 85
    },
    "executionInfo": {
     "elapsed": 3674,
     "status": "ok",
     "timestamp": 1601540092445,
     "user": {
      "displayName": "Rod Paris",
      "photoUrl": "",
      "userId": "10535238717210992784"
     },
     "user_tz": -120
    },
    "id": "LWB0ybRFWUV4",
    "outputId": "25cd4b5c-88b6-4db0-8ccb-e1e03280f405"
   },
   "outputs": [],
   "source": [
    "print(f\"Compte tenu du tableau suivant : \\n{X.flatten()}\")\n",
    "print(f'Cela prédit ce y : \\n {y}')"
   ]
  },
  {
   "cell_type": "code",
   "execution_count": null,
   "metadata": {
    "id": "bUpeNEp6WfE2"
   },
   "outputs": [],
   "source": [
    "# Redéfinissons pour obtenir 10 pas en arrière et prédisons ensuite le prochain pas\n",
    "length = 10 # Longueur des séquences de sortie (en nombre de pas temporel)\n",
    "generator = TimeseriesGenerator(scaled_train, scaled_train, length=length, batch_size=1)"
   ]
  },
  {
   "cell_type": "code",
   "execution_count": null,
   "metadata": {
    "id": "BVUbElonWrXI"
   },
   "outputs": [],
   "source": [
    "# À quoi ressemble le premier batch ?\n",
    "X,y = generator[0]"
   ]
  },
  {
   "cell_type": "code",
   "execution_count": null,
   "metadata": {
    "colab": {
     "base_uri": "https://localhost:8080/",
     "height": 102
    },
    "executionInfo": {
     "elapsed": 3649,
     "status": "ok",
     "timestamp": 1601540092448,
     "user": {
      "displayName": "Rod Paris",
      "photoUrl": "",
      "userId": "10535238717210992784"
     },
     "user_tz": -120
    },
    "id": "QuJRcJHVWwlp",
    "outputId": "04399d1f-2ca7-4d12-cabf-c08b98df2e80"
   },
   "outputs": [],
   "source": [
    "print(f\"Compte tenu du tableau suivant: \\n{X.flatten()}\")\n",
    "print(f'Cela prédit ce y : \\n {y}')"
   ]
  },
  {
   "cell_type": "code",
   "execution_count": null,
   "metadata": {
    "id": "ysKAdyjiW0MG"
   },
   "outputs": [],
   "source": [
    "length = 50 # Longueur des séquences de sortie (en nombre de pas temporel)\n",
    "generator = TimeseriesGenerator(scaled_train, scaled_train, length=length, batch_size=1)"
   ]
  },
  {
   "cell_type": "code",
   "execution_count": null,
   "metadata": {},
   "outputs": [],
   "source": [
    "X,y = generator[0]\n",
    "print(f\"Compte tenu du tableau suivant: \\n{X.flatten()}\")\n",
    "print(f'Cela prédit ce y : \\n {y}')"
   ]
  },
  {
   "cell_type": "markdown",
   "metadata": {
    "id": "JAbM9TUxW8-p"
   },
   "source": [
    "Vous allez maintenant pouvoir modifier la longueur de manière à ce qu'elle ait un sens pour votre série temporelle !"
   ]
  },
  {
   "cell_type": "markdown",
   "metadata": {
    "id": "eLZGnjgEXC64"
   },
   "source": [
    "## Créer le modèle"
   ]
  },
  {
   "cell_type": "code",
   "execution_count": null,
   "metadata": {
    "id": "3wBr3kuOW6ee"
   },
   "outputs": [],
   "source": [
    "from tensorflow.keras.models import Sequential\n",
    "from tensorflow.keras.layers import Dense, LSTM, SimpleRNN"
   ]
  },
  {
   "cell_type": "code",
   "execution_count": null,
   "metadata": {
    "id": "IrBrX_PLXMr9"
   },
   "outputs": [],
   "source": [
    "# Nous n'utilisons qu'une seule feature dans notre série temporelle\n",
    "n_features = 1"
   ]
  },
  {
   "cell_type": "code",
   "execution_count": null,
   "metadata": {
    "id": "ldaTCBJjXXFO"
   },
   "outputs": [],
   "source": [
    "# définir le modèle\n",
    "model = Sequential()\n",
    "\n",
    "# Couche simple RNN\n",
    "model.add(SimpleRNN(50,input_shape=(length, n_features)))\n",
    "\n",
    "# Prédiction finale\n",
    "model.add(Dense(1))\n",
    "\n",
    "model.compile(optimizer='adam', loss='mse')"
   ]
  },
  {
   "cell_type": "code",
   "execution_count": null,
   "metadata": {
    "colab": {
     "base_uri": "https://localhost:8080/",
     "height": 221
    },
    "executionInfo": {
     "elapsed": 1492,
     "status": "ok",
     "timestamp": 1601540092950,
     "user": {
      "displayName": "Rod Paris",
      "photoUrl": "",
      "userId": "10535238717210992784"
     },
     "user_tz": -120
    },
    "id": "Yn2g_h9MXf07",
    "outputId": "2e607a9f-38be-4d5f-a794-ec64cab2e0c5"
   },
   "outputs": [],
   "source": [
    "model.summary()"
   ]
  },
  {
   "cell_type": "code",
   "execution_count": null,
   "metadata": {
    "colab": {
     "base_uri": "https://localhost:8080/",
     "height": 204
    },
    "executionInfo": {
     "elapsed": 13230,
     "status": "ok",
     "timestamp": 1601540106027,
     "user": {
      "displayName": "Rod Paris",
      "photoUrl": "",
      "userId": "10535238717210992784"
     },
     "user_tz": -120
    },
    "id": "sNwCFGTeXhra",
    "outputId": "2cd3beaa-0589-4e7b-bee1-e8a0d5104edf"
   },
   "outputs": [],
   "source": [
    "# ajustement du modèle\n",
    "model.fit(generator,epochs=5)"
   ]
  },
  {
   "cell_type": "code",
   "execution_count": null,
   "metadata": {
    "colab": {
     "base_uri": "https://localhost:8080/",
     "height": 34
    },
    "executionInfo": {
     "elapsed": 12682,
     "status": "ok",
     "timestamp": 1601540106029,
     "user": {
      "displayName": "Rod Paris",
      "photoUrl": "",
      "userId": "10535238717210992784"
     },
     "user_tz": -120
    },
    "id": "zFxtt_hPXnLU",
    "outputId": "7504c3cb-61b6-475a-e6b5-00f31e104707"
   },
   "outputs": [],
   "source": [
    "model.history.history.keys()"
   ]
  },
  {
   "cell_type": "code",
   "execution_count": null,
   "metadata": {
    "colab": {
     "base_uri": "https://localhost:8080/",
     "height": 282
    },
    "executionInfo": {
     "elapsed": 12545,
     "status": "ok",
     "timestamp": 1601540106445,
     "user": {
      "displayName": "Rod Paris",
      "photoUrl": "",
      "userId": "10535238717210992784"
     },
     "user_tz": -120
    },
    "id": "F2TnYnRbX0Wu",
    "outputId": "d6234230-7e94-4e86-fd37-72780ec0ae5d"
   },
   "outputs": [],
   "source": [
    "losses = pd.DataFrame(model.history.history)\n",
    "losses.plot()"
   ]
  },
  {
   "cell_type": "markdown",
   "metadata": {
    "id": "7iFBrv69YACk"
   },
   "source": [
    "## Évaluer sur les données de test"
   ]
  },
  {
   "cell_type": "code",
   "execution_count": null,
   "metadata": {
    "id": "cnJA8oRhX5TI"
   },
   "outputs": [],
   "source": [
    "first_eval_batch = scaled_train[-length:]"
   ]
  },
  {
   "cell_type": "code",
   "execution_count": null,
   "metadata": {
    "colab": {
     "base_uri": "https://localhost:8080/",
     "height": 867
    },
    "executionInfo": {
     "elapsed": 9967,
     "status": "ok",
     "timestamp": 1601540106446,
     "user": {
      "displayName": "Rod Paris",
      "photoUrl": "",
      "userId": "10535238717210992784"
     },
     "user_tz": -120
    },
    "id": "QhLt7PbjYCRb",
    "outputId": "88ad501f-f65d-4687-affc-b93968ca502e"
   },
   "outputs": [],
   "source": [
    "first_eval_batch"
   ]
  },
  {
   "cell_type": "code",
   "execution_count": null,
   "metadata": {
    "id": "YAGlGcYNYDzV"
   },
   "outputs": [],
   "source": [
    "first_eval_batch = first_eval_batch.reshape((1, length, n_features))"
   ]
  },
  {
   "cell_type": "code",
   "execution_count": null,
   "metadata": {
    "colab": {
     "base_uri": "https://localhost:8080/",
     "height": 34
    },
    "executionInfo": {
     "elapsed": 8502,
     "status": "ok",
     "timestamp": 1601540106448,
     "user": {
      "displayName": "Rod Paris",
      "photoUrl": "",
      "userId": "10535238717210992784"
     },
     "user_tz": -120
    },
    "id": "lcb2cyIPYGAf",
    "outputId": "c46a9fe1-a1c8-43b8-d2fd-6b24d8df4044"
   },
   "outputs": [],
   "source": [
    "model.predict(first_eval_batch)"
   ]
  },
  {
   "cell_type": "code",
   "execution_count": null,
   "metadata": {
    "colab": {
     "base_uri": "https://localhost:8080/",
     "height": 34
    },
    "executionInfo": {
     "elapsed": 8426,
     "status": "ok",
     "timestamp": 1601540106855,
     "user": {
      "displayName": "Rod Paris",
      "photoUrl": "",
      "userId": "10535238717210992784"
     },
     "user_tz": -120
    },
    "id": "w7bDj520YH8x",
    "outputId": "dc3750f2-032f-43e1-fe11-0d238245c7ef"
   },
   "outputs": [],
   "source": [
    "scaled_test[0]"
   ]
  },
  {
   "cell_type": "markdown",
   "metadata": {
    "id": "hE_Wvz06YvWS"
   },
   "source": [
    "Mettons maintenant cette logique dans une boucle for pour prédire l'avenir pour toute la gamme de test.\n",
    "\n",
    "----"
   ]
  },
  {
   "cell_type": "code",
   "execution_count": null,
   "metadata": {
    "id": "YeVHQpLZYrSf"
   },
   "outputs": [],
   "source": [
    "test_predictions = []\n",
    "\n",
    "first_eval_batch = scaled_train[-length:]\n",
    "current_batch = first_eval_batch.reshape((1, length, n_features))"
   ]
  },
  {
   "cell_type": "code",
   "execution_count": null,
   "metadata": {
    "colab": {
     "base_uri": "https://localhost:8080/",
     "height": 34
    },
    "executionInfo": {
     "elapsed": 7480,
     "status": "ok",
     "timestamp": 1601540106856,
     "user": {
      "displayName": "Rod Paris",
      "photoUrl": "",
      "userId": "10535238717210992784"
     },
     "user_tz": -120
    },
    "id": "pQzoWmT-ZGUt",
    "outputId": "f399f898-f550-4c53-e797-425a5b661698"
   },
   "outputs": [],
   "source": [
    "current_batch.shape"
   ]
  },
  {
   "cell_type": "code",
   "execution_count": null,
   "metadata": {
    "colab": {
     "base_uri": "https://localhost:8080/",
     "height": 867
    },
    "executionInfo": {
     "elapsed": 7183,
     "status": "ok",
     "timestamp": 1601540106857,
     "user": {
      "displayName": "Rod Paris",
      "photoUrl": "",
      "userId": "10535238717210992784"
     },
     "user_tz": -120
    },
    "id": "1HQkNrtQZIer",
    "outputId": "a2b78937-447e-4f56-a568-583f8bcb1cee"
   },
   "outputs": [],
   "source": [
    "current_batch"
   ]
  },
  {
   "cell_type": "code",
   "execution_count": null,
   "metadata": {
    "colab": {
     "base_uri": "https://localhost:8080/",
     "height": 867
    },
    "executionInfo": {
     "elapsed": 6850,
     "status": "ok",
     "timestamp": 1601540106857,
     "user": {
      "displayName": "Rod Paris",
      "photoUrl": "",
      "userId": "10535238717210992784"
     },
     "user_tz": -120
    },
    "id": "A61ywPi3ZKKH",
    "outputId": "cb0711ed-8cda-4ee4-e2b9-1cfca74ca585"
   },
   "outputs": [],
   "source": [
    "np.append(current_batch[:,1:,:],[[[99]]],axis=1)"
   ]
  },
  {
   "cell_type": "code",
   "execution_count": null,
   "metadata": {
    "id": "F_leL0vwZMOF"
   },
   "outputs": [],
   "source": [
    "test_predictions = []\n",
    "\n",
    "first_eval_batch = scaled_train[-length:]\n",
    "current_batch = first_eval_batch.reshape((1, length, n_features))\n",
    "\n",
    "for i in range(len(test)):\n",
    "    \n",
    "    # obtenir la prédiction avec 1 timestamp d'avance ([0] pour ne saisir que le nombre au lieu de [array])\n",
    "    current_pred = model.predict(current_batch)[0]\n",
    "    \n",
    "    # stocker la prédiction\n",
    "    test_predictions.append(current_pred) \n",
    "    \n",
    "    # mise à jour du batch pour inclure maintenant la prédiction et supprimer la première valeur\n",
    "    current_batch = np.append(current_batch[:,1:,:],[[current_pred]],axis=1)"
   ]
  },
  {
   "cell_type": "code",
   "execution_count": null,
   "metadata": {
    "colab": {
     "base_uri": "https://localhost:8080/",
     "height": 867
    },
    "executionInfo": {
     "elapsed": 8016,
     "status": "ok",
     "timestamp": 1601540109194,
     "user": {
      "displayName": "Rod Paris",
      "photoUrl": "",
      "userId": "10535238717210992784"
     },
     "user_tz": -120
    },
    "id": "3erdmBnoZii1",
    "outputId": "369ad6f5-8291-472e-c5e0-37fc7ebc951a"
   },
   "outputs": [],
   "source": [
    "test_predictions"
   ]
  },
  {
   "cell_type": "code",
   "execution_count": null,
   "metadata": {
    "colab": {
     "base_uri": "https://localhost:8080/",
     "height": 867
    },
    "executionInfo": {
     "elapsed": 7489,
     "status": "ok",
     "timestamp": 1601540109196,
     "user": {
      "displayName": "Rod Paris",
      "photoUrl": "",
      "userId": "10535238717210992784"
     },
     "user_tz": -120
    },
    "id": "aOY-nT0CZkav",
    "outputId": "15c44428-2dfe-46a0-90eb-0dfbaee9229e"
   },
   "outputs": [],
   "source": [
    "scaled_test"
   ]
  },
  {
   "cell_type": "markdown",
   "metadata": {
    "id": "qu8fsAOzZ6ja"
   },
   "source": [
    "## Transformations inverses et Comparaison"
   ]
  },
  {
   "cell_type": "code",
   "execution_count": null,
   "metadata": {
    "id": "1tPwRQ9EZmVQ"
   },
   "outputs": [],
   "source": [
    "true_predictions = scaler.inverse_transform(test_predictions)"
   ]
  },
  {
   "cell_type": "code",
   "execution_count": null,
   "metadata": {
    "colab": {
     "base_uri": "https://localhost:8080/",
     "height": 867
    },
    "executionInfo": {
     "elapsed": 5286,
     "status": "ok",
     "timestamp": 1601540109200,
     "user": {
      "displayName": "Rod Paris",
      "photoUrl": "",
      "userId": "10535238717210992784"
     },
     "user_tz": -120
    },
    "id": "6S1o4nVWZ88q",
    "outputId": "8b86ee91-e4b2-448e-c122-81570dbaa5dc"
   },
   "outputs": [],
   "source": [
    "true_predictions"
   ]
  },
  {
   "cell_type": "code",
   "execution_count": null,
   "metadata": {
    "colab": {
     "base_uri": "https://localhost:8080/",
     "height": 1000
    },
    "executionInfo": {
     "elapsed": 5020,
     "status": "ok",
     "timestamp": 1601540109201,
     "user": {
      "displayName": "Rod Paris",
      "photoUrl": "",
      "userId": "10535238717210992784"
     },
     "user_tz": -120
    },
    "id": "hG79ArabZ-Yz",
    "outputId": "e3509290-1f70-4760-8b4d-8275ce632733"
   },
   "outputs": [],
   "source": [
    "test"
   ]
  },
  {
   "cell_type": "code",
   "execution_count": null,
   "metadata": {
    "colab": {
     "base_uri": "https://localhost:8080/",
     "height": 139
    },
    "executionInfo": {
     "elapsed": 4825,
     "status": "ok",
     "timestamp": 1601540109202,
     "user": {
      "displayName": "Rod Paris",
      "photoUrl": "",
      "userId": "10535238717210992784"
     },
     "user_tz": -120
    },
    "id": "uCEN8xf8aAPm",
    "outputId": "5875c1ef-25a8-483c-b016-03f84e1dae9c"
   },
   "outputs": [],
   "source": [
    "# Ignorez le warning\n",
    "test['Predictions'] = true_predictions"
   ]
  },
  {
   "cell_type": "code",
   "execution_count": null,
   "metadata": {
    "colab": {
     "base_uri": "https://localhost:8080/",
     "height": 1000
    },
    "executionInfo": {
     "elapsed": 4567,
     "status": "ok",
     "timestamp": 1601540109202,
     "user": {
      "displayName": "Rod Paris",
      "photoUrl": "",
      "userId": "10535238717210992784"
     },
     "user_tz": -120
    },
    "id": "RCFf3i7gaDAR",
    "outputId": "025084d5-6c7f-45a0-b959-843dcb56dbeb"
   },
   "outputs": [],
   "source": [
    "test"
   ]
  },
  {
   "cell_type": "code",
   "execution_count": null,
   "metadata": {
    "colab": {
     "base_uri": "https://localhost:8080/",
     "height": 500
    },
    "executionInfo": {
     "elapsed": 3840,
     "status": "ok",
     "timestamp": 1601540109203,
     "user": {
      "displayName": "Rod Paris",
      "photoUrl": "",
      "userId": "10535238717210992784"
     },
     "user_tz": -120
    },
    "id": "1H471NWNaKJq",
    "outputId": "3f84ab6a-1069-497d-d6c3-ebb55bc8c63b"
   },
   "outputs": [],
   "source": [
    "test.plot(figsize=(12,8))"
   ]
  },
  {
   "cell_type": "markdown",
   "metadata": {
    "id": "FCxjj-54aQn6"
   },
   "source": [
    "## Ajout d'un Early Stopping et d'un Générateur de Validation"
   ]
  },
  {
   "cell_type": "code",
   "execution_count": null,
   "metadata": {
    "id": "KQk8fOMPaMns"
   },
   "outputs": [],
   "source": [
    "from tensorflow.keras.callbacks import EarlyStopping"
   ]
  },
  {
   "cell_type": "code",
   "execution_count": null,
   "metadata": {
    "id": "t5dss8_haYbC"
   },
   "outputs": [],
   "source": [
    "early_stop = EarlyStopping(monitor='val_loss',patience=2)"
   ]
  },
  {
   "cell_type": "code",
   "execution_count": null,
   "metadata": {
    "id": "tYgklnYkaZ4B"
   },
   "outputs": [],
   "source": [
    "length = 49\n",
    "generator = TimeseriesGenerator(scaled_train,scaled_train,\n",
    "                               length=length,batch_size=1)\n",
    "\n",
    "\n",
    "validation_generator = TimeseriesGenerator(scaled_test,scaled_test,\n",
    "                                          length=length,batch_size=1)"
   ]
  },
  {
   "cell_type": "markdown",
   "metadata": {
    "id": "PRtdN4kranr8"
   },
   "source": [
    "## LSTMS"
   ]
  },
  {
   "cell_type": "code",
   "execution_count": null,
   "metadata": {
    "id": "Pc1tlyAJacb2"
   },
   "outputs": [],
   "source": [
    "# définir le modèle\n",
    "model = Sequential()\n",
    "\n",
    "# Couche LSTM\n",
    "model.add(LSTM(50,input_shape=(length, n_features)))\n",
    "\n",
    "# Prédiction finale\n",
    "model.add(Dense(1))\n",
    "\n",
    "model.compile(optimizer='adam', loss='mse')"
   ]
  },
  {
   "cell_type": "code",
   "execution_count": null,
   "metadata": {
    "colab": {
     "base_uri": "https://localhost:8080/",
     "height": 204
    },
    "executionInfo": {
     "elapsed": 28827,
     "status": "ok",
     "timestamp": 1601540139107,
     "user": {
      "displayName": "Rod Paris",
      "photoUrl": "",
      "userId": "10535238717210992784"
     },
     "user_tz": -120
    },
    "id": "iv7Dg0pjaw5P",
    "outputId": "2bbbf35f-0dc8-4c2d-f31b-b4c1ab819af6"
   },
   "outputs": [],
   "source": [
    "model.fit(generator,epochs=20,\n",
    "          validation_data=validation_generator,\n",
    "          callbacks=[early_stop])"
   ]
  },
  {
   "cell_type": "code",
   "execution_count": null,
   "metadata": {},
   "outputs": [],
   "source": [
    "model.summary()"
   ]
  },
  {
   "cell_type": "code",
   "execution_count": null,
   "metadata": {
    "id": "nxsAQ01Ray0p"
   },
   "outputs": [],
   "source": [
    "test_predictions = []\n",
    "\n",
    "first_eval_batch = scaled_train[-length:]\n",
    "current_batch = first_eval_batch.reshape((1, length, n_features))\n",
    "\n",
    "for i in range(len(test)):\n",
    "    \n",
    "    # obtenir la prédiction avec 1 timestamp d'avance ([0] pour ne saisir que le nombre au lieu de [array])\n",
    "    current_pred = model.predict(current_batch)[0]\n",
    "    \n",
    "    # stocker la prédiction\n",
    "    test_predictions.append(current_pred) \n",
    "    \n",
    "    # mise à jour du batch pour inclure maintenant la prédiction et supprimer la première valeur\n",
    "    current_batch = np.append(current_batch[:,1:,:],[[current_pred]],axis=1)"
   ]
  },
  {
   "cell_type": "code",
   "execution_count": null,
   "metadata": {
    "colab": {
     "base_uri": "https://localhost:8080/",
     "height": 607
    },
    "executionInfo": {
     "elapsed": 39188,
     "status": "ok",
     "timestamp": 1601411150767,
     "user": {
      "displayName": "Rod Paris",
      "photoUrl": "",
      "userId": "10535238717210992784"
     },
     "user_tz": -120
    },
    "id": "s5O48YLabAe_",
    "outputId": "a3da1415-6dca-486a-fdcb-ee150a6f1e08"
   },
   "outputs": [],
   "source": [
    "# Ignorez le warning\n",
    "true_predictions = scaler.inverse_transform(test_predictions)\n",
    "test['LSTM Predictions'] = true_predictions\n",
    "test.plot(figsize=(12,8))"
   ]
  },
  {
   "cell_type": "markdown",
   "metadata": {
    "id": "zRsl9WupbJjT"
   },
   "source": [
    "## Prévisions\n",
    "\n",
    "Prévisions dans un intervalle inconnu. Nous devrions d'abord utiliser toutes nos données, puisque nous faisons maintenant des prévisions !"
   ]
  },
  {
   "cell_type": "code",
   "execution_count": null,
   "metadata": {
    "id": "l8oF19EsbEo7"
   },
   "outputs": [],
   "source": [
    "full_scaler = MinMaxScaler()\n",
    "scaled_full_data = full_scaler.fit_transform(df)"
   ]
  },
  {
   "cell_type": "code",
   "execution_count": null,
   "metadata": {
    "id": "HE5i9zJ6bavz"
   },
   "outputs": [],
   "source": [
    "length = 50 # Longueur des séquences de sortie (en nombre de pas temporel)\n",
    "generator = TimeseriesGenerator(scaled_full_data, scaled_full_data, length=length, batch_size=1)"
   ]
  },
  {
   "cell_type": "code",
   "execution_count": null,
   "metadata": {
    "colab": {
     "base_uri": "https://localhost:8080/",
     "height": 238
    },
    "executionInfo": {
     "elapsed": 38413,
     "status": "ok",
     "timestamp": 1601540192319,
     "user": {
      "displayName": "Rod Paris",
      "photoUrl": "",
      "userId": "10535238717210992784"
     },
     "user_tz": -120
    },
    "id": "ovw2DQHzbgRU",
    "outputId": "dccdec67-e7e5-4a78-d693-c00d94d1ce06"
   },
   "outputs": [],
   "source": [
    "model = Sequential()\n",
    "model.add(LSTM(50, input_shape=(length, n_features)))\n",
    "model.add(Dense(1))\n",
    "model.compile(optimizer='adam', loss='mse')\n",
    "model.fit(generator,epochs=6)"
   ]
  },
  {
   "cell_type": "code",
   "execution_count": null,
   "metadata": {
    "id": "MOKhavJdbiQl"
   },
   "outputs": [],
   "source": [
    "forecast = []\n",
    "\n",
    "first_eval_batch = scaled_full_data[-length:]\n",
    "current_batch = first_eval_batch.reshape((1, length, n_features))\n",
    "\n",
    "for i in range(100):\n",
    "    \n",
    "    # obtenir la prédiction avec 1 timestamp d'avance ([0] pour ne saisir que le nombre au lieu de [array])\n",
    "    current_pred = model.predict(current_batch)[0]\n",
    "    \n",
    "    # stocker la prédiction\n",
    "    forecast.append(current_pred) \n",
    "    \n",
    "    # mise à jour du batch pour inclure maintenant la prédiction et supprimer la première valeur\n",
    "    current_batch = np.append(current_batch[:,1:,:],[[current_pred]],axis=1)"
   ]
  },
  {
   "cell_type": "code",
   "execution_count": null,
   "metadata": {
    "id": "oPpZsUrEbylF"
   },
   "outputs": [],
   "source": [
    "forecast = full_scaler.inverse_transform(forecast)"
   ]
  },
  {
   "cell_type": "code",
   "execution_count": null,
   "metadata": {
    "colab": {
     "base_uri": "https://localhost:8080/",
     "height": 867
    },
    "executionInfo": {
     "elapsed": 39401,
     "status": "ok",
     "timestamp": 1601540194602,
     "user": {
      "displayName": "Rod Paris",
      "photoUrl": "",
      "userId": "10535238717210992784"
     },
     "user_tz": -120
    },
    "id": "AgOe7eaHbzai",
    "outputId": "156f4cfd-2c48-4ce8-87c2-ddc9b4484cbf"
   },
   "outputs": [],
   "source": [
    "forecast"
   ]
  },
  {
   "cell_type": "code",
   "execution_count": null,
   "metadata": {
    "colab": {
     "base_uri": "https://localhost:8080/",
     "height": 419
    },
    "executionInfo": {
     "elapsed": 38950,
     "status": "ok",
     "timestamp": 1601540194603,
     "user": {
      "displayName": "Rod Paris",
      "photoUrl": "",
      "userId": "10535238717210992784"
     },
     "user_tz": -120
    },
    "id": "nAMXfE_rb04w",
    "outputId": "59355b21-8220-4220-fd07-9ba8b4b794ff"
   },
   "outputs": [],
   "source": [
    "df"
   ]
  },
  {
   "cell_type": "code",
   "execution_count": null,
   "metadata": {
    "colab": {
     "base_uri": "https://localhost:8080/",
     "height": 34
    },
    "executionInfo": {
     "elapsed": 38335,
     "status": "ok",
     "timestamp": 1601540194604,
     "user": {
      "displayName": "Rod Paris",
      "photoUrl": "",
      "userId": "10535238717210992784"
     },
     "user_tz": -120
    },
    "id": "Oxilhz1mb2wd",
    "outputId": "b7bc386e-875e-4020-973e-5e3cca1ea30c"
   },
   "outputs": [],
   "source": [
    "len(forecast)"
   ]
  },
  {
   "cell_type": "code",
   "execution_count": null,
   "metadata": {
    "colab": {
     "base_uri": "https://localhost:8080/",
     "height": 34
    },
    "executionInfo": {
     "elapsed": 37650,
     "status": "ok",
     "timestamp": 1601540194604,
     "user": {
      "displayName": "Rod Paris",
      "photoUrl": "",
      "userId": "10535238717210992784"
     },
     "user_tz": -120
    },
    "id": "GKAekekYcM4w",
    "outputId": "46aac021-3291-4d8d-df5a-3067ea5db35d"
   },
   "outputs": [],
   "source": [
    "50*0.1"
   ]
  },
  {
   "cell_type": "code",
   "execution_count": null,
   "metadata": {
    "id": "fOnoJug4cOW9"
   },
   "outputs": [],
   "source": [
    "forecast_index = np.arange(50.1,60.1,step=0.1)"
   ]
  },
  {
   "cell_type": "code",
   "execution_count": null,
   "metadata": {
    "colab": {
     "base_uri": "https://localhost:8080/",
     "height": 34
    },
    "executionInfo": {
     "elapsed": 36799,
     "status": "ok",
     "timestamp": 1601540194605,
     "user": {
      "displayName": "Rod Paris",
      "photoUrl": "",
      "userId": "10535238717210992784"
     },
     "user_tz": -120
    },
    "id": "TS5mXIIicQCB",
    "outputId": "d3655dc4-41fa-4d37-f786-b308d17d3bd1"
   },
   "outputs": [],
   "source": [
    "len(forecast_index)"
   ]
  },
  {
   "cell_type": "code",
   "execution_count": null,
   "metadata": {
    "colab": {
     "base_uri": "https://localhost:8080/",
     "height": 282
    },
    "executionInfo": {
     "elapsed": 36230,
     "status": "ok",
     "timestamp": 1601540194606,
     "user": {
      "displayName": "Rod Paris",
      "photoUrl": "",
      "userId": "10535238717210992784"
     },
     "user_tz": -120
    },
    "id": "tcFDU-mBcRyC",
    "outputId": "94ab3dc6-44a3-441d-c4b8-f38f989e2c10"
   },
   "outputs": [],
   "source": [
    "plt.plot(df.index,df['Sinus'])\n",
    "plt.plot(forecast_index,forecast)"
   ]
  },
  {
   "cell_type": "code",
   "execution_count": null,
   "metadata": {},
   "outputs": [],
   "source": []
  },
  {
   "cell_type": "code",
   "execution_count": null,
   "metadata": {},
   "outputs": [],
   "source": []
  }
 ],
 "metadata": {
  "colab": {
   "authorship_tag": "ABX9TyPOuwl6TAqPsA+RA/j2NnIZ",
   "name": "00-RNN-Exemple-Sinusoïdale.ipynb",
   "provenance": []
  },
  "kernelspec": {
   "display_name": "IA2023",
   "language": "python",
   "name": "ia2023"
  },
  "language_info": {
   "codemirror_mode": {
    "name": "ipython",
    "version": 3
   },
   "file_extension": ".py",
   "mimetype": "text/x-python",
   "name": "python",
   "nbconvert_exporter": "python",
   "pygments_lexer": "ipython3",
   "version": "3.9.18"
  }
 },
 "nbformat": 4,
 "nbformat_minor": 1
}
